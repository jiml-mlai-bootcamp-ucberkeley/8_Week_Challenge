{
 "cells": [
  {
   "cell_type": "code",
   "execution_count": 1,
   "id": "6d8db377",
   "metadata": {},
   "outputs": [],
   "source": [
    "from warnings import filterwarnings \n",
    "filterwarnings(\"ignore\")\n",
    "\n",
    "import pandas as pd\n",
    "import matplotlib.pyplot as plt\n",
    "import numpy as np\n",
    "\n",
    "from sklearn.cluster import KMeans\n",
    "from sklearn.mixture import GaussianMixture"
   ]
  },
  {
   "cell_type": "markdown",
   "id": "9ef6c594",
   "metadata": {},
   "source": [
    "#### Read the outliers file and add a feature \"prev_sold_year\""
   ]
  },
  {
   "cell_type": "code",
   "execution_count": 2,
   "id": "29612711",
   "metadata": {},
   "outputs": [],
   "source": [
    "config = [{\"nj\":\"NewJersey\"},{\"ny\":\"NewYork\"},{\"pa\":\"Pennsylvania\"},{\"ma\":\"Massachusetts\"},{\"ct\":\"Connecticut\"}]\n",
    "folder, state = '',''\n",
    "for key, value in config[4].items():\n",
    "    folder = key\n",
    "    state = value"
   ]
  },
  {
   "cell_type": "code",
   "execution_count": 3,
   "id": "bb94d67f-0d1a-41f6-b574-1979beaebb3d",
   "metadata": {},
   "outputs": [],
   "source": [
    "realtor_data_df = pd.read_csv(folder + '/' + state + '-realtor-data.csv')"
   ]
  },
  {
   "cell_type": "code",
   "execution_count": 4,
   "id": "c7ed6068",
   "metadata": {},
   "outputs": [],
   "source": [
    "realtor_data_df.drop(columns=['Unnamed: 0'],inplace=True)"
   ]
  },
  {
   "cell_type": "markdown",
   "id": "3952f79b",
   "metadata": {},
   "source": [
    "#### Create a feature that will append '0' to the zipcode feature"
   ]
  },
  {
   "cell_type": "code",
   "execution_count": 5,
   "id": "aeefc3c3",
   "metadata": {},
   "outputs": [
    {
     "data": {
      "text/html": [
       "<div>\n",
       "<style scoped>\n",
       "    .dataframe tbody tr th:only-of-type {\n",
       "        vertical-align: middle;\n",
       "    }\n",
       "\n",
       "    .dataframe tbody tr th {\n",
       "        vertical-align: top;\n",
       "    }\n",
       "\n",
       "    .dataframe thead th {\n",
       "        text-align: right;\n",
       "    }\n",
       "</style>\n",
       "<table border=\"1\" class=\"dataframe\">\n",
       "  <thead>\n",
       "    <tr style=\"text-align: right;\">\n",
       "      <th></th>\n",
       "      <th>status</th>\n",
       "      <th>bed</th>\n",
       "      <th>bath</th>\n",
       "      <th>acre_lot</th>\n",
       "      <th>city</th>\n",
       "      <th>state</th>\n",
       "      <th>zip_code</th>\n",
       "      <th>house_size</th>\n",
       "      <th>prev_sold_date</th>\n",
       "      <th>price</th>\n",
       "      <th>prev_sold_year</th>\n",
       "    </tr>\n",
       "  </thead>\n",
       "  <tbody>\n",
       "    <tr>\n",
       "      <th>0</th>\n",
       "      <td>for_sale</td>\n",
       "      <td>3.0</td>\n",
       "      <td>1.0</td>\n",
       "      <td>3.93</td>\n",
       "      <td>Willington</td>\n",
       "      <td>Connecticut</td>\n",
       "      <td>6279.0</td>\n",
       "      <td>1572.0</td>\n",
       "      <td>NaN</td>\n",
       "      <td>225000.0</td>\n",
       "      <td>NaN</td>\n",
       "    </tr>\n",
       "    <tr>\n",
       "      <th>1</th>\n",
       "      <td>for_sale</td>\n",
       "      <td>4.0</td>\n",
       "      <td>3.0</td>\n",
       "      <td>2.34</td>\n",
       "      <td>Coventry</td>\n",
       "      <td>Connecticut</td>\n",
       "      <td>6238.0</td>\n",
       "      <td>3320.0</td>\n",
       "      <td>2021-06-01</td>\n",
       "      <td>579900.0</td>\n",
       "      <td>2021.0</td>\n",
       "    </tr>\n",
       "    <tr>\n",
       "      <th>2</th>\n",
       "      <td>for_sale</td>\n",
       "      <td>1.0</td>\n",
       "      <td>1.0</td>\n",
       "      <td>NaN</td>\n",
       "      <td>Willington</td>\n",
       "      <td>Connecticut</td>\n",
       "      <td>6279.0</td>\n",
       "      <td>680.0</td>\n",
       "      <td>2019-08-16</td>\n",
       "      <td>65000.0</td>\n",
       "      <td>2019.0</td>\n",
       "    </tr>\n",
       "    <tr>\n",
       "      <th>3</th>\n",
       "      <td>for_sale</td>\n",
       "      <td>2.0</td>\n",
       "      <td>1.0</td>\n",
       "      <td>0.91</td>\n",
       "      <td>East Windsor</td>\n",
       "      <td>Connecticut</td>\n",
       "      <td>6016.0</td>\n",
       "      <td>960.0</td>\n",
       "      <td>2012-06-06</td>\n",
       "      <td>215000.0</td>\n",
       "      <td>2012.0</td>\n",
       "    </tr>\n",
       "    <tr>\n",
       "      <th>4</th>\n",
       "      <td>for_sale</td>\n",
       "      <td>2.0</td>\n",
       "      <td>1.0</td>\n",
       "      <td>0.36</td>\n",
       "      <td>Vernon</td>\n",
       "      <td>Connecticut</td>\n",
       "      <td>6066.0</td>\n",
       "      <td>860.0</td>\n",
       "      <td>2016-09-02</td>\n",
       "      <td>144900.0</td>\n",
       "      <td>2016.0</td>\n",
       "    </tr>\n",
       "  </tbody>\n",
       "</table>\n",
       "</div>"
      ],
      "text/plain": [
       "     status  bed  bath  acre_lot          city        state  zip_code  \\\n",
       "0  for_sale  3.0   1.0      3.93    Willington  Connecticut    6279.0   \n",
       "1  for_sale  4.0   3.0      2.34      Coventry  Connecticut    6238.0   \n",
       "2  for_sale  1.0   1.0       NaN    Willington  Connecticut    6279.0   \n",
       "3  for_sale  2.0   1.0      0.91  East Windsor  Connecticut    6016.0   \n",
       "4  for_sale  2.0   1.0      0.36        Vernon  Connecticut    6066.0   \n",
       "\n",
       "   house_size prev_sold_date     price  prev_sold_year  \n",
       "0      1572.0            NaN  225000.0             NaN  \n",
       "1      3320.0     2021-06-01  579900.0          2021.0  \n",
       "2       680.0     2019-08-16   65000.0          2019.0  \n",
       "3       960.0     2012-06-06  215000.0          2012.0  \n",
       "4       860.0     2016-09-02  144900.0          2016.0  "
      ]
     },
     "execution_count": 5,
     "metadata": {},
     "output_type": "execute_result"
    }
   ],
   "source": [
    "realtor_data_df.head()"
   ]
  },
  {
   "cell_type": "markdown",
   "id": "00cc8fac",
   "metadata": {},
   "source": [
    "#### Get the unique zipcodes in the dataframe"
   ]
  },
  {
   "cell_type": "code",
   "execution_count": 6,
   "id": "af0dc973",
   "metadata": {},
   "outputs": [
    {
     "data": {
      "text/plain": [
       "270"
      ]
     },
     "execution_count": 6,
     "metadata": {},
     "output_type": "execute_result"
    }
   ],
   "source": [
    "zipcodes = realtor_data_df[\"zip_code\"]\n",
    "len(zipcodes.unique())"
   ]
  },
  {
   "cell_type": "markdown",
   "id": "fd9cc5ed",
   "metadata": {},
   "source": [
    "#### Read the file with Latitude and Longitude, rename the features"
   ]
  },
  {
   "cell_type": "code",
   "execution_count": 7,
   "id": "7846aeff",
   "metadata": {},
   "outputs": [
    {
     "data": {
      "text/html": [
       "<div>\n",
       "<style scoped>\n",
       "    .dataframe tbody tr th:only-of-type {\n",
       "        vertical-align: middle;\n",
       "    }\n",
       "\n",
       "    .dataframe tbody tr th {\n",
       "        vertical-align: top;\n",
       "    }\n",
       "\n",
       "    .dataframe thead th {\n",
       "        text-align: right;\n",
       "    }\n",
       "</style>\n",
       "<table border=\"1\" class=\"dataframe\">\n",
       "  <thead>\n",
       "    <tr style=\"text-align: right;\">\n",
       "      <th></th>\n",
       "      <th>zip_code</th>\n",
       "      <th>latitude</th>\n",
       "      <th>longitude</th>\n",
       "    </tr>\n",
       "  </thead>\n",
       "  <tbody>\n",
       "    <tr>\n",
       "      <th>0</th>\n",
       "      <td>601</td>\n",
       "      <td>18.180555</td>\n",
       "      <td>-66.749961</td>\n",
       "    </tr>\n",
       "    <tr>\n",
       "      <th>1</th>\n",
       "      <td>602</td>\n",
       "      <td>18.361945</td>\n",
       "      <td>-67.175597</td>\n",
       "    </tr>\n",
       "    <tr>\n",
       "      <th>2</th>\n",
       "      <td>603</td>\n",
       "      <td>18.455183</td>\n",
       "      <td>-67.119887</td>\n",
       "    </tr>\n",
       "    <tr>\n",
       "      <th>3</th>\n",
       "      <td>606</td>\n",
       "      <td>18.158345</td>\n",
       "      <td>-66.932911</td>\n",
       "    </tr>\n",
       "    <tr>\n",
       "      <th>4</th>\n",
       "      <td>610</td>\n",
       "      <td>18.295366</td>\n",
       "      <td>-67.125135</td>\n",
       "    </tr>\n",
       "  </tbody>\n",
       "</table>\n",
       "</div>"
      ],
      "text/plain": [
       "   zip_code   latitude  longitude\n",
       "0       601  18.180555 -66.749961\n",
       "1       602  18.361945 -67.175597\n",
       "2       603  18.455183 -67.119887\n",
       "3       606  18.158345 -66.932911\n",
       "4       610  18.295366 -67.125135"
      ]
     },
     "execution_count": 7,
     "metadata": {},
     "output_type": "execute_result"
    }
   ],
   "source": [
    "# Because of its size this dataset is not saved in the code repo for this project.\n",
    "# It can be downloaded and saved in the same path to make this Notebook run.\n",
    "zip_lon_lat = pd.read_csv('../../zip_lat_long.csv')\n",
    "zip_lon_lat.rename(columns={\"ZIP\":\"zip_code\", \"LAT\":\"latitude\", \"LNG\":\"longitude\"},inplace=True)\n",
    "zip_lon_lat.head()"
   ]
  },
  {
   "cell_type": "markdown",
   "id": "f9fda901",
   "metadata": {},
   "source": [
    "#### Find matching zipcodes that were found in the dataset"
   ]
  },
  {
   "cell_type": "code",
   "execution_count": 8,
   "id": "739bea9c",
   "metadata": {},
   "outputs": [
    {
     "data": {
      "text/html": [
       "<div>\n",
       "<style scoped>\n",
       "    .dataframe tbody tr th:only-of-type {\n",
       "        vertical-align: middle;\n",
       "    }\n",
       "\n",
       "    .dataframe tbody tr th {\n",
       "        vertical-align: top;\n",
       "    }\n",
       "\n",
       "    .dataframe thead th {\n",
       "        text-align: right;\n",
       "    }\n",
       "</style>\n",
       "<table border=\"1\" class=\"dataframe\">\n",
       "  <thead>\n",
       "    <tr style=\"text-align: right;\">\n",
       "      <th></th>\n",
       "      <th>zip_code</th>\n",
       "      <th>latitude</th>\n",
       "      <th>longitude</th>\n",
       "    </tr>\n",
       "  </thead>\n",
       "  <tbody>\n",
       "    <tr>\n",
       "      <th>1691</th>\n",
       "      <td>6001</td>\n",
       "      <td>41.787159</td>\n",
       "      <td>-72.852046</td>\n",
       "    </tr>\n",
       "    <tr>\n",
       "      <th>1692</th>\n",
       "      <td>6002</td>\n",
       "      <td>41.844930</td>\n",
       "      <td>-72.740951</td>\n",
       "    </tr>\n",
       "    <tr>\n",
       "      <th>1693</th>\n",
       "      <td>6010</td>\n",
       "      <td>41.681578</td>\n",
       "      <td>-72.940749</td>\n",
       "    </tr>\n",
       "    <tr>\n",
       "      <th>1694</th>\n",
       "      <td>6013</td>\n",
       "      <td>41.749079</td>\n",
       "      <td>-72.948657</td>\n",
       "    </tr>\n",
       "    <tr>\n",
       "      <th>1695</th>\n",
       "      <td>6016</td>\n",
       "      <td>41.901899</td>\n",
       "      <td>-72.547432</td>\n",
       "    </tr>\n",
       "  </tbody>\n",
       "</table>\n",
       "</div>"
      ],
      "text/plain": [
       "      zip_code   latitude  longitude\n",
       "1691      6001  41.787159 -72.852046\n",
       "1692      6002  41.844930 -72.740951\n",
       "1693      6010  41.681578 -72.940749\n",
       "1694      6013  41.749079 -72.948657\n",
       "1695      6016  41.901899 -72.547432"
      ]
     },
     "execution_count": 8,
     "metadata": {},
     "output_type": "execute_result"
    }
   ],
   "source": [
    "find_zipcodes_df = zip_lon_lat[zip_lon_lat[\"zip_code\"].isin(zipcodes.unique())]\n",
    "find_zipcodes_df.head()"
   ]
  },
  {
   "cell_type": "code",
   "execution_count": null,
   "id": "8f35b383",
   "metadata": {},
   "outputs": [],
   "source": []
  },
  {
   "cell_type": "markdown",
   "id": "845e3366",
   "metadata": {},
   "source": [
    "#### Merge the dataset with the Latitude and Longitude data"
   ]
  },
  {
   "cell_type": "code",
   "execution_count": 9,
   "id": "283d683e",
   "metadata": {},
   "outputs": [],
   "source": [
    "merge_df = realtor_data_df.merge(find_zipcodes_df, how='outer', on='zip_code')"
   ]
  },
  {
   "cell_type": "markdown",
   "id": "a2372659",
   "metadata": {},
   "source": [
    "#### Display the records that didn't match up"
   ]
  },
  {
   "cell_type": "code",
   "execution_count": 10,
   "id": "65cfc109",
   "metadata": {},
   "outputs": [
    {
     "data": {
      "text/html": [
       "<div>\n",
       "<style scoped>\n",
       "    .dataframe tbody tr th:only-of-type {\n",
       "        vertical-align: middle;\n",
       "    }\n",
       "\n",
       "    .dataframe tbody tr th {\n",
       "        vertical-align: top;\n",
       "    }\n",
       "\n",
       "    .dataframe thead th {\n",
       "        text-align: right;\n",
       "    }\n",
       "</style>\n",
       "<table border=\"1\" class=\"dataframe\">\n",
       "  <thead>\n",
       "    <tr style=\"text-align: right;\">\n",
       "      <th></th>\n",
       "      <th>status</th>\n",
       "      <th>bed</th>\n",
       "      <th>bath</th>\n",
       "      <th>acre_lot</th>\n",
       "      <th>city</th>\n",
       "      <th>state</th>\n",
       "      <th>zip_code</th>\n",
       "      <th>house_size</th>\n",
       "      <th>prev_sold_date</th>\n",
       "      <th>price</th>\n",
       "      <th>prev_sold_year</th>\n",
       "      <th>latitude</th>\n",
       "      <th>longitude</th>\n",
       "    </tr>\n",
       "  </thead>\n",
       "  <tbody>\n",
       "    <tr>\n",
       "      <th>4503</th>\n",
       "      <td>for_sale</td>\n",
       "      <td>10.0</td>\n",
       "      <td>15.0</td>\n",
       "      <td>450.95</td>\n",
       "      <td>Cornwall</td>\n",
       "      <td>Connecticut</td>\n",
       "      <td>6753.0</td>\n",
       "      <td>18000.0</td>\n",
       "      <td>NaN</td>\n",
       "      <td>14995000.0</td>\n",
       "      <td>NaN</td>\n",
       "      <td>NaN</td>\n",
       "      <td>NaN</td>\n",
       "    </tr>\n",
       "    <tr>\n",
       "      <th>4504</th>\n",
       "      <td>for_sale</td>\n",
       "      <td>10.0</td>\n",
       "      <td>12.0</td>\n",
       "      <td>445.62</td>\n",
       "      <td>Cornwall</td>\n",
       "      <td>Connecticut</td>\n",
       "      <td>6753.0</td>\n",
       "      <td>NaN</td>\n",
       "      <td>NaN</td>\n",
       "      <td>14995000.0</td>\n",
       "      <td>NaN</td>\n",
       "      <td>NaN</td>\n",
       "      <td>NaN</td>\n",
       "    </tr>\n",
       "    <tr>\n",
       "      <th>4505</th>\n",
       "      <td>for_sale</td>\n",
       "      <td>5.0</td>\n",
       "      <td>7.0</td>\n",
       "      <td>550.00</td>\n",
       "      <td>Cornwall</td>\n",
       "      <td>Connecticut</td>\n",
       "      <td>6753.0</td>\n",
       "      <td>12373.0</td>\n",
       "      <td>NaN</td>\n",
       "      <td>10000000.0</td>\n",
       "      <td>NaN</td>\n",
       "      <td>NaN</td>\n",
       "      <td>NaN</td>\n",
       "    </tr>\n",
       "    <tr>\n",
       "      <th>8625</th>\n",
       "      <td>for_sale</td>\n",
       "      <td>NaN</td>\n",
       "      <td>NaN</td>\n",
       "      <td>6.50</td>\n",
       "      <td>Waterbury</td>\n",
       "      <td>Connecticut</td>\n",
       "      <td>6701.0</td>\n",
       "      <td>NaN</td>\n",
       "      <td>NaN</td>\n",
       "      <td>184900.0</td>\n",
       "      <td>NaN</td>\n",
       "      <td>NaN</td>\n",
       "      <td>NaN</td>\n",
       "    </tr>\n",
       "    <tr>\n",
       "      <th>8626</th>\n",
       "      <td>for_sale</td>\n",
       "      <td>NaN</td>\n",
       "      <td>NaN</td>\n",
       "      <td>9.10</td>\n",
       "      <td>Waterbury</td>\n",
       "      <td>Connecticut</td>\n",
       "      <td>6701.0</td>\n",
       "      <td>NaN</td>\n",
       "      <td>NaN</td>\n",
       "      <td>120000.0</td>\n",
       "      <td>NaN</td>\n",
       "      <td>NaN</td>\n",
       "      <td>NaN</td>\n",
       "    </tr>\n",
       "    <tr>\n",
       "      <th>8627</th>\n",
       "      <td>for_sale</td>\n",
       "      <td>NaN</td>\n",
       "      <td>NaN</td>\n",
       "      <td>0.28</td>\n",
       "      <td>Waterbury</td>\n",
       "      <td>Connecticut</td>\n",
       "      <td>6701.0</td>\n",
       "      <td>NaN</td>\n",
       "      <td>NaN</td>\n",
       "      <td>20000.0</td>\n",
       "      <td>NaN</td>\n",
       "      <td>NaN</td>\n",
       "      <td>NaN</td>\n",
       "    </tr>\n",
       "    <tr>\n",
       "      <th>10869</th>\n",
       "      <td>for_sale</td>\n",
       "      <td>1.0</td>\n",
       "      <td>1.0</td>\n",
       "      <td>NaN</td>\n",
       "      <td>Bridgeport</td>\n",
       "      <td>Connecticut</td>\n",
       "      <td>604.0</td>\n",
       "      <td>600.0</td>\n",
       "      <td>NaN</td>\n",
       "      <td>79900.0</td>\n",
       "      <td>NaN</td>\n",
       "      <td>NaN</td>\n",
       "      <td>NaN</td>\n",
       "    </tr>\n",
       "    <tr>\n",
       "      <th>13500</th>\n",
       "      <td>for_sale</td>\n",
       "      <td>4.0</td>\n",
       "      <td>5.0</td>\n",
       "      <td>2.01</td>\n",
       "      <td>Weston</td>\n",
       "      <td>Connecticut</td>\n",
       "      <td>6829.0</td>\n",
       "      <td>4750.0</td>\n",
       "      <td>NaN</td>\n",
       "      <td>2100000.0</td>\n",
       "      <td>NaN</td>\n",
       "      <td>NaN</td>\n",
       "      <td>NaN</td>\n",
       "    </tr>\n",
       "    <tr>\n",
       "      <th>13752</th>\n",
       "      <td>for_sale</td>\n",
       "      <td>NaN</td>\n",
       "      <td>NaN</td>\n",
       "      <td>6.92</td>\n",
       "      <td>Stamford</td>\n",
       "      <td>Connecticut</td>\n",
       "      <td>6904.0</td>\n",
       "      <td>NaN</td>\n",
       "      <td>NaN</td>\n",
       "      <td>875000.0</td>\n",
       "      <td>NaN</td>\n",
       "      <td>NaN</td>\n",
       "      <td>NaN</td>\n",
       "    </tr>\n",
       "  </tbody>\n",
       "</table>\n",
       "</div>"
      ],
      "text/plain": [
       "         status   bed  bath  acre_lot        city        state  zip_code  \\\n",
       "4503   for_sale  10.0  15.0    450.95    Cornwall  Connecticut    6753.0   \n",
       "4504   for_sale  10.0  12.0    445.62    Cornwall  Connecticut    6753.0   \n",
       "4505   for_sale   5.0   7.0    550.00    Cornwall  Connecticut    6753.0   \n",
       "8625   for_sale   NaN   NaN      6.50   Waterbury  Connecticut    6701.0   \n",
       "8626   for_sale   NaN   NaN      9.10   Waterbury  Connecticut    6701.0   \n",
       "8627   for_sale   NaN   NaN      0.28   Waterbury  Connecticut    6701.0   \n",
       "10869  for_sale   1.0   1.0       NaN  Bridgeport  Connecticut     604.0   \n",
       "13500  for_sale   4.0   5.0      2.01      Weston  Connecticut    6829.0   \n",
       "13752  for_sale   NaN   NaN      6.92    Stamford  Connecticut    6904.0   \n",
       "\n",
       "       house_size prev_sold_date       price  prev_sold_year  latitude  \\\n",
       "4503      18000.0            NaN  14995000.0             NaN       NaN   \n",
       "4504          NaN            NaN  14995000.0             NaN       NaN   \n",
       "4505      12373.0            NaN  10000000.0             NaN       NaN   \n",
       "8625          NaN            NaN    184900.0             NaN       NaN   \n",
       "8626          NaN            NaN    120000.0             NaN       NaN   \n",
       "8627          NaN            NaN     20000.0             NaN       NaN   \n",
       "10869       600.0            NaN     79900.0             NaN       NaN   \n",
       "13500      4750.0            NaN   2100000.0             NaN       NaN   \n",
       "13752         NaN            NaN    875000.0             NaN       NaN   \n",
       "\n",
       "       longitude  \n",
       "4503         NaN  \n",
       "4504         NaN  \n",
       "4505         NaN  \n",
       "8625         NaN  \n",
       "8626         NaN  \n",
       "8627         NaN  \n",
       "10869        NaN  \n",
       "13500        NaN  \n",
       "13752        NaN  "
      ]
     },
     "execution_count": 10,
     "metadata": {},
     "output_type": "execute_result"
    }
   ],
   "source": [
    "merge_df[merge_df[\"latitude\"].isna()]"
   ]
  },
  {
   "cell_type": "code",
   "execution_count": null,
   "id": "a6239f51",
   "metadata": {},
   "outputs": [],
   "source": []
  },
  {
   "cell_type": "markdown",
   "id": "da0d22aa",
   "metadata": {},
   "source": [
    "#### Drop the records that didn't match up"
   ]
  },
  {
   "cell_type": "code",
   "execution_count": 11,
   "id": "83699b0c",
   "metadata": {},
   "outputs": [],
   "source": [
    "merge_df.dropna(subset=['latitude'], inplace=True)"
   ]
  },
  {
   "cell_type": "code",
   "execution_count": 12,
   "id": "505fc14f",
   "metadata": {},
   "outputs": [
    {
     "data": {
      "text/html": [
       "<div>\n",
       "<style scoped>\n",
       "    .dataframe tbody tr th:only-of-type {\n",
       "        vertical-align: middle;\n",
       "    }\n",
       "\n",
       "    .dataframe tbody tr th {\n",
       "        vertical-align: top;\n",
       "    }\n",
       "\n",
       "    .dataframe thead th {\n",
       "        text-align: right;\n",
       "    }\n",
       "</style>\n",
       "<table border=\"1\" class=\"dataframe\">\n",
       "  <thead>\n",
       "    <tr style=\"text-align: right;\">\n",
       "      <th></th>\n",
       "      <th>status</th>\n",
       "      <th>bed</th>\n",
       "      <th>bath</th>\n",
       "      <th>acre_lot</th>\n",
       "      <th>city</th>\n",
       "      <th>state</th>\n",
       "      <th>zip_code</th>\n",
       "      <th>house_size</th>\n",
       "      <th>prev_sold_date</th>\n",
       "      <th>price</th>\n",
       "      <th>prev_sold_year</th>\n",
       "      <th>latitude</th>\n",
       "      <th>longitude</th>\n",
       "    </tr>\n",
       "  </thead>\n",
       "  <tbody>\n",
       "    <tr>\n",
       "      <th>0</th>\n",
       "      <td>for_sale</td>\n",
       "      <td>3.0</td>\n",
       "      <td>1.0</td>\n",
       "      <td>3.93</td>\n",
       "      <td>Willington</td>\n",
       "      <td>Connecticut</td>\n",
       "      <td>6279.0</td>\n",
       "      <td>1572.0</td>\n",
       "      <td>NaN</td>\n",
       "      <td>225000.0</td>\n",
       "      <td>NaN</td>\n",
       "      <td>41.897267</td>\n",
       "      <td>-72.251848</td>\n",
       "    </tr>\n",
       "    <tr>\n",
       "      <th>1</th>\n",
       "      <td>for_sale</td>\n",
       "      <td>1.0</td>\n",
       "      <td>1.0</td>\n",
       "      <td>NaN</td>\n",
       "      <td>Willington</td>\n",
       "      <td>Connecticut</td>\n",
       "      <td>6279.0</td>\n",
       "      <td>680.0</td>\n",
       "      <td>2019-08-16</td>\n",
       "      <td>65000.0</td>\n",
       "      <td>2019.0</td>\n",
       "      <td>41.897267</td>\n",
       "      <td>-72.251848</td>\n",
       "    </tr>\n",
       "    <tr>\n",
       "      <th>2</th>\n",
       "      <td>for_sale</td>\n",
       "      <td>NaN</td>\n",
       "      <td>NaN</td>\n",
       "      <td>11.10</td>\n",
       "      <td>Willington</td>\n",
       "      <td>Connecticut</td>\n",
       "      <td>6279.0</td>\n",
       "      <td>NaN</td>\n",
       "      <td>2008-07-16</td>\n",
       "      <td>82900.0</td>\n",
       "      <td>2008.0</td>\n",
       "      <td>41.897267</td>\n",
       "      <td>-72.251848</td>\n",
       "    </tr>\n",
       "    <tr>\n",
       "      <th>3</th>\n",
       "      <td>for_sale</td>\n",
       "      <td>NaN</td>\n",
       "      <td>NaN</td>\n",
       "      <td>61.00</td>\n",
       "      <td>Willington</td>\n",
       "      <td>Connecticut</td>\n",
       "      <td>6279.0</td>\n",
       "      <td>NaN</td>\n",
       "      <td>NaN</td>\n",
       "      <td>249900.0</td>\n",
       "      <td>NaN</td>\n",
       "      <td>41.897267</td>\n",
       "      <td>-72.251848</td>\n",
       "    </tr>\n",
       "    <tr>\n",
       "      <th>4</th>\n",
       "      <td>for_sale</td>\n",
       "      <td>NaN</td>\n",
       "      <td>NaN</td>\n",
       "      <td>2.01</td>\n",
       "      <td>Willington</td>\n",
       "      <td>Connecticut</td>\n",
       "      <td>6279.0</td>\n",
       "      <td>NaN</td>\n",
       "      <td>NaN</td>\n",
       "      <td>115000.0</td>\n",
       "      <td>NaN</td>\n",
       "      <td>41.897267</td>\n",
       "      <td>-72.251848</td>\n",
       "    </tr>\n",
       "  </tbody>\n",
       "</table>\n",
       "</div>"
      ],
      "text/plain": [
       "     status  bed  bath  acre_lot        city        state  zip_code  \\\n",
       "0  for_sale  3.0   1.0      3.93  Willington  Connecticut    6279.0   \n",
       "1  for_sale  1.0   1.0       NaN  Willington  Connecticut    6279.0   \n",
       "2  for_sale  NaN   NaN     11.10  Willington  Connecticut    6279.0   \n",
       "3  for_sale  NaN   NaN     61.00  Willington  Connecticut    6279.0   \n",
       "4  for_sale  NaN   NaN      2.01  Willington  Connecticut    6279.0   \n",
       "\n",
       "   house_size prev_sold_date     price  prev_sold_year   latitude  longitude  \n",
       "0      1572.0            NaN  225000.0             NaN  41.897267 -72.251848  \n",
       "1       680.0     2019-08-16   65000.0          2019.0  41.897267 -72.251848  \n",
       "2         NaN     2008-07-16   82900.0          2008.0  41.897267 -72.251848  \n",
       "3         NaN            NaN  249900.0             NaN  41.897267 -72.251848  \n",
       "4         NaN            NaN  115000.0             NaN  41.897267 -72.251848  "
      ]
     },
     "execution_count": 12,
     "metadata": {},
     "output_type": "execute_result"
    }
   ],
   "source": [
    "merge_df.head()"
   ]
  },
  {
   "cell_type": "markdown",
   "id": "b2772eb2",
   "metadata": {},
   "source": [
    "#### Use KMeans to cluster latitude and longitude into counties"
   ]
  },
  {
   "cell_type": "code",
   "execution_count": 13,
   "id": "73fc96ac",
   "metadata": {},
   "outputs": [],
   "source": [
    "numberofcounties = 21\n",
    "kmeans = KMeans(init=\"random\", n_clusters=21,random_state=0)\n",
    "latlong = merge_df[[\"latitude\",\"longitude\"]]\n",
    "kmeans.fit(latlong)\n",
    "y_kmeans = kmeans.predict(latlong)"
   ]
  },
  {
   "cell_type": "markdown",
   "id": "f29537dc",
   "metadata": {},
   "source": [
    "#### Plot the counties"
   ]
  },
  {
   "cell_type": "code",
   "execution_count": 14,
   "id": "82f0a805",
   "metadata": {},
   "outputs": [
    {
     "data": {
      "text/plain": [
       "<matplotlib.collections.PathCollection at 0x176210ff710>"
      ]
     },
     "execution_count": 14,
     "metadata": {},
     "output_type": "execute_result"
    },
    {
     "data": {
      "image/png": "[encoded data removed]",
      "text/plain": [
       "<Figure size 600x1000 with 1 Axes>"
      ]
     },
     "metadata": {},
     "output_type": "display_data"
    }
   ],
   "source": [
    "fig, ax = plt.subplots(figsize=(6, 10))\n",
    "plt.scatter(merge_df[\"longitude\"], merge_df[\"latitude\"], c=y_kmeans, s=50, cmap='viridis')"
   ]
  },
  {
   "cell_type": "markdown",
   "id": "06f72fd9",
   "metadata": {},
   "source": [
    "#### Add county to the dataset going forward"
   ]
  },
  {
   "cell_type": "code",
   "execution_count": 15,
   "id": "a1c1ae50",
   "metadata": {},
   "outputs": [],
   "source": [
    "#merge_df[\"county\"] = np.float64(y_kmeans)"
   ]
  },
  {
   "cell_type": "code",
   "execution_count": 16,
   "id": "2877a45b",
   "metadata": {},
   "outputs": [],
   "source": [
    "#merge_df.tail()"
   ]
  },
  {
   "cell_type": "markdown",
   "id": "672e92e0",
   "metadata": {},
   "source": [
    "#### Save the records to a csv file"
   ]
  },
  {
   "cell_type": "code",
   "execution_count": 17,
   "id": "bef09f9d",
   "metadata": {},
   "outputs": [],
   "source": [
    "#merge_df.to_csv(\"geocoded.csv\")"
   ]
  },
  {
   "cell_type": "code",
   "execution_count": 18,
   "id": "d95d5796",
   "metadata": {},
   "outputs": [],
   "source": [
    "gmm = GaussianMixture(n_components = numberofcounties)\n",
    "gmm.fit(latlong)\n",
    "y_gmm = gmm.predict(latlong)"
   ]
  },
  {
   "cell_type": "code",
   "execution_count": 19,
   "id": "6666f247-274a-410a-8d04-69a53b9da049",
   "metadata": {},
   "outputs": [
    {
     "data": {
      "text/plain": [
       "<matplotlib.collections.PathCollection at 0x17621e5d2d0>"
      ]
     },
     "execution_count": 19,
     "metadata": {},
     "output_type": "execute_result"
    },
    {
     "data": {
      "image/png": "[encoded data removed]",
      "text/plain": [
       "<Figure size 600x1000 with 1 Axes>"
      ]
     },
     "metadata": {},
     "output_type": "display_data"
    }
   ],
   "source": [
    "fig, ax = plt.subplots(figsize=(6, 10))\n",
    "plt.scatter(merge_df[\"longitude\"], merge_df[\"latitude\"], c=y_gmm, s=50, cmap='viridis')"
   ]
  },
  {
   "cell_type": "code",
   "execution_count": 20,
   "id": "73afb1f6-19d6-41a3-98da-e80e3d3e84ef",
   "metadata": {},
   "outputs": [],
   "source": [
    "merge_df[\"county\"] = np.float64(y_gmm)"
   ]
  },
  {
   "cell_type": "code",
   "execution_count": 21,
   "id": "ccbe8c38-03a0-42f9-97c0-c6e6c3c68679",
   "metadata": {},
   "outputs": [
    {
     "data": {
      "text/html": [
       "<div>\n",
       "<style scoped>\n",
       "    .dataframe tbody tr th:only-of-type {\n",
       "        vertical-align: middle;\n",
       "    }\n",
       "\n",
       "    .dataframe tbody tr th {\n",
       "        vertical-align: top;\n",
       "    }\n",
       "\n",
       "    .dataframe thead th {\n",
       "        text-align: right;\n",
       "    }\n",
       "</style>\n",
       "<table border=\"1\" class=\"dataframe\">\n",
       "  <thead>\n",
       "    <tr style=\"text-align: right;\">\n",
       "      <th></th>\n",
       "      <th>status</th>\n",
       "      <th>bed</th>\n",
       "      <th>bath</th>\n",
       "      <th>acre_lot</th>\n",
       "      <th>city</th>\n",
       "      <th>state</th>\n",
       "      <th>zip_code</th>\n",
       "      <th>house_size</th>\n",
       "      <th>prev_sold_date</th>\n",
       "      <th>price</th>\n",
       "      <th>prev_sold_year</th>\n",
       "      <th>latitude</th>\n",
       "      <th>longitude</th>\n",
       "      <th>county</th>\n",
       "    </tr>\n",
       "  </thead>\n",
       "  <tbody>\n",
       "    <tr>\n",
       "      <th>13747</th>\n",
       "      <td>for_sale</td>\n",
       "      <td>4.0</td>\n",
       "      <td>3.0</td>\n",
       "      <td>0.80</td>\n",
       "      <td>Stamford</td>\n",
       "      <td>Connecticut</td>\n",
       "      <td>6907.0</td>\n",
       "      <td>1872.0</td>\n",
       "      <td>NaN</td>\n",
       "      <td>699000.0</td>\n",
       "      <td>NaN</td>\n",
       "      <td>41.100918</td>\n",
       "      <td>-73.520517</td>\n",
       "      <td>3.0</td>\n",
       "    </tr>\n",
       "    <tr>\n",
       "      <th>13748</th>\n",
       "      <td>for_sale</td>\n",
       "      <td>1.0</td>\n",
       "      <td>1.0</td>\n",
       "      <td>NaN</td>\n",
       "      <td>Stamford</td>\n",
       "      <td>Connecticut</td>\n",
       "      <td>6907.0</td>\n",
       "      <td>844.0</td>\n",
       "      <td>2018-12-27</td>\n",
       "      <td>275000.0</td>\n",
       "      <td>2018.0</td>\n",
       "      <td>41.100918</td>\n",
       "      <td>-73.520517</td>\n",
       "      <td>3.0</td>\n",
       "    </tr>\n",
       "    <tr>\n",
       "      <th>13749</th>\n",
       "      <td>for_sale</td>\n",
       "      <td>4.0</td>\n",
       "      <td>3.0</td>\n",
       "      <td>0.25</td>\n",
       "      <td>Stamford</td>\n",
       "      <td>Connecticut</td>\n",
       "      <td>6907.0</td>\n",
       "      <td>1687.0</td>\n",
       "      <td>NaN</td>\n",
       "      <td>559000.0</td>\n",
       "      <td>NaN</td>\n",
       "      <td>41.100918</td>\n",
       "      <td>-73.520517</td>\n",
       "      <td>3.0</td>\n",
       "    </tr>\n",
       "    <tr>\n",
       "      <th>13750</th>\n",
       "      <td>for_sale</td>\n",
       "      <td>4.0</td>\n",
       "      <td>3.0</td>\n",
       "      <td>0.56</td>\n",
       "      <td>Stamford</td>\n",
       "      <td>Connecticut</td>\n",
       "      <td>6907.0</td>\n",
       "      <td>2390.0</td>\n",
       "      <td>2004-06-30</td>\n",
       "      <td>919000.0</td>\n",
       "      <td>2004.0</td>\n",
       "      <td>41.100918</td>\n",
       "      <td>-73.520517</td>\n",
       "      <td>3.0</td>\n",
       "    </tr>\n",
       "    <tr>\n",
       "      <th>13751</th>\n",
       "      <td>for_sale</td>\n",
       "      <td>3.0</td>\n",
       "      <td>2.0</td>\n",
       "      <td>0.21</td>\n",
       "      <td>Stamford</td>\n",
       "      <td>Connecticut</td>\n",
       "      <td>6907.0</td>\n",
       "      <td>1314.0</td>\n",
       "      <td>2006-12-27</td>\n",
       "      <td>619900.0</td>\n",
       "      <td>2006.0</td>\n",
       "      <td>41.100918</td>\n",
       "      <td>-73.520517</td>\n",
       "      <td>3.0</td>\n",
       "    </tr>\n",
       "  </tbody>\n",
       "</table>\n",
       "</div>"
      ],
      "text/plain": [
       "         status  bed  bath  acre_lot      city        state  zip_code  \\\n",
       "13747  for_sale  4.0   3.0      0.80  Stamford  Connecticut    6907.0   \n",
       "13748  for_sale  1.0   1.0       NaN  Stamford  Connecticut    6907.0   \n",
       "13749  for_sale  4.0   3.0      0.25  Stamford  Connecticut    6907.0   \n",
       "13750  for_sale  4.0   3.0      0.56  Stamford  Connecticut    6907.0   \n",
       "13751  for_sale  3.0   2.0      0.21  Stamford  Connecticut    6907.0   \n",
       "\n",
       "       house_size prev_sold_date     price  prev_sold_year   latitude  \\\n",
       "13747      1872.0            NaN  699000.0             NaN  41.100918   \n",
       "13748       844.0     2018-12-27  275000.0          2018.0  41.100918   \n",
       "13749      1687.0            NaN  559000.0             NaN  41.100918   \n",
       "13750      2390.0     2004-06-30  919000.0          2004.0  41.100918   \n",
       "13751      1314.0     2006-12-27  619900.0          2006.0  41.100918   \n",
       "\n",
       "       longitude  county  \n",
       "13747 -73.520517     3.0  \n",
       "13748 -73.520517     3.0  \n",
       "13749 -73.520517     3.0  \n",
       "13750 -73.520517     3.0  \n",
       "13751 -73.520517     3.0  "
      ]
     },
     "execution_count": 21,
     "metadata": {},
     "output_type": "execute_result"
    }
   ],
   "source": [
    "merge_df.tail()"
   ]
  },
  {
   "cell_type": "code",
   "execution_count": 22,
   "id": "3c46de78-8e99-4d71-be31-fb6e50400adc",
   "metadata": {},
   "outputs": [],
   "source": [
    "merge_df.to_csv(folder + \"/geocoded.csv\")"
   ]
  },
  {
   "cell_type": "code",
   "execution_count": null,
   "id": "d78dafc2-ab1c-49a0-a007-f3f55b26b234",
   "metadata": {},
   "outputs": [],
   "source": []
  }
 ],
 "metadata": {
  "kernelspec": {
   "display_name": "Python 3 (ipykernel)",
   "language": "python",
   "name": "python3"
  },
  "language_info": {
   "codemirror_mode": {
    "name": "ipython",
    "version": 3
   },
   "file_extension": ".py",
   "mimetype": "text/x-python",
   "name": "python",
   "nbconvert_exporter": "python",
   "pygments_lexer": "ipython3",
   "version": "3.11.8"
  }
 },
 "nbformat": 4,
 "nbformat_minor": 5
}
