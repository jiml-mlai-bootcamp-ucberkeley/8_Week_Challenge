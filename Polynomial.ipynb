{
 "cells": [
  {
   "cell_type": "code",
   "execution_count": 1,
   "id": "2af4ff12",
   "metadata": {},
   "outputs": [],
   "source": [
    "from warnings import filterwarnings\n",
    "filterwarnings(\"ignore\")\n",
    "\n",
    "import sys\n",
    "sys.path.append('common')\n",
    "\n",
    "from print_more_stuff import print_more_stuff\n",
    "from regression_models import dosomething\n",
    "from pprint import pprint\n",
    "from preprocessing import mean_and_std\n",
    "\n",
    "import pandas as pd\n",
    "import matplotlib.pyplot as plt\n",
    "import numpy as np\n",
    "import seaborn as sns\n",
    "\n",
    "from sklearn.linear_model import LinearRegression\n",
    "from sklearn.preprocessing import PolynomialFeatures\n",
    "from sklearn.pipeline import Pipeline\n",
    "from sklearn.model_selection import train_test_split, GridSearchCV"
   ]
  },
  {
   "cell_type": "code",
   "execution_count": 2,
   "id": "304f70b8",
   "metadata": {},
   "outputs": [],
   "source": [
    "outliers_df = pd.read_csv('outliers.csv')\n",
    "outliers_df.drop(columns=[\"Unnamed: 0\"],inplace=True)"
   ]
  },
  {
   "cell_type": "code",
   "execution_count": 3,
   "id": "0c8dfc1c",
   "metadata": {},
   "outputs": [
    {
     "name": "stdout",
     "output_type": "stream",
     "text": [
      "<class 'pandas.core.frame.DataFrame'>\n",
      "RangeIndex: 20480 entries, 0 to 20479\n",
      "Data columns (total 10 columns):\n",
      " #   Column          Non-Null Count  Dtype  \n",
      "---  ------          --------------  -----  \n",
      " 0   bed             20480 non-null  float64\n",
      " 1   bath            20480 non-null  float64\n",
      " 2   acre_lot        20480 non-null  float64\n",
      " 3   zip_code        20480 non-null  float64\n",
      " 4   house_size      20480 non-null  float64\n",
      " 5   price           20480 non-null  float64\n",
      " 6   prev_sold_year  20480 non-null  float64\n",
      " 7   latitude        20480 non-null  float64\n",
      " 8   longitude       20480 non-null  float64\n",
      " 9   county          20480 non-null  int64  \n",
      "dtypes: float64(9), int64(1)\n",
      "memory usage: 1.6 MB\n"
     ]
    }
   ],
   "source": [
    "outliers_df.info()"
   ]
  },
  {
   "cell_type": "code",
   "execution_count": null,
   "id": "39c3c6a3",
   "metadata": {},
   "outputs": [],
   "source": []
  },
  {
   "cell_type": "code",
   "execution_count": 4,
   "id": "3ec86737",
   "metadata": {},
   "outputs": [
    {
     "data": {
      "text/plain": [
       "8527.0"
      ]
     },
     "execution_count": 4,
     "metadata": {},
     "output_type": "execute_result"
    }
   ],
   "source": [
    "groupby_zipcode = outliers_df.groupby([\"zip_code\"])[\"zip_code\"].count().sort_values(ascending=False)\n",
    "groupby_zipcode_df = pd.DataFrame(groupby_zipcode).rename(columns={\"zip_code\":\"count\"}).reset_index()\n",
    "first_zipcode = groupby_zipcode_df.iloc[0][\"zip_code\"]\n",
    "first_zipcode"
   ]
  },
  {
   "cell_type": "code",
   "execution_count": 5,
   "id": "f355b320",
   "metadata": {},
   "outputs": [],
   "source": [
    "one_zipcode_df = outliers_df[outliers_df[\"zip_code\"].isin([first_zipcode])]"
   ]
  },
  {
   "cell_type": "code",
   "execution_count": 6,
   "id": "77729e9a",
   "metadata": {},
   "outputs": [
    {
     "name": "stdout",
     "output_type": "stream",
     "text": [
      "<class 'pandas.core.frame.DataFrame'>\n",
      "Int64Index: 269 entries, 10338 to 10606\n",
      "Data columns (total 10 columns):\n",
      " #   Column          Non-Null Count  Dtype  \n",
      "---  ------          --------------  -----  \n",
      " 0   bed             269 non-null    float64\n",
      " 1   bath            269 non-null    float64\n",
      " 2   acre_lot        269 non-null    float64\n",
      " 3   zip_code        269 non-null    float64\n",
      " 4   house_size      269 non-null    float64\n",
      " 5   price           269 non-null    float64\n",
      " 6   prev_sold_year  269 non-null    float64\n",
      " 7   latitude        269 non-null    float64\n",
      " 8   longitude       269 non-null    float64\n",
      " 9   county          269 non-null    int64  \n",
      "dtypes: float64(9), int64(1)\n",
      "memory usage: 23.1 KB\n"
     ]
    }
   ],
   "source": [
    "one_zipcode_df.info()"
   ]
  },
  {
   "cell_type": "code",
   "execution_count": null,
   "id": "791ca063",
   "metadata": {},
   "outputs": [],
   "source": []
  },
  {
   "cell_type": "code",
   "execution_count": 7,
   "id": "b58bddf1",
   "metadata": {},
   "outputs": [
    {
     "data": {
      "text/plain": [
       "16"
      ]
     },
     "execution_count": 7,
     "metadata": {},
     "output_type": "execute_result"
    }
   ],
   "source": [
    "groupby_county = outliers_df.groupby([\"county\"])[\"county\"].count().sort_values(ascending=False)\n",
    "groupby_county_df = pd.DataFrame(groupby_county).rename(columns={\"county\":\"count\"}).reset_index()\n",
    "first_county = groupby_county_df.iloc[0][\"county\"]\n",
    "first_county"
   ]
  },
  {
   "cell_type": "code",
   "execution_count": 8,
   "id": "b052dc53",
   "metadata": {},
   "outputs": [],
   "source": [
    "one_county_df = outliers_df[outliers_df[\"county\"].isin([first_county])]"
   ]
  },
  {
   "cell_type": "code",
   "execution_count": 9,
   "id": "9f447327",
   "metadata": {},
   "outputs": [
    {
     "name": "stdout",
     "output_type": "stream",
     "text": [
      "<class 'pandas.core.frame.DataFrame'>\n",
      "Int64Index: 1721 entries, 13052 to 19278\n",
      "Data columns (total 10 columns):\n",
      " #   Column          Non-Null Count  Dtype  \n",
      "---  ------          --------------  -----  \n",
      " 0   bed             1721 non-null   float64\n",
      " 1   bath            1721 non-null   float64\n",
      " 2   acre_lot        1721 non-null   float64\n",
      " 3   zip_code        1721 non-null   float64\n",
      " 4   house_size      1721 non-null   float64\n",
      " 5   price           1721 non-null   float64\n",
      " 6   prev_sold_year  1721 non-null   float64\n",
      " 7   latitude        1721 non-null   float64\n",
      " 8   longitude       1721 non-null   float64\n",
      " 9   county          1721 non-null   int64  \n",
      "dtypes: float64(9), int64(1)\n",
      "memory usage: 147.9 KB\n"
     ]
    }
   ],
   "source": [
    "one_county_df.info()"
   ]
  },
  {
   "cell_type": "code",
   "execution_count": null,
   "id": "a88f1ab6",
   "metadata": {},
   "outputs": [],
   "source": []
  },
  {
   "cell_type": "code",
   "execution_count": 10,
   "id": "e66a91f5",
   "metadata": {},
   "outputs": [
    {
     "data": {
      "text/html": [
       "<div>\n",
       "<style scoped>\n",
       "    .dataframe tbody tr th:only-of-type {\n",
       "        vertical-align: middle;\n",
       "    }\n",
       "\n",
       "    .dataframe tbody tr th {\n",
       "        vertical-align: top;\n",
       "    }\n",
       "\n",
       "    .dataframe thead th {\n",
       "        text-align: right;\n",
       "    }\n",
       "</style>\n",
       "<table border=\"1\" class=\"dataframe\">\n",
       "  <thead>\n",
       "    <tr style=\"text-align: right;\">\n",
       "      <th></th>\n",
       "      <th>bed</th>\n",
       "      <th>bath</th>\n",
       "      <th>acre_lot</th>\n",
       "      <th>house_size</th>\n",
       "      <th>price</th>\n",
       "      <th>prev_sold_year</th>\n",
       "      <th>zip_code</th>\n",
       "      <th>latitude</th>\n",
       "      <th>longitude</th>\n",
       "      <th>county</th>\n",
       "    </tr>\n",
       "  </thead>\n",
       "  <tbody>\n",
       "    <tr>\n",
       "      <th>19274</th>\n",
       "      <td>0.840919</td>\n",
       "      <td>-0.198968</td>\n",
       "      <td>-0.099942</td>\n",
       "      <td>-0.103172</td>\n",
       "      <td>0.015082</td>\n",
       "      <td>2012.0</td>\n",
       "      <td>8084.0</td>\n",
       "      <td>39.828957</td>\n",
       "      <td>-75.015458</td>\n",
       "      <td>16</td>\n",
       "    </tr>\n",
       "    <tr>\n",
       "      <th>19275</th>\n",
       "      <td>0.840919</td>\n",
       "      <td>-0.198968</td>\n",
       "      <td>-0.086640</td>\n",
       "      <td>0.171126</td>\n",
       "      <td>0.015561</td>\n",
       "      <td>2007.0</td>\n",
       "      <td>8084.0</td>\n",
       "      <td>39.828957</td>\n",
       "      <td>-75.015458</td>\n",
       "      <td>16</td>\n",
       "    </tr>\n",
       "    <tr>\n",
       "      <th>19276</th>\n",
       "      <td>-0.295048</td>\n",
       "      <td>-0.198968</td>\n",
       "      <td>-0.142506</td>\n",
       "      <td>-0.135672</td>\n",
       "      <td>-0.535471</td>\n",
       "      <td>2005.0</td>\n",
       "      <td>8084.0</td>\n",
       "      <td>39.828957</td>\n",
       "      <td>-75.015458</td>\n",
       "      <td>16</td>\n",
       "    </tr>\n",
       "    <tr>\n",
       "      <th>19277</th>\n",
       "      <td>1.976885</td>\n",
       "      <td>-0.198968</td>\n",
       "      <td>-0.102602</td>\n",
       "      <td>-0.104472</td>\n",
       "      <td>-0.056792</td>\n",
       "      <td>2013.0</td>\n",
       "      <td>8084.0</td>\n",
       "      <td>39.828957</td>\n",
       "      <td>-75.015458</td>\n",
       "      <td>16</td>\n",
       "    </tr>\n",
       "    <tr>\n",
       "      <th>19278</th>\n",
       "      <td>0.840919</td>\n",
       "      <td>-0.198968</td>\n",
       "      <td>-0.107922</td>\n",
       "      <td>0.041127</td>\n",
       "      <td>-0.114291</td>\n",
       "      <td>2012.0</td>\n",
       "      <td>8084.0</td>\n",
       "      <td>39.828957</td>\n",
       "      <td>-75.015458</td>\n",
       "      <td>16</td>\n",
       "    </tr>\n",
       "  </tbody>\n",
       "</table>\n",
       "</div>"
      ],
      "text/plain": [
       "            bed      bath  acre_lot  house_size     price  prev_sold_year  \\\n",
       "19274  0.840919 -0.198968 -0.099942   -0.103172  0.015082          2012.0   \n",
       "19275  0.840919 -0.198968 -0.086640    0.171126  0.015561          2007.0   \n",
       "19276 -0.295048 -0.198968 -0.142506   -0.135672 -0.535471          2005.0   \n",
       "19277  1.976885 -0.198968 -0.102602   -0.104472 -0.056792          2013.0   \n",
       "19278  0.840919 -0.198968 -0.107922    0.041127 -0.114291          2012.0   \n",
       "\n",
       "       zip_code   latitude  longitude  county  \n",
       "19274    8084.0  39.828957 -75.015458      16  \n",
       "19275    8084.0  39.828957 -75.015458      16  \n",
       "19276    8084.0  39.828957 -75.015458      16  \n",
       "19277    8084.0  39.828957 -75.015458      16  \n",
       "19278    8084.0  39.828957 -75.015458      16  "
      ]
     },
     "execution_count": 10,
     "metadata": {},
     "output_type": "execute_result"
    }
   ],
   "source": [
    "# \"data\":one_zipcode_df,\n",
    "#  \"data\":outliers_df,\n",
    "#  \"data\":one_county_df,\n",
    "\n",
    "\n",
    "params = {\n",
    "    \"data\":one_county_df,\n",
    "    \"features_a\":[\"prev_sold_year\",\"zip_code\",\"latitude\",\"longitude\",\"county\"],\n",
    "    \"features_n\":[\"bed\",\"bath\",\"acre_lot\",\"house_size\",\"price\"]\n",
    "}\n",
    "normalize_df = mean_and_std(params)\n",
    "#normalize_df = one_county_df\n",
    "normalize_df.tail()"
   ]
  },
  {
   "cell_type": "code",
   "execution_count": 11,
   "id": "8b851276",
   "metadata": {},
   "outputs": [
    {
     "data": {
      "text/plain": [
       "acre_lot          0.187205\n",
       "bed               0.402412\n",
       "bath              0.564686\n",
       "house_size        0.646237\n",
       "prev_sold_year    0.024774\n",
       "price             1.000000\n",
       "Name: price, dtype: float64"
      ]
     },
     "execution_count": 11,
     "metadata": {},
     "output_type": "execute_result"
    }
   ],
   "source": [
    "#\"latitude\",\"longitude\",\"county\",\"zip_code\"\n",
    "correlation = normalize_df[[\"acre_lot\",\"bed\",\"bath\",\"house_size\",\"prev_sold_year\",\"price\"]].corr()\n",
    "correlation[\"price\"]"
   ]
  },
  {
   "cell_type": "code",
   "execution_count": 12,
   "id": "7c7ccbc8",
   "metadata": {},
   "outputs": [
    {
     "data": {
      "text/plain": [
       "Text(0.5, 1.0, 'Correlation Between Variables')"
      ]
     },
     "execution_count": 12,
     "metadata": {},
     "output_type": "execute_result"
    },
    {
     "data": {
      "image/png": "[encoded data removed]",
      "text/plain": [
       "<Figure size 640x480 with 2 Axes>"
      ]
     },
     "metadata": {},
     "output_type": "display_data"
    }
   ],
   "source": [
    "sns.heatmap(correlation, vmin=-1, vmax=1, cmap = 'coolwarm', annot=True, fmt='.2f', linewidths=0.1)\n",
    "plt.title(\"Correlation Between Variables\", pad=20)"
   ]
  },
  {
   "cell_type": "code",
   "execution_count": 13,
   "id": "3fcd3f97",
   "metadata": {},
   "outputs": [
    {
     "name": "stdout",
     "output_type": "stream",
     "text": [
      "['acre_lot', 'bed', 'bath', 'house_size']\n"
     ]
    }
   ],
   "source": [
    "#corrfeatures = [\"latitude\",\"longitude\"]\n",
    "corrfeatures = []\n",
    "for feature, value in correlation[\"price\"].items():\n",
    "    if abs(value) < 0.81 and abs(value) >= 0.17:\n",
    "        corrfeatures.append(feature)\n",
    "        \n",
    "savefeatures = list(dict.fromkeys(corrfeatures))\n",
    "print(savefeatures)"
   ]
  },
  {
   "cell_type": "code",
   "execution_count": 14,
   "id": "009d5cc1",
   "metadata": {},
   "outputs": [],
   "source": [
    "pariplot_features = []\n",
    "for feature, value in correlation[\"price\"].items():\n",
    "        pariplot_features.append(feature)"
   ]
  },
  {
   "cell_type": "code",
   "execution_count": 15,
   "id": "3f410fd9",
   "metadata": {},
   "outputs": [],
   "source": [
    "features = savefeatures\n",
    "num_features_to_select = len(features)-1\n",
    "random_state_value = 42"
   ]
  },
  {
   "cell_type": "code",
   "execution_count": 16,
   "id": "a34be2ad",
   "metadata": {},
   "outputs": [],
   "source": [
    "X = normalize_df[features]\n",
    "y = normalize_df[\"price\"]\n",
    "X_train, X_test, y_train, y_test = train_test_split(X, y, test_size=0.3, random_state=random_state_value)"
   ]
  },
  {
   "cell_type": "code",
   "execution_count": null,
   "id": "32650a31",
   "metadata": {},
   "outputs": [],
   "source": []
  },
  {
   "cell_type": "code",
   "execution_count": 17,
   "id": "68ca5cf5",
   "metadata": {},
   "outputs": [
    {
     "name": "stdout",
     "output_type": "stream",
     "text": [
      "Fitting 5 folds for each of 4 candidates, totalling 20 fits\n"
     ]
    },
    {
     "data": {
      "text/plain": [
       "{'poly_features__degree': 1,\n",
       " 'poly_features__include_bias': False,\n",
       " 'poly_model__fit_intercept': True}"
      ]
     },
     "execution_count": 17,
     "metadata": {},
     "output_type": "execute_result"
    }
   ],
   "source": [
    "poly_pipeline = Pipeline([\n",
    "    ('poly_features', PolynomialFeatures()), \n",
    "    ('poly_model', LinearRegression())\n",
    "])\n",
    "\n",
    "poly_degrees = range(1,5,1)\n",
    "\n",
    "poly_pipeline_params={\"poly_features__degree\":poly_degrees,\"poly_features__include_bias\":[False],\"poly_model__fit_intercept\":[True]}\n",
    "poly_grid_searchcv = GridSearchCV(poly_pipeline, param_grid=poly_pipeline_params, cv=5, verbose=1)\n",
    "poly_grid_searchcv.fit(X, y)\n",
    "\n",
    "poly_grid_searchcv.best_params_"
   ]
  },
  {
   "cell_type": "code",
   "execution_count": 18,
   "id": "1f6efdf7",
   "metadata": {},
   "outputs": [],
   "source": [
    "poly_best_params = {}\n",
    "for what in poly_grid_searchcv.best_params_:\n",
    "    if poly_best_params.get(what) == None:\n",
    "        poly_best_params[what] = []\n",
    "    poly_best_params[what].append(poly_grid_searchcv.best_params_[what])"
   ]
  },
  {
   "cell_type": "code",
   "execution_count": 19,
   "id": "8e89f623",
   "metadata": {},
   "outputs": [
    {
     "data": {
      "text/plain": [
       "{'poly_features__degree': [1],\n",
       " 'poly_features__include_bias': [False],\n",
       " 'poly_model__fit_intercept': [True]}"
      ]
     },
     "execution_count": 19,
     "metadata": {},
     "output_type": "execute_result"
    }
   ],
   "source": [
    "poly_best_params"
   ]
  },
  {
   "cell_type": "code",
   "execution_count": 20,
   "id": "57837a5f",
   "metadata": {},
   "outputs": [
    {
     "name": "stdout",
     "output_type": "stream",
     "text": [
      "Fitting 5 folds for each of 1 candidates, totalling 5 fits\n"
     ]
    }
   ],
   "source": [
    "poly_pipeline = Pipeline([\n",
    "    ('poly_features', PolynomialFeatures()), \n",
    "    ('poly_model', LinearRegression())\n",
    "])\n",
    "\n",
    "poly_grid_searchcv = GridSearchCV(poly_pipeline, param_grid=poly_best_params, cv=5, verbose=1)\n",
    "poly_grid_searchcv.fit(X_train, y_train)\n",
    "\n",
    "poly_predictions = poly_grid_searchcv.predict(X_test)"
   ]
  },
  {
   "cell_type": "code",
   "execution_count": 21,
   "id": "f7a3df3e",
   "metadata": {},
   "outputs": [],
   "source": [
    "results_dict = {\"model\":[], \"explained variance score\":[],\"mae score\":[],\"mse score\":[],\"r2 score\":[], \"mean fit time\":[]}"
   ]
  },
  {
   "cell_type": "code",
   "execution_count": 22,
   "id": "94baba0e",
   "metadata": {},
   "outputs": [],
   "source": [
    "def results_dict_append(rtnval):\n",
    "    results_dict[\"model\"].append(rtnval[\"model\"])\n",
    "    results_dict[\"explained variance score\"].append(rtnval[\"explained variance score\"])\n",
    "    results_dict[\"mae score\"].append(rtnval[\"mae score\"])\n",
    "    results_dict[\"mse score\"].append(rtnval[\"mse score\"])\n",
    "    results_dict[\"r2 score\"].append(rtnval[\"r2 score\"])\n",
    "    results_dict[\"mean fit time\"].append(rtnval[\"mean fit time\"])"
   ]
  },
  {
   "cell_type": "code",
   "execution_count": 23,
   "id": "5dbd9999",
   "metadata": {},
   "outputs": [],
   "source": [
    "    pms_config = {\n",
    "        \"title\":\"Polynomial\", \n",
    "        \"y_param\":y_test, \n",
    "        \"predictions\":poly_predictions, \n",
    "        \"gscv\":poly_grid_searchcv\n",
    "    }"
   ]
  },
  {
   "cell_type": "code",
   "execution_count": 24,
   "id": "36d41ecc",
   "metadata": {},
   "outputs": [
    {
     "name": "stdout",
     "output_type": "stream",
     "text": [
      "Polynomial EVS = 0.356978504\n",
      "Polynomial MSE = 0.671132\n",
      "Polynomial MAE = 0.444563\n",
      "Polynomial R2 = 0.356612\n",
      "Polynomial Fit Time = 0.007229042053222656\n"
     ]
    }
   ],
   "source": [
    "results = print_more_stuff(pms_config)"
   ]
  },
  {
   "cell_type": "code",
   "execution_count": 25,
   "id": "51348086",
   "metadata": {},
   "outputs": [],
   "source": [
    "results_dict_append(results)"
   ]
  },
  {
   "cell_type": "code",
   "execution_count": null,
   "id": "54b6849f",
   "metadata": {},
   "outputs": [],
   "source": []
  },
  {
   "cell_type": "code",
   "execution_count": null,
   "id": "d362be15",
   "metadata": {},
   "outputs": [],
   "source": []
  },
  {
   "cell_type": "code",
   "execution_count": 26,
   "id": "8b14ccc0",
   "metadata": {},
   "outputs": [],
   "source": [
    "predict_df = pd.DataFrame(poly_predictions).reset_index()\n",
    "predict_df.rename(columns={0: \"prediction\"},inplace=True)\n",
    "\n",
    "y_test_df = pd.DataFrame(y_test).reset_index()"
   ]
  },
  {
   "cell_type": "code",
   "execution_count": 27,
   "id": "bdd7a05f",
   "metadata": {},
   "outputs": [
    {
     "data": {
      "image/png": "[encoded data removed]",
      "text/plain": [
       "<Figure size 1000x600 with 1 Axes>"
      ]
     },
     "metadata": {},
     "output_type": "display_data"
    }
   ],
   "source": [
    "fig, ax = plt.subplots(figsize=(10, 6))\n",
    "\n",
    "ax.ticklabel_format(style='plain')\n",
    "ax.yaxis.set_major_formatter('${x:1,.0f}')\n",
    "ax.xaxis.set_major_formatter(' ')\n",
    "\n",
    "plt.scatter(y_test_df.index,y_test_df[\"price\"], color=\"red\")\n",
    "plt.scatter(predict_df.index,predict_df[\"prediction\"], color=\"black\")\n",
    "plt.show()"
   ]
  },
  {
   "cell_type": "code",
   "execution_count": 28,
   "id": "5b9560f4",
   "metadata": {},
   "outputs": [
    {
     "data": {
      "text/plain": [
       "{'model': ['Polynomial'],\n",
       " 'explained variance score': ['0.356978504'],\n",
       " 'mae score': ['0.444563'],\n",
       " 'mse score': ['0.671132'],\n",
       " 'r2 score': ['0.356612'],\n",
       " 'mean fit time': [0.007229042053222656]}"
      ]
     },
     "execution_count": 28,
     "metadata": {},
     "output_type": "execute_result"
    }
   ],
   "source": [
    "results_dict"
   ]
  },
  {
   "cell_type": "code",
   "execution_count": 29,
   "id": "e73d424d",
   "metadata": {},
   "outputs": [
    {
     "data": {
      "text/html": [
       "<div>\n",
       "<style scoped>\n",
       "    .dataframe tbody tr th:only-of-type {\n",
       "        vertical-align: middle;\n",
       "    }\n",
       "\n",
       "    .dataframe tbody tr th {\n",
       "        vertical-align: top;\n",
       "    }\n",
       "\n",
       "    .dataframe thead th {\n",
       "        text-align: right;\n",
       "    }\n",
       "</style>\n",
       "<table border=\"1\" class=\"dataframe\">\n",
       "  <thead>\n",
       "    <tr style=\"text-align: right;\">\n",
       "      <th></th>\n",
       "      <th>explained variance score</th>\n",
       "      <th>mae score</th>\n",
       "      <th>mse score</th>\n",
       "      <th>r2 score</th>\n",
       "      <th>mean fit time</th>\n",
       "    </tr>\n",
       "    <tr>\n",
       "      <th>model</th>\n",
       "      <th></th>\n",
       "      <th></th>\n",
       "      <th></th>\n",
       "      <th></th>\n",
       "      <th></th>\n",
       "    </tr>\n",
       "  </thead>\n",
       "  <tbody>\n",
       "    <tr>\n",
       "      <th>Polynomial</th>\n",
       "      <td>0.356978504</td>\n",
       "      <td>0.444563</td>\n",
       "      <td>0.671132</td>\n",
       "      <td>0.356612</td>\n",
       "      <td>0.007229</td>\n",
       "    </tr>\n",
       "  </tbody>\n",
       "</table>\n",
       "</div>"
      ],
      "text/plain": [
       "           explained variance score mae score mse score  r2 score  \\\n",
       "model                                                               \n",
       "Polynomial              0.356978504  0.444563  0.671132  0.356612   \n",
       "\n",
       "            mean fit time  \n",
       "model                      \n",
       "Polynomial       0.007229  "
      ]
     },
     "execution_count": 29,
     "metadata": {},
     "output_type": "execute_result"
    }
   ],
   "source": [
    "model_comparisons = pd.DataFrame(results_dict).set_index('model')\n",
    "model_comparisons"
   ]
  },
  {
   "cell_type": "code",
   "execution_count": 30,
   "id": "204fb8ff",
   "metadata": {},
   "outputs": [],
   "source": [
    "not_normlized_features_macro = {'model': ['Polynomial'],\n",
    " 'explained variance score': ['0.439941932'],\n",
    " 'mae score': ['200,275.324785'],\n",
    " 'mse score': ['100,870,089,629.248779'],\n",
    " 'r2 score': ['0.439677'],\n",
    " 'mean fit time': [0.010838460922241212]}\n",
    "\n",
    "not_normlized_features_micro = {'model': ['Polynomial'],\n",
    " 'explained variance score': ['0.444986054'],\n",
    " 'mae score': ['160,153.361798'],\n",
    " 'mse score': ['90,128,097,153.086136'],\n",
    " 'r2 score': ['0.424667'],\n",
    " 'mean fit time': [0.0024103164672851563]}\n",
    "\n",
    "not_normalized_features_county = {'model': ['Polynomial'],\n",
    " 'explained variance score': ['0.356978504'],\n",
    " 'mae score': ['92,780.083830'],\n",
    " 'mse score': ['29,231,433,918.019638'],\n",
    " 'r2 score': ['0.356612'],\n",
    " 'mean fit time': [0.004442787170410157]}\n",
    "\n",
    "\n",
    "\n",
    "\n",
    "normalized_features_county = {'model': ['Polynomial'],\n",
    " 'explained variance score': ['0.356978504'],\n",
    " 'mae score': ['0.444563'],\n",
    " 'mse score': ['0.671132'],\n",
    " 'r2 score': ['0.356612'],\n",
    " 'mean fit time': [0.007229042053222656]}\n",
    "\n",
    "normlized_features_micro = {'model': ['Polynomial'],\n",
    " 'explained variance score': ['0.444986054'],\n",
    " 'mae score': ['0.512584'],\n",
    " 'mse score': ['0.923246'],\n",
    " 'r2 score': ['0.424667'],\n",
    " 'mean fit time': [0.001876497268676758]}\n",
    "\n",
    "normlized_features_macro = {'model': ['Polynomial'],\n",
    " 'explained variance score': ['0.439941932'],\n",
    " 'mae score': ['0.480012'],\n",
    " 'mse score': ['0.579444'],\n",
    " 'r2 score': ['0.439677'],\n",
    " 'mean fit time': [0.006977558135986328]}"
   ]
  }
 ],
 "metadata": {
  "kernelspec": {
   "display_name": "Python 3 (ipykernel)",
   "language": "python",
   "name": "python3"
  },
  "language_info": {
   "codemirror_mode": {
    "name": "ipython",
    "version": 3
   },
   "file_extension": ".py",
   "mimetype": "text/x-python",
   "name": "python",
   "nbconvert_exporter": "python",
   "pygments_lexer": "ipython3",
   "version": "3.11.4"
  }
 },
 "nbformat": 4,
 "nbformat_minor": 5
}
