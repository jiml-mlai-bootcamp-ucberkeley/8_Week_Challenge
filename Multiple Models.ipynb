{
 "cells": [
  {
   "cell_type": "code",
   "execution_count": 1,
   "id": "2af4ff12",
   "metadata": {},
   "outputs": [],
   "source": [
    "from warnings import filterwarnings\n",
    "filterwarnings(\"ignore\")\n",
    "\n",
    "import sys\n",
    "sys.path.append('common')\n",
    "\n",
    "import datetime\n",
    "from print_more_stuff import print_more_stuff\n",
    "from regression_models import dosomething\n",
    "from pprint import pprint\n",
    "from preprocessing import mean_and_std\n",
    "from writejson import write_json\n",
    "from writeresults import write_results\n",
    "\n",
    "import pandas as pd\n",
    "import matplotlib.pyplot as plt\n",
    "import numpy as np\n",
    "import seaborn as sns\n",
    "\n",
    "\n",
    "from sklearn.svm import LinearSVR \n",
    "from sklearn.neighbors import KNeighborsRegressor\n",
    "from sklearn.linear_model import LinearRegression, Ridge, Lasso\n",
    "from sklearn.tree import DecisionTreeRegressor\n",
    "from sklearn.preprocessing import PolynomialFeatures\n",
    "from sklearn.pipeline import Pipeline\n",
    "from sklearn.model_selection import train_test_split, GridSearchCV, cross_val_score\n",
    "from sklearn.ensemble import AdaBoostRegressor, GradientBoostingRegressor, HistGradientBoostingRegressor, RandomForestRegressor"
   ]
  },
  {
   "cell_type": "code",
   "execution_count": 2,
   "id": "e03ad933-836c-4417-beef-ac2cb0ab37b1",
   "metadata": {},
   "outputs": [],
   "source": [
    "config = [{\"nj\":\"NewJersey\"},{\"ny\":\"NewYork\"},{\"pa\":\"Pennsylvania\"},{\"ma\":\"Massachusetts\"},{\"ct\":\"Connecticut\"}]\n",
    "folder, state = '',''\n",
    "for key, value in config[4].items():\n",
    "    folder = key\n",
    "    state = value"
   ]
  },
  {
   "cell_type": "code",
   "execution_count": 3,
   "id": "304f70b8",
   "metadata": {},
   "outputs": [],
   "source": [
    "outliers_df = pd.read_csv(folder + '/outliers.csv')\n",
    "outliers_df.drop(columns=[\"Unnamed: 0\"],inplace=True)"
   ]
  },
  {
   "cell_type": "code",
   "execution_count": 4,
   "id": "0c8dfc1c",
   "metadata": {},
   "outputs": [
    {
     "name": "stdout",
     "output_type": "stream",
     "text": [
      "<class 'pandas.core.frame.DataFrame'>\n",
      "RangeIndex: 7854 entries, 0 to 7853\n",
      "Data columns (total 10 columns):\n",
      " #   Column          Non-Null Count  Dtype  \n",
      "---  ------          --------------  -----  \n",
      " 0   bed             7854 non-null   float64\n",
      " 1   bath            7854 non-null   float64\n",
      " 2   acre_lot        7854 non-null   float64\n",
      " 3   zip_code        7854 non-null   float64\n",
      " 4   house_size      7854 non-null   float64\n",
      " 5   price           7854 non-null   float64\n",
      " 6   prev_sold_year  7854 non-null   float64\n",
      " 7   latitude        7854 non-null   float64\n",
      " 8   longitude       7854 non-null   float64\n",
      " 9   county          7854 non-null   float64\n",
      "dtypes: float64(10)\n",
      "memory usage: 613.7 KB\n"
     ]
    }
   ],
   "source": [
    "outliers_df.info()"
   ]
  },
  {
   "cell_type": "code",
   "execution_count": 5,
   "id": "39c3c6a3",
   "metadata": {},
   "outputs": [],
   "source": [
    "switches = {\n",
    "    \"which_df\":\"outliers\",\n",
    "    \"normalize\":False,\n",
    "    \"model\":\"Hist Gradient Boosting\"\n",
    "}\n",
    "# False True onezipcode onecounty outliers allzipcodes allcounties\n",
    "# \"Linear Regression\" \"KNearest Neighbor\" \"Decision Tree\" \"Polynomial\" \"Lasso\" \"Ridge\" \"Linear SVR\"\n",
    "# \"Random Forest\" \"Hist Gradient Boosting\" \"Gradient Boosting\" \"Adaboost\""
   ]
  },
  {
   "cell_type": "code",
   "execution_count": null,
   "id": "a5ef97a2",
   "metadata": {},
   "outputs": [],
   "source": []
  },
  {
   "cell_type": "code",
   "execution_count": 6,
   "id": "3ec86737",
   "metadata": {},
   "outputs": [
    {
     "data": {
      "text/plain": [
       "6010.0"
      ]
     },
     "execution_count": 6,
     "metadata": {},
     "output_type": "execute_result"
    }
   ],
   "source": [
    "groupby_zipcode = outliers_df.groupby([\"zip_code\"])[\"zip_code\"].count().sort_values(ascending=False)\n",
    "groupby_zipcode_df = pd.DataFrame(groupby_zipcode).rename(columns={\"zip_code\":\"count\"}).reset_index()\n",
    "first_zipcode = groupby_zipcode_df.iloc[0][\"zip_code\"]\n",
    "first_zipcode"
   ]
  },
  {
   "cell_type": "code",
   "execution_count": 7,
   "id": "f355b320",
   "metadata": {},
   "outputs": [],
   "source": [
    "one_zipcode_df = outliers_df[outliers_df[\"zip_code\"].isin([first_zipcode])]"
   ]
  },
  {
   "cell_type": "code",
   "execution_count": 8,
   "id": "77729e9a",
   "metadata": {},
   "outputs": [
    {
     "name": "stdout",
     "output_type": "stream",
     "text": [
      "<class 'pandas.core.frame.DataFrame'>\n",
      "Index: 141 entries, 994 to 1134\n",
      "Data columns (total 10 columns):\n",
      " #   Column          Non-Null Count  Dtype  \n",
      "---  ------          --------------  -----  \n",
      " 0   bed             141 non-null    float64\n",
      " 1   bath            141 non-null    float64\n",
      " 2   acre_lot        141 non-null    float64\n",
      " 3   zip_code        141 non-null    float64\n",
      " 4   house_size      141 non-null    float64\n",
      " 5   price           141 non-null    float64\n",
      " 6   prev_sold_year  141 non-null    float64\n",
      " 7   latitude        141 non-null    float64\n",
      " 8   longitude       141 non-null    float64\n",
      " 9   county          141 non-null    float64\n",
      "dtypes: float64(10)\n",
      "memory usage: 12.1 KB\n"
     ]
    }
   ],
   "source": [
    "one_zipcode_df.info()"
   ]
  },
  {
   "cell_type": "code",
   "execution_count": null,
   "id": "791ca063",
   "metadata": {},
   "outputs": [],
   "source": []
  },
  {
   "cell_type": "code",
   "execution_count": 9,
   "id": "e08a9af0",
   "metadata": {},
   "outputs": [
    {
     "data": {
      "text/plain": [
       "12.0"
      ]
     },
     "execution_count": 9,
     "metadata": {},
     "output_type": "execute_result"
    }
   ],
   "source": [
    "groupby_county = outliers_df.groupby([\"county\"])[\"county\"].count().sort_values(ascending=False)\n",
    "groupby_county_df = pd.DataFrame(groupby_county).rename(columns={\"county\":\"count\"}).reset_index()\n",
    "first_county = groupby_county_df.iloc[0][\"county\"]\n",
    "first_county"
   ]
  },
  {
   "cell_type": "code",
   "execution_count": 10,
   "id": "da37a7ce",
   "metadata": {},
   "outputs": [],
   "source": [
    "one_county_df = outliers_df[outliers_df[\"county\"].isin([first_county])]"
   ]
  },
  {
   "cell_type": "code",
   "execution_count": 11,
   "id": "4fec5c39",
   "metadata": {},
   "outputs": [
    {
     "name": "stdout",
     "output_type": "stream",
     "text": [
      "<class 'pandas.core.frame.DataFrame'>\n",
      "Index: 852 entries, 112 to 2935\n",
      "Data columns (total 10 columns):\n",
      " #   Column          Non-Null Count  Dtype  \n",
      "---  ------          --------------  -----  \n",
      " 0   bed             852 non-null    float64\n",
      " 1   bath            852 non-null    float64\n",
      " 2   acre_lot        852 non-null    float64\n",
      " 3   zip_code        852 non-null    float64\n",
      " 4   house_size      852 non-null    float64\n",
      " 5   price           852 non-null    float64\n",
      " 6   prev_sold_year  852 non-null    float64\n",
      " 7   latitude        852 non-null    float64\n",
      " 8   longitude       852 non-null    float64\n",
      " 9   county          852 non-null    float64\n",
      "dtypes: float64(10)\n",
      "memory usage: 73.2 KB\n"
     ]
    }
   ],
   "source": [
    "one_county_df.info()"
   ]
  },
  {
   "cell_type": "code",
   "execution_count": null,
   "id": "2786986f-aeb5-43ab-9530-191461862758",
   "metadata": {},
   "outputs": [],
   "source": []
  },
  {
   "cell_type": "code",
   "execution_count": 12,
   "id": "8ec85669",
   "metadata": {},
   "outputs": [],
   "source": [
    "which_dataframe = outliers_df\n",
    "match switches[\"which_df\"]:\n",
    "    case \"onezipcode\":\n",
    "        which_dataframe = one_zipcode_df\n",
    "    case \"onecounty\":\n",
    "        which_dataframe = one_county_df\n",
    "    case \"allzipcodes\":\n",
    "        which_dataframe = outliers_df\n",
    "    case \"allcounties\":\n",
    "        which_dataframe = outliers_df\n",
    "    case _:\n",
    "        which_dataframe = outliers_df"
   ]
  },
  {
   "cell_type": "code",
   "execution_count": 13,
   "id": "e66a91f5",
   "metadata": {},
   "outputs": [
    {
     "data": {
      "text/html": [
       "<div>\n",
       "<style scoped>\n",
       "    .dataframe tbody tr th:only-of-type {\n",
       "        vertical-align: middle;\n",
       "    }\n",
       "\n",
       "    .dataframe tbody tr th {\n",
       "        vertical-align: top;\n",
       "    }\n",
       "\n",
       "    .dataframe thead th {\n",
       "        text-align: right;\n",
       "    }\n",
       "</style>\n",
       "<table border=\"1\" class=\"dataframe\">\n",
       "  <thead>\n",
       "    <tr style=\"text-align: right;\">\n",
       "      <th></th>\n",
       "      <th>bed</th>\n",
       "      <th>bath</th>\n",
       "      <th>acre_lot</th>\n",
       "      <th>zip_code</th>\n",
       "      <th>house_size</th>\n",
       "      <th>price</th>\n",
       "      <th>prev_sold_year</th>\n",
       "      <th>latitude</th>\n",
       "      <th>longitude</th>\n",
       "      <th>county</th>\n",
       "    </tr>\n",
       "  </thead>\n",
       "  <tbody>\n",
       "    <tr>\n",
       "      <th>7849</th>\n",
       "      <td>3.0</td>\n",
       "      <td>4.0</td>\n",
       "      <td>0.11</td>\n",
       "      <td>6907.0</td>\n",
       "      <td>1720.0</td>\n",
       "      <td>449999.0</td>\n",
       "      <td>2002.0</td>\n",
       "      <td>41.100918</td>\n",
       "      <td>-73.520517</td>\n",
       "      <td>3.0</td>\n",
       "    </tr>\n",
       "    <tr>\n",
       "      <th>7850</th>\n",
       "      <td>3.0</td>\n",
       "      <td>3.0</td>\n",
       "      <td>0.11</td>\n",
       "      <td>6907.0</td>\n",
       "      <td>1738.0</td>\n",
       "      <td>469000.0</td>\n",
       "      <td>2017.0</td>\n",
       "      <td>41.100918</td>\n",
       "      <td>-73.520517</td>\n",
       "      <td>3.0</td>\n",
       "    </tr>\n",
       "    <tr>\n",
       "      <th>7851</th>\n",
       "      <td>1.0</td>\n",
       "      <td>1.0</td>\n",
       "      <td>0.11</td>\n",
       "      <td>6907.0</td>\n",
       "      <td>844.0</td>\n",
       "      <td>275000.0</td>\n",
       "      <td>2018.0</td>\n",
       "      <td>41.100918</td>\n",
       "      <td>-73.520517</td>\n",
       "      <td>3.0</td>\n",
       "    </tr>\n",
       "    <tr>\n",
       "      <th>7852</th>\n",
       "      <td>4.0</td>\n",
       "      <td>3.0</td>\n",
       "      <td>0.56</td>\n",
       "      <td>6907.0</td>\n",
       "      <td>2390.0</td>\n",
       "      <td>919000.0</td>\n",
       "      <td>2004.0</td>\n",
       "      <td>41.100918</td>\n",
       "      <td>-73.520517</td>\n",
       "      <td>3.0</td>\n",
       "    </tr>\n",
       "    <tr>\n",
       "      <th>7853</th>\n",
       "      <td>3.0</td>\n",
       "      <td>2.0</td>\n",
       "      <td>0.21</td>\n",
       "      <td>6907.0</td>\n",
       "      <td>1314.0</td>\n",
       "      <td>619900.0</td>\n",
       "      <td>2006.0</td>\n",
       "      <td>41.100918</td>\n",
       "      <td>-73.520517</td>\n",
       "      <td>3.0</td>\n",
       "    </tr>\n",
       "  </tbody>\n",
       "</table>\n",
       "</div>"
      ],
      "text/plain": [
       "      bed  bath  acre_lot  zip_code  house_size     price  prev_sold_year  \\\n",
       "7849  3.0   4.0      0.11    6907.0      1720.0  449999.0          2002.0   \n",
       "7850  3.0   3.0      0.11    6907.0      1738.0  469000.0          2017.0   \n",
       "7851  1.0   1.0      0.11    6907.0       844.0  275000.0          2018.0   \n",
       "7852  4.0   3.0      0.56    6907.0      2390.0  919000.0          2004.0   \n",
       "7853  3.0   2.0      0.21    6907.0      1314.0  619900.0          2006.0   \n",
       "\n",
       "       latitude  longitude  county  \n",
       "7849  41.100918 -73.520517     3.0  \n",
       "7850  41.100918 -73.520517     3.0  \n",
       "7851  41.100918 -73.520517     3.0  \n",
       "7852  41.100918 -73.520517     3.0  \n",
       "7853  41.100918 -73.520517     3.0  "
      ]
     },
     "execution_count": 13,
     "metadata": {},
     "output_type": "execute_result"
    }
   ],
   "source": [
    "normalize_df = which_dataframe\n",
    "\n",
    "params = {\n",
    "    \"data\":which_dataframe,\n",
    "    \"features_a\":[\"prev_sold_year\",\"zip_code\",\"latitude\",\"longitude\",\"county\"],\n",
    "    \"features_n\":[\"bed\",\"bath\",\"acre_lot\",\"house_size\",\"price\"]\n",
    "}\n",
    "\n",
    "match switches[\"normalize\"]:\n",
    "    case True:\n",
    "        normalize_df = mean_and_std(params)\n",
    "\n",
    "normalize_df.tail()"
   ]
  },
  {
   "cell_type": "code",
   "execution_count": 14,
   "id": "9800d835-7975-428c-89d8-b25254f25ea5",
   "metadata": {},
   "outputs": [
    {
     "name": "stdout",
     "output_type": "stream",
     "text": [
      "<class 'pandas.core.frame.DataFrame'>\n",
      "RangeIndex: 7854 entries, 0 to 7853\n",
      "Data columns (total 10 columns):\n",
      " #   Column          Non-Null Count  Dtype  \n",
      "---  ------          --------------  -----  \n",
      " 0   bed             7854 non-null   float64\n",
      " 1   bath            7854 non-null   float64\n",
      " 2   acre_lot        7854 non-null   float64\n",
      " 3   zip_code        7854 non-null   float64\n",
      " 4   house_size      7854 non-null   float64\n",
      " 5   price           7854 non-null   float64\n",
      " 6   prev_sold_year  7854 non-null   float64\n",
      " 7   latitude        7854 non-null   float64\n",
      " 8   longitude       7854 non-null   float64\n",
      " 9   county          7854 non-null   float64\n",
      "dtypes: float64(10)\n",
      "memory usage: 613.7 KB\n"
     ]
    }
   ],
   "source": [
    "normalize_df.info()"
   ]
  },
  {
   "cell_type": "code",
   "execution_count": 15,
   "id": "8b851276",
   "metadata": {},
   "outputs": [
    {
     "data": {
      "text/plain": [
       "acre_lot          0.209467\n",
       "bed               0.373720\n",
       "bath              0.638711\n",
       "house_size        0.666238\n",
       "prev_sold_year   -0.016996\n",
       "price             1.000000\n",
       "latitude         -0.378748\n",
       "longitude        -0.360822\n",
       "Name: price, dtype: float64"
      ]
     },
     "execution_count": 15,
     "metadata": {},
     "output_type": "execute_result"
    }
   ],
   "source": [
    "norm_features = [\"acre_lot\",\"bed\",\"bath\",\"house_size\",\"prev_sold_year\",\"price\"]\n",
    "\n",
    "match switches[\"which_df\"]:\n",
    "    case \"allzipcodes\":\n",
    "        norm_features.append(\"zip_code\")\n",
    "    case \"allcounties\":\n",
    "        norm_features.append(\"county\")\n",
    "    case _:\n",
    "        norm_features.append(\"latitude\")\n",
    "        norm_features.append(\"longitude\")\n",
    "                             \n",
    "correlation = normalize_df[norm_features].corr()\n",
    "correlation[\"price\"]"
   ]
  },
  {
   "cell_type": "code",
   "execution_count": 16,
   "id": "7c7ccbc8",
   "metadata": {},
   "outputs": [
    {
     "data": {
      "text/plain": [
       "Text(0.5, 1.0, 'Correlation Between Variables')"
      ]
     },
     "execution_count": 16,
     "metadata": {},
     "output_type": "execute_result"
    },
    {
     "data": {
      "image/png": "[encoded data removed]",
      "text/plain": [
       "<Figure size 640x480 with 2 Axes>"
      ]
     },
     "metadata": {},
     "output_type": "display_data"
    }
   ],
   "source": [
    "sns.heatmap(correlation, vmin=-1, vmax=1, cmap = 'coolwarm', annot=True, fmt='.2f', linewidths=0.1)\n",
    "plt.title(\"Correlation Between Variables\", pad=20)"
   ]
  },
  {
   "cell_type": "code",
   "execution_count": 17,
   "id": "3fcd3f97",
   "metadata": {},
   "outputs": [
    {
     "name": "stdout",
     "output_type": "stream",
     "text": [
      "['latitude', 'longitude', 'acre_lot', 'bed', 'bath', 'house_size']\n"
     ]
    }
   ],
   "source": [
    "corrfeatures = [\"county\",\"latitude\",\"longitude\",\"zip_code\"]\n",
    "\n",
    "match switches[\"which_df\"]:\n",
    "    case \"onezipcode\":\n",
    "        corrfeatures = []\n",
    "    case \"onecounty\":\n",
    "        corrfeatures = []\n",
    "    case \"allzipcodes\":\n",
    "        corrfeatures = [\"zip_code\"]\n",
    "    case \"allcounties\":\n",
    "        corrfeatures = [\"county\"]\n",
    "    case _:\n",
    "        corrfeatures = [\"latitude\",\"longitude\"]\n",
    "\n",
    "\n",
    "for feature, value in correlation[\"price\"].items():\n",
    "    if abs(value) < 0.81 and abs(value) >= 0.20:\n",
    "        corrfeatures.append(feature)\n",
    "        \n",
    "savefeatures = list(dict.fromkeys(corrfeatures))\n",
    "print(savefeatures)"
   ]
  },
  {
   "cell_type": "code",
   "execution_count": 18,
   "id": "009d5cc1",
   "metadata": {},
   "outputs": [],
   "source": [
    "pariplot_features = []\n",
    "for feature, value in correlation[\"price\"].items():\n",
    "        pariplot_features.append(feature)"
   ]
  },
  {
   "cell_type": "code",
   "execution_count": 19,
   "id": "3f410fd9",
   "metadata": {},
   "outputs": [],
   "source": [
    "features = savefeatures\n",
    "num_features_to_select = len(features)-1\n",
    "random_state_value = 42"
   ]
  },
  {
   "cell_type": "code",
   "execution_count": 20,
   "id": "a34be2ad",
   "metadata": {},
   "outputs": [],
   "source": [
    "X = normalize_df[features]\n",
    "y = normalize_df[\"price\"]\n",
    "X_train, X_test, y_train, y_test = train_test_split(X, y, test_size=0.3, random_state=random_state_value)"
   ]
  },
  {
   "cell_type": "code",
   "execution_count": 21,
   "id": "a1e8fc86-6808-4b59-a0fc-9f271c0fb793",
   "metadata": {},
   "outputs": [],
   "source": [
    "model_gscv = None\n",
    "model_predictions = None"
   ]
  },
  {
   "cell_type": "code",
   "execution_count": 22,
   "id": "57837a5f",
   "metadata": {},
   "outputs": [],
   "source": [
    "if switches[\"model\"] == \"KNearest Neighbor\":\n",
    "    knn_params = {'n_neighbors': range(20, 25, 1)}\n",
    "    knn_gscv = GridSearchCV(KNeighborsRegressor(), param_grid=knn_params, cv=5).fit(X, y)\n",
    "    knn_gscv.best_params_\n",
    "    knn = KNeighborsRegressor(**knn_gscv.best_params_)\n",
    "    \n",
    "    model_gscv = GridSearchCV(knn, param_grid={}, cv=5)\n",
    "    \n",
    "    knn_model = model_gscv.fit(X_train,y_train)\n",
    "    \n",
    "    model_predictions = knn_model.predict(X_test)"
   ]
  },
  {
   "cell_type": "code",
   "execution_count": null,
   "id": "5dbd9999",
   "metadata": {},
   "outputs": [],
   "source": []
  },
  {
   "cell_type": "code",
   "execution_count": 23,
   "id": "36d41ecc",
   "metadata": {},
   "outputs": [],
   "source": [
    "if switches[\"model\"] == \"Decision Tree\":\n",
    "\n",
    "    dtree_params = {'max_depth': range(1,6,1),\n",
    "         'random_state':[42]}\n",
    "    dtree_gscv = GridSearchCV(DecisionTreeRegressor(), param_grid=dtree_params).fit(X, y)\n",
    "    dtree_gscv.best_params_\n",
    "\n",
    "    dtree = DecisionTreeRegressor(**dtree_gscv.best_params_)\n",
    "    \n",
    "    model_gscv = GridSearchCV(dtree, param_grid={})\n",
    "    \n",
    "    dtree_model = model_gscv.fit(X_train,y_train)\n",
    "    \n",
    "    model_predictions = dtree_model.predict(X_test)"
   ]
  },
  {
   "cell_type": "code",
   "execution_count": null,
   "id": "ad80a7a2-1bac-4677-adb4-2cb83d18a805",
   "metadata": {},
   "outputs": [],
   "source": []
  },
  {
   "cell_type": "code",
   "execution_count": 24,
   "id": "17aebcc3-dc2b-442e-a13f-a5aa2873e532",
   "metadata": {},
   "outputs": [],
   "source": [
    "if switches[\"model\"] == \"Linear Regression\":\n",
    "    lgr = LinearRegression(fit_intercept=False)\n",
    "    \n",
    "    model_gscv = GridSearchCV(lgr, param_grid={})\n",
    "    \n",
    "    lgr_model = model_gscv.fit(X_train,y_train)\n",
    "    \n",
    "    model_predictions = lgr_model.predict(X_test)"
   ]
  },
  {
   "cell_type": "code",
   "execution_count": null,
   "id": "772c5c7c-b800-4935-a83d-cf7f9d4c1fd9",
   "metadata": {},
   "outputs": [],
   "source": []
  },
  {
   "cell_type": "code",
   "execution_count": 25,
   "id": "860e3374-4433-4cb7-a110-b72e7ba918f8",
   "metadata": {},
   "outputs": [],
   "source": [
    "if switches[\"model\"] == \"Polynomial\":\n",
    "    poly_pipeline = Pipeline([\n",
    "        ('poly_features', PolynomialFeatures()), \n",
    "        ('poly_model', LinearRegression())\n",
    "    ])\n",
    "    \n",
    "    poly_degrees = range(1,5,1)\n",
    "    \n",
    "    poly_pipeline_params={\"poly_features__degree\":poly_degrees,\"poly_features__include_bias\":[False],\"poly_model__fit_intercept\":[True]}\n",
    "    poly_grid_searchcv = GridSearchCV(poly_pipeline, param_grid=poly_pipeline_params, cv=5, verbose=1)\n",
    "    poly_grid_searchcv.fit(X, y)\n",
    "    \n",
    "    poly_grid_searchcv.best_params_\n",
    "\n",
    "    poly_best_params = {}\n",
    "    for what in poly_grid_searchcv.best_params_:\n",
    "        if poly_best_params.get(what) == None:\n",
    "            poly_best_params[what] = []\n",
    "        poly_best_params[what].append(poly_grid_searchcv.best_params_[what])\n",
    "\n",
    "    poly_pipeline = Pipeline([\n",
    "        ('poly_features', PolynomialFeatures()), \n",
    "        ('poly_model', LinearRegression())\n",
    "    ])\n",
    "    \n",
    "    model_gscv = GridSearchCV(poly_pipeline, param_grid=poly_best_params, cv=5, verbose=1)\n",
    "    \n",
    "    poly_model = model_gscv.fit(X_train, y_train)\n",
    "    \n",
    "    model_predictions = poly_model.predict(X_test)"
   ]
  },
  {
   "cell_type": "code",
   "execution_count": null,
   "id": "ad230b6c-97d7-4679-8f38-52b289566fb9",
   "metadata": {},
   "outputs": [],
   "source": []
  },
  {
   "cell_type": "code",
   "execution_count": 26,
   "id": "c7f9cdb9-47de-4f50-991f-3d1f2fbe1daa",
   "metadata": {},
   "outputs": [],
   "source": [
    "if switches[\"model\"] == \"Lasso\":\n",
    "    myrange = []\n",
    "    for i in range(7,12):\n",
    "        myrange.append(10**-i)\n",
    "    param_dict = {'alpha': myrange}\n",
    "    lasso_gscv = GridSearchCV(Lasso(), param_grid=param_dict, scoring='neg_mean_squared_error')\n",
    "    lasso_gscv_model = lasso_gscv.fit(X, y)\n",
    "\n",
    "    lasso_reg = Lasso(**lasso_gscv.best_params_)\n",
    "\n",
    "    model_gscv = GridSearchCV(lasso_reg, param_grid={})\n",
    "    \n",
    "    lasso_model = model_gscv.fit(X_train,y_train)\n",
    "    \n",
    "    model_predictions = lasso_model.predict(X_test)\n",
    "\n",
    "    print(lasso_gscv.best_params_)"
   ]
  },
  {
   "cell_type": "code",
   "execution_count": null,
   "id": "9aa1a7ad-f95e-4c29-b6ab-78e512a5a504",
   "metadata": {},
   "outputs": [],
   "source": []
  },
  {
   "cell_type": "code",
   "execution_count": 27,
   "id": "29850f01-99ea-47d6-b3f5-3f861118d75a",
   "metadata": {},
   "outputs": [],
   "source": [
    "if switches[\"model\"] == \"Ridge\":\n",
    "    myrange = []\n",
    "    for i in range(10,17):\n",
    "        myrange.append(10**-i)\n",
    "    param_dict = {'alpha': myrange}\n",
    "    ridge_gscv = GridSearchCV(Ridge(), param_grid=param_dict, scoring='neg_mean_squared_error')\n",
    "    ridge_gscv_model = ridge_gscv.fit(X, y)\n",
    "    \n",
    "    ridge_reg = Ridge(**ridge_gscv.best_params_)\n",
    "\n",
    "    model_gscv = GridSearchCV(ridge_reg, param_grid={})\n",
    "    \n",
    "    ridge_model = model_gscv.fit(X_train,y_train)\n",
    "    \n",
    "    model_predictions = ridge_model.predict(X_test)\n",
    "\n",
    "    print(ridge_gscv.best_params_)"
   ]
  },
  {
   "cell_type": "code",
   "execution_count": null,
   "id": "5a4e7b09-de39-49dc-b115-f42f6e31ad6a",
   "metadata": {},
   "outputs": [],
   "source": []
  },
  {
   "cell_type": "code",
   "execution_count": 28,
   "id": "9252eb7e-c375-47af-bcf9-e5d1e2d41c0d",
   "metadata": {},
   "outputs": [],
   "source": [
    "if switches[\"model\"] == \"Linear SVR\":\n",
    "    \n",
    "    params = {\n",
    "        'C': [15],\n",
    "        'tol':[0.10],\n",
    "        'epsilon': [0.10,0.20,0.30]\n",
    "    }\n",
    "    \n",
    "    lsvr_gscv = GridSearchCV(LinearSVR(), params, refit=True, verbose=0, cv=5).fit(X, y)\n",
    "    print(f\"Best parameters found: {lsvr_gscv.best_params_}\")\n",
    "\n",
    "    lsvr = LinearSVR(**lsvr_gscv.best_params_)\n",
    "    model_gscv = GridSearchCV(lsvr, param_grid={})\n",
    "    lsvr_model = model_gscv.fit(X_train,y_train)\n",
    "    model_predictions = lsvr_model.predict(X_test)"
   ]
  },
  {
   "cell_type": "code",
   "execution_count": null,
   "id": "8c1fbe76-3f49-4426-a651-b2dc9e88a781",
   "metadata": {},
   "outputs": [],
   "source": []
  },
  {
   "cell_type": "code",
   "execution_count": null,
   "id": "5eb6cbe9-6c68-4d74-88f7-a943440d6d26",
   "metadata": {},
   "outputs": [],
   "source": []
  },
  {
   "cell_type": "code",
   "execution_count": 29,
   "id": "6e723099-f17f-46ba-bed8-99ef01d0e67e",
   "metadata": {},
   "outputs": [],
   "source": [
    "if switches[\"model\"] == \"Adaboost\":\n",
    "    adaboost = AdaBoostRegressor()\n",
    "    model_gscv = GridSearchCV(adaboost, param_grid={})\n",
    "    adaboost_model = model_gscv.fit(X_train,y_train)\n",
    "    model_predictions = adaboost_model.predict(X_test)"
   ]
  },
  {
   "cell_type": "code",
   "execution_count": null,
   "id": "a838ea77-4a90-4a59-be6c-c68c6659664e",
   "metadata": {},
   "outputs": [],
   "source": []
  },
  {
   "cell_type": "code",
   "execution_count": 30,
   "id": "23e0148b-6525-469c-b7ab-0cc737488e1d",
   "metadata": {},
   "outputs": [],
   "source": [
    "if switches[\"model\"] == \"Gradient Boosting\":\n",
    "    grboost = GradientBoostingRegressor()\n",
    "    model_gscv = GridSearchCV(grboost, param_grid={})\n",
    "    grboost_model = model_gscv.fit(X_train,y_train)\n",
    "    model_predictions = grboost_model.predict(X_test)"
   ]
  },
  {
   "cell_type": "code",
   "execution_count": null,
   "id": "5e94bb1a-6db7-426a-8f30-dc5bb8de7af4",
   "metadata": {},
   "outputs": [],
   "source": []
  },
  {
   "cell_type": "code",
   "execution_count": 31,
   "id": "56ea680f-3a34-41a6-ade1-e825fef673b9",
   "metadata": {},
   "outputs": [],
   "source": [
    "if switches[\"model\"] == \"Hist Gradient Boosting\":\n",
    "    histgrboost = HistGradientBoostingRegressor()\n",
    "    model_gscv = GridSearchCV(histgrboost, param_grid={})\n",
    "    histgrboost_model = model_gscv.fit(X_train,y_train)\n",
    "    model_predictions = histgrboost_model.predict(X_test)"
   ]
  },
  {
   "cell_type": "code",
   "execution_count": null,
   "id": "5b324417-4618-4070-a68a-c8526df589b4",
   "metadata": {},
   "outputs": [],
   "source": []
  },
  {
   "cell_type": "code",
   "execution_count": 32,
   "id": "6d048905-21df-4c66-b1d8-c7f810863827",
   "metadata": {},
   "outputs": [],
   "source": [
    "if switches[\"model\"] == \"Random Forest\":\n",
    "    rf = RandomForestRegressor()\n",
    "    model_gscv = GridSearchCV(rf, param_grid={})\n",
    "    rf_model = model_gscv.fit(X_train,y_train)\n",
    "    model_predictions = rf_model.predict(X_test)"
   ]
  },
  {
   "cell_type": "code",
   "execution_count": null,
   "id": "010db975-89fe-4a91-bf6a-06eac9c43fc3",
   "metadata": {},
   "outputs": [],
   "source": []
  },
  {
   "cell_type": "code",
   "execution_count": null,
   "id": "e3a32e6a-4da5-4a69-9a6c-3baf87ccf02d",
   "metadata": {},
   "outputs": [],
   "source": []
  },
  {
   "cell_type": "code",
   "execution_count": 33,
   "id": "51348086",
   "metadata": {},
   "outputs": [],
   "source": [
    "pms_config = {\n",
    "    \"title\":switches[\"model\"], \n",
    "    \"y_param\":y_test, \n",
    "    \"predictions\":model_predictions, \n",
    "    \"gscv\":model_gscv\n",
    "}"
   ]
  },
  {
   "cell_type": "code",
   "execution_count": 34,
   "id": "54b6849f",
   "metadata": {},
   "outputs": [
    {
     "name": "stdout",
     "output_type": "stream",
     "text": [
      "Hist Gradient Boosting EVS = 0.770739146\n",
      "Hist Gradient Boosting MSE = 85,360,340,620.205643\n",
      "Hist Gradient Boosting MAE = 134,456.796606\n",
      "Hist Gradient Boosting R2 = 0.770739\n",
      "Hist Gradient Boosting Fit Time = 0.478285551071167\n"
     ]
    }
   ],
   "source": [
    "results = print_more_stuff(pms_config)\n",
    "results[\"dataframe\"] = switches[\"which_df\"]\n",
    "results[\"normalized\"] = switches[\"normalize\"]"
   ]
  },
  {
   "cell_type": "code",
   "execution_count": 35,
   "id": "d362be15",
   "metadata": {},
   "outputs": [],
   "source": [
    "results_dict = write_results(results,folder)"
   ]
  },
  {
   "cell_type": "code",
   "execution_count": 36,
   "id": "8b14ccc0",
   "metadata": {},
   "outputs": [],
   "source": [
    "predict_df = pd.DataFrame(model_predictions).reset_index()\n",
    "predict_df.rename(columns={0: \"prediction\"},inplace=True)\n",
    "\n",
    "y_test_df = pd.DataFrame(y_test).reset_index()"
   ]
  },
  {
   "cell_type": "code",
   "execution_count": 37,
   "id": "bdd7a05f",
   "metadata": {},
   "outputs": [
    {
     "data": {
      "image/png": "[encoded data removed]",
      "text/plain": [
       "<Figure size 1000x600 with 1 Axes>"
      ]
     },
     "metadata": {},
     "output_type": "display_data"
    }
   ],
   "source": [
    "fig, ax = plt.subplots(figsize=(10, 6))\n",
    "\n",
    "ax.ticklabel_format(style='plain')\n",
    "ax.yaxis.set_major_formatter('${x:1,.0f}')\n",
    "ax.xaxis.set_major_formatter(' ')\n",
    "\n",
    "plt.scatter(y_test_df.index,y_test_df[\"price\"], color=\"red\")\n",
    "plt.scatter(predict_df.index,predict_df[\"prediction\"], color=\"green\")\n",
    "plt.show()"
   ]
  },
  {
   "cell_type": "code",
   "execution_count": 38,
   "id": "5b9560f4",
   "metadata": {},
   "outputs": [
    {
     "data": {
      "text/plain": [
       "{'dataframe': 'outliers',\n",
       " 'normalized': False,\n",
       " 'timestamp': '2024/03/29 09:12:45',\n",
       " 'model': 'Hist Gradient Boosting',\n",
       " 'explained variance score': '0.770739146',\n",
       " 'mae score': '134,456.796606',\n",
       " 'mse score': '85,360,340,620.205643',\n",
       " 'r2 score': '0.770739',\n",
       " 'mean fit time': 0.478285551071167}"
      ]
     },
     "execution_count": 38,
     "metadata": {},
     "output_type": "execute_result"
    }
   ],
   "source": [
    "results_dict"
   ]
  },
  {
   "cell_type": "code",
   "execution_count": 39,
   "id": "e73d424d",
   "metadata": {},
   "outputs": [
    {
     "data": {
      "text/html": [
       "<div>\n",
       "<style scoped>\n",
       "    .dataframe tbody tr th:only-of-type {\n",
       "        vertical-align: middle;\n",
       "    }\n",
       "\n",
       "    .dataframe tbody tr th {\n",
       "        vertical-align: top;\n",
       "    }\n",
       "\n",
       "    .dataframe thead th {\n",
       "        text-align: right;\n",
       "    }\n",
       "</style>\n",
       "<table border=\"1\" class=\"dataframe\">\n",
       "  <thead>\n",
       "    <tr style=\"text-align: right;\">\n",
       "      <th></th>\n",
       "      <th>dataframe</th>\n",
       "      <th>normalized</th>\n",
       "      <th>timestamp</th>\n",
       "      <th>explained variance score</th>\n",
       "      <th>mae score</th>\n",
       "      <th>mse score</th>\n",
       "      <th>r2 score</th>\n",
       "      <th>mean fit time</th>\n",
       "    </tr>\n",
       "    <tr>\n",
       "      <th>model</th>\n",
       "      <th></th>\n",
       "      <th></th>\n",
       "      <th></th>\n",
       "      <th></th>\n",
       "      <th></th>\n",
       "      <th></th>\n",
       "      <th></th>\n",
       "      <th></th>\n",
       "    </tr>\n",
       "  </thead>\n",
       "  <tbody>\n",
       "    <tr>\n",
       "      <th>Hist Gradient Boosting</th>\n",
       "      <td>outliers</td>\n",
       "      <td>False</td>\n",
       "      <td>2024-03-29 09:12:45</td>\n",
       "      <td>0.770739</td>\n",
       "      <td>134,456.796606</td>\n",
       "      <td>85,360,340,620.205643</td>\n",
       "      <td>0.770739</td>\n",
       "      <td>0.478286</td>\n",
       "    </tr>\n",
       "  </tbody>\n",
       "</table>\n",
       "</div>"
      ],
      "text/plain": [
       "                       dataframe  normalized           timestamp  \\\n",
       "model                                                              \n",
       "Hist Gradient Boosting  outliers       False 2024-03-29 09:12:45   \n",
       "\n",
       "                        explained variance score       mae score  \\\n",
       "model                                                              \n",
       "Hist Gradient Boosting                  0.770739  134,456.796606   \n",
       "\n",
       "                                    mse score  r2 score  mean fit time  \n",
       "model                                                                   \n",
       "Hist Gradient Boosting  85,360,340,620.205643  0.770739       0.478286  "
      ]
     },
     "execution_count": 39,
     "metadata": {},
     "output_type": "execute_result"
    }
   ],
   "source": [
    "results_df = pd.read_json(folder+ \"/results.json\")\n",
    "\n",
    "model_comparisons = results_df.set_index('model').sort_values(\"r2 score\", ascending=True)\n",
    "model_comparisons"
   ]
  },
  {
   "cell_type": "code",
   "execution_count": null,
   "id": "204fb8ff",
   "metadata": {},
   "outputs": [],
   "source": []
  }
 ],
 "metadata": {
  "kernelspec": {
   "display_name": "Python 3 (ipykernel)",
   "language": "python",
   "name": "python3"
  },
  "language_info": {
   "codemirror_mode": {
    "name": "ipython",
    "version": 3
   },
   "file_extension": ".py",
   "mimetype": "text/x-python",
   "name": "python",
   "nbconvert_exporter": "python",
   "pygments_lexer": "ipython3",
   "version": "3.11.8"
  }
 },
 "nbformat": 4,
 "nbformat_minor": 5
}
