{
 "cells": [
  {
   "cell_type": "code",
   "execution_count": 1,
   "id": "2af4ff12",
   "metadata": {},
   "outputs": [],
   "source": [
    "from warnings import filterwarnings\n",
    "filterwarnings(\"ignore\")\n",
    "\n",
    "import sys\n",
    "sys.path.append('common')\n",
    "\n",
    "import datetime\n",
    "from print_more_stuff import print_more_stuff\n",
    "from regression_models import dosomething\n",
    "from pprint import pprint\n",
    "from preprocessing import mean_and_std\n",
    "from writejson import write_json\n",
    "from writeresults import write_results\n",
    "\n",
    "import pandas as pd\n",
    "import matplotlib.pyplot as plt\n",
    "import numpy as np\n",
    "import seaborn as sns\n",
    "\n",
    "\n",
    "from sklearn.svm import SVR \n",
    "from sklearn.neighbors import KNeighborsRegressor\n",
    "from sklearn.linear_model import LinearRegression, Ridge, Lasso\n",
    "from sklearn.tree import DecisionTreeRegressor\n",
    "from sklearn.preprocessing import PolynomialFeatures\n",
    "from sklearn.pipeline import Pipeline\n",
    "from sklearn.model_selection import train_test_split, GridSearchCV, cross_val_score\n",
    "from sklearn.ensemble import AdaBoostRegressor, GradientBoostingRegressor, HistGradientBoostingRegressor, RandomForestRegressor"
   ]
  },
  {
   "cell_type": "code",
   "execution_count": 2,
   "id": "304f70b8",
   "metadata": {},
   "outputs": [],
   "source": [
    "outliers_df = pd.read_csv('outliers.csv')\n",
    "outliers_df.drop(columns=[\"Unnamed: 0\"],inplace=True)"
   ]
  },
  {
   "cell_type": "code",
   "execution_count": 3,
   "id": "0c8dfc1c",
   "metadata": {},
   "outputs": [
    {
     "name": "stdout",
     "output_type": "stream",
     "text": [
      "<class 'pandas.core.frame.DataFrame'>\n",
      "RangeIndex: 20480 entries, 0 to 20479\n",
      "Data columns (total 10 columns):\n",
      " #   Column          Non-Null Count  Dtype  \n",
      "---  ------          --------------  -----  \n",
      " 0   bed             20480 non-null  float64\n",
      " 1   bath            20480 non-null  float64\n",
      " 2   acre_lot        20480 non-null  float64\n",
      " 3   zip_code        20480 non-null  float64\n",
      " 4   house_size      20480 non-null  float64\n",
      " 5   price           20480 non-null  float64\n",
      " 6   prev_sold_year  20480 non-null  float64\n",
      " 7   latitude        20480 non-null  float64\n",
      " 8   longitude       20480 non-null  float64\n",
      " 9   county          20480 non-null  float64\n",
      "dtypes: float64(10)\n",
      "memory usage: 1.6 MB\n"
     ]
    }
   ],
   "source": [
    "outliers_df.info()"
   ]
  },
  {
   "cell_type": "code",
   "execution_count": 4,
   "id": "39c3c6a3",
   "metadata": {},
   "outputs": [],
   "source": [
    "switches = {\n",
    "    \"which_df\":\"outliers\",\n",
    "    \"normalize\":False,\n",
    "    \"model\":\"SVR\"\n",
    "}\n",
    "state = \"nj\"\n",
    "# False True onezipcode onecounty outliers allzipcodes allcounties\n",
    "# \"Linear Regression\" \"KNearest Neighbor\" \"Decision Tree\" \"Polynomial\" \"Lasso\" \"Ridge\" \"SVR\"\n",
    "# \"Random Forest\" \"Hist Gradient Boosting\" \"Gradient Boosting\" \"Adaboost\""
   ]
  },
  {
   "cell_type": "code",
   "execution_count": null,
   "id": "a5ef97a2",
   "metadata": {},
   "outputs": [],
   "source": []
  },
  {
   "cell_type": "code",
   "execution_count": 5,
   "id": "3ec86737",
   "metadata": {},
   "outputs": [
    {
     "data": {
      "text/plain": [
       "8527.0"
      ]
     },
     "execution_count": 5,
     "metadata": {},
     "output_type": "execute_result"
    }
   ],
   "source": [
    "groupby_zipcode = outliers_df.groupby([\"zip_code\"])[\"zip_code\"].count().sort_values(ascending=False)\n",
    "groupby_zipcode_df = pd.DataFrame(groupby_zipcode).rename(columns={\"zip_code\":\"count\"}).reset_index()\n",
    "first_zipcode = groupby_zipcode_df.iloc[0][\"zip_code\"]\n",
    "first_zipcode"
   ]
  },
  {
   "cell_type": "code",
   "execution_count": 6,
   "id": "f355b320",
   "metadata": {},
   "outputs": [],
   "source": [
    "one_zipcode_df = outliers_df[outliers_df[\"zip_code\"].isin([first_zipcode])]"
   ]
  },
  {
   "cell_type": "code",
   "execution_count": 7,
   "id": "77729e9a",
   "metadata": {},
   "outputs": [
    {
     "name": "stdout",
     "output_type": "stream",
     "text": [
      "<class 'pandas.core.frame.DataFrame'>\n",
      "Index: 269 entries, 10338 to 10606\n",
      "Data columns (total 10 columns):\n",
      " #   Column          Non-Null Count  Dtype  \n",
      "---  ------          --------------  -----  \n",
      " 0   bed             269 non-null    float64\n",
      " 1   bath            269 non-null    float64\n",
      " 2   acre_lot        269 non-null    float64\n",
      " 3   zip_code        269 non-null    float64\n",
      " 4   house_size      269 non-null    float64\n",
      " 5   price           269 non-null    float64\n",
      " 6   prev_sold_year  269 non-null    float64\n",
      " 7   latitude        269 non-null    float64\n",
      " 8   longitude       269 non-null    float64\n",
      " 9   county          269 non-null    float64\n",
      "dtypes: float64(10)\n",
      "memory usage: 23.1 KB\n"
     ]
    }
   ],
   "source": [
    "one_zipcode_df.info()"
   ]
  },
  {
   "cell_type": "code",
   "execution_count": null,
   "id": "791ca063",
   "metadata": {},
   "outputs": [],
   "source": []
  },
  {
   "cell_type": "code",
   "execution_count": 8,
   "id": "e08a9af0",
   "metadata": {},
   "outputs": [
    {
     "data": {
      "text/plain": [
       "0.0"
      ]
     },
     "execution_count": 8,
     "metadata": {},
     "output_type": "execute_result"
    }
   ],
   "source": [
    "groupby_county = outliers_df.groupby([\"county\"])[\"county\"].count().sort_values(ascending=False)\n",
    "groupby_county_df = pd.DataFrame(groupby_county).rename(columns={\"county\":\"count\"}).reset_index()\n",
    "first_county = groupby_county_df.iloc[0][\"county\"]\n",
    "first_county"
   ]
  },
  {
   "cell_type": "code",
   "execution_count": 9,
   "id": "da37a7ce",
   "metadata": {},
   "outputs": [],
   "source": [
    "one_county_df = outliers_df[outliers_df[\"county\"].isin([first_county])]"
   ]
  },
  {
   "cell_type": "code",
   "execution_count": 10,
   "id": "4fec5c39",
   "metadata": {},
   "outputs": [
    {
     "name": "stdout",
     "output_type": "stream",
     "text": [
      "<class 'pandas.core.frame.DataFrame'>\n",
      "Index: 1721 entries, 13052 to 19278\n",
      "Data columns (total 10 columns):\n",
      " #   Column          Non-Null Count  Dtype  \n",
      "---  ------          --------------  -----  \n",
      " 0   bed             1721 non-null   float64\n",
      " 1   bath            1721 non-null   float64\n",
      " 2   acre_lot        1721 non-null   float64\n",
      " 3   zip_code        1721 non-null   float64\n",
      " 4   house_size      1721 non-null   float64\n",
      " 5   price           1721 non-null   float64\n",
      " 6   prev_sold_year  1721 non-null   float64\n",
      " 7   latitude        1721 non-null   float64\n",
      " 8   longitude       1721 non-null   float64\n",
      " 9   county          1721 non-null   float64\n",
      "dtypes: float64(10)\n",
      "memory usage: 147.9 KB\n"
     ]
    }
   ],
   "source": [
    "one_county_df.info()"
   ]
  },
  {
   "cell_type": "code",
   "execution_count": null,
   "id": "2786986f-aeb5-43ab-9530-191461862758",
   "metadata": {},
   "outputs": [],
   "source": []
  },
  {
   "cell_type": "code",
   "execution_count": 11,
   "id": "8ec85669",
   "metadata": {},
   "outputs": [],
   "source": [
    "which_dataframe = outliers_df\n",
    "match switches[\"which_df\"]:\n",
    "    case \"onezipcode\":\n",
    "        which_dataframe = one_zipcode_df\n",
    "    case \"onecounty\":\n",
    "        which_dataframe = one_county_df\n",
    "    case \"allzipcodes\":\n",
    "        which_dataframe = outliers_df\n",
    "    case \"allcounties\":\n",
    "        which_dataframe = outliers_df\n",
    "    case _:\n",
    "        which_dataframe = outliers_df"
   ]
  },
  {
   "cell_type": "code",
   "execution_count": 12,
   "id": "e66a91f5",
   "metadata": {},
   "outputs": [
    {
     "data": {
      "text/html": [
       "<div>\n",
       "<style scoped>\n",
       "    .dataframe tbody tr th:only-of-type {\n",
       "        vertical-align: middle;\n",
       "    }\n",
       "\n",
       "    .dataframe tbody tr th {\n",
       "        vertical-align: top;\n",
       "    }\n",
       "\n",
       "    .dataframe thead th {\n",
       "        text-align: right;\n",
       "    }\n",
       "</style>\n",
       "<table border=\"1\" class=\"dataframe\">\n",
       "  <thead>\n",
       "    <tr style=\"text-align: right;\">\n",
       "      <th></th>\n",
       "      <th>bed</th>\n",
       "      <th>bath</th>\n",
       "      <th>acre_lot</th>\n",
       "      <th>zip_code</th>\n",
       "      <th>house_size</th>\n",
       "      <th>price</th>\n",
       "      <th>prev_sold_year</th>\n",
       "      <th>latitude</th>\n",
       "      <th>longitude</th>\n",
       "      <th>county</th>\n",
       "    </tr>\n",
       "  </thead>\n",
       "  <tbody>\n",
       "    <tr>\n",
       "      <th>20475</th>\n",
       "      <td>4.0</td>\n",
       "      <td>3.0</td>\n",
       "      <td>0.94</td>\n",
       "      <td>8886.0</td>\n",
       "      <td>1500.0</td>\n",
       "      <td>579000.0</td>\n",
       "      <td>2019.0</td>\n",
       "      <td>40.687502</td>\n",
       "      <td>-75.101127</td>\n",
       "      <td>17.0</td>\n",
       "    </tr>\n",
       "    <tr>\n",
       "      <th>20476</th>\n",
       "      <td>3.0</td>\n",
       "      <td>3.0</td>\n",
       "      <td>0.11</td>\n",
       "      <td>8886.0</td>\n",
       "      <td>1500.0</td>\n",
       "      <td>356000.0</td>\n",
       "      <td>2006.0</td>\n",
       "      <td>40.687502</td>\n",
       "      <td>-75.101127</td>\n",
       "      <td>17.0</td>\n",
       "    </tr>\n",
       "    <tr>\n",
       "      <th>20477</th>\n",
       "      <td>3.0</td>\n",
       "      <td>2.0</td>\n",
       "      <td>0.23</td>\n",
       "      <td>8886.0</td>\n",
       "      <td>1500.0</td>\n",
       "      <td>69800.0</td>\n",
       "      <td>2021.0</td>\n",
       "      <td>40.687502</td>\n",
       "      <td>-75.101127</td>\n",
       "      <td>17.0</td>\n",
       "    </tr>\n",
       "    <tr>\n",
       "      <th>20478</th>\n",
       "      <td>4.0</td>\n",
       "      <td>3.0</td>\n",
       "      <td>0.31</td>\n",
       "      <td>8886.0</td>\n",
       "      <td>1500.0</td>\n",
       "      <td>459000.0</td>\n",
       "      <td>2009.0</td>\n",
       "      <td>40.687502</td>\n",
       "      <td>-75.101127</td>\n",
       "      <td>17.0</td>\n",
       "    </tr>\n",
       "    <tr>\n",
       "      <th>20479</th>\n",
       "      <td>3.0</td>\n",
       "      <td>2.0</td>\n",
       "      <td>0.14</td>\n",
       "      <td>8886.0</td>\n",
       "      <td>1500.0</td>\n",
       "      <td>79900.0</td>\n",
       "      <td>2020.0</td>\n",
       "      <td>40.687502</td>\n",
       "      <td>-75.101127</td>\n",
       "      <td>17.0</td>\n",
       "    </tr>\n",
       "  </tbody>\n",
       "</table>\n",
       "</div>"
      ],
      "text/plain": [
       "       bed  bath  acre_lot  zip_code  house_size     price  prev_sold_year  \\\n",
       "20475  4.0   3.0      0.94    8886.0      1500.0  579000.0          2019.0   \n",
       "20476  3.0   3.0      0.11    8886.0      1500.0  356000.0          2006.0   \n",
       "20477  3.0   2.0      0.23    8886.0      1500.0   69800.0          2021.0   \n",
       "20478  4.0   3.0      0.31    8886.0      1500.0  459000.0          2009.0   \n",
       "20479  3.0   2.0      0.14    8886.0      1500.0   79900.0          2020.0   \n",
       "\n",
       "        latitude  longitude  county  \n",
       "20475  40.687502 -75.101127    17.0  \n",
       "20476  40.687502 -75.101127    17.0  \n",
       "20477  40.687502 -75.101127    17.0  \n",
       "20478  40.687502 -75.101127    17.0  \n",
       "20479  40.687502 -75.101127    17.0  "
      ]
     },
     "execution_count": 12,
     "metadata": {},
     "output_type": "execute_result"
    }
   ],
   "source": [
    "normalize_df = which_dataframe\n",
    "\n",
    "params = {\n",
    "    \"data\":which_dataframe,\n",
    "    \"features_a\":[\"prev_sold_year\",\"zip_code\",\"latitude\",\"longitude\",\"county\"],\n",
    "    \"features_n\":[\"bed\",\"bath\",\"acre_lot\",\"house_size\",\"price\"]\n",
    "}\n",
    "\n",
    "match switches[\"normalize\"]:\n",
    "    case True:\n",
    "        normalize_df = mean_and_std(params)\n",
    "\n",
    "normalize_df.tail()"
   ]
  },
  {
   "cell_type": "code",
   "execution_count": 13,
   "id": "9800d835-7975-428c-89d8-b25254f25ea5",
   "metadata": {},
   "outputs": [
    {
     "name": "stdout",
     "output_type": "stream",
     "text": [
      "<class 'pandas.core.frame.DataFrame'>\n",
      "RangeIndex: 20480 entries, 0 to 20479\n",
      "Data columns (total 10 columns):\n",
      " #   Column          Non-Null Count  Dtype  \n",
      "---  ------          --------------  -----  \n",
      " 0   bed             20480 non-null  float64\n",
      " 1   bath            20480 non-null  float64\n",
      " 2   acre_lot        20480 non-null  float64\n",
      " 3   zip_code        20480 non-null  float64\n",
      " 4   house_size      20480 non-null  float64\n",
      " 5   price           20480 non-null  float64\n",
      " 6   prev_sold_year  20480 non-null  float64\n",
      " 7   latitude        20480 non-null  float64\n",
      " 8   longitude       20480 non-null  float64\n",
      " 9   county          20480 non-null  float64\n",
      "dtypes: float64(10)\n",
      "memory usage: 1.6 MB\n"
     ]
    }
   ],
   "source": [
    "normalize_df.info()"
   ]
  },
  {
   "cell_type": "code",
   "execution_count": 14,
   "id": "8b851276",
   "metadata": {},
   "outputs": [
    {
     "data": {
      "text/plain": [
       "acre_lot          0.013009\n",
       "bed               0.453542\n",
       "bath              0.618459\n",
       "house_size        0.361332\n",
       "prev_sold_year    0.031241\n",
       "price             1.000000\n",
       "latitude          0.118985\n",
       "longitude         0.270237\n",
       "Name: price, dtype: float64"
      ]
     },
     "execution_count": 14,
     "metadata": {},
     "output_type": "execute_result"
    }
   ],
   "source": [
    "norm_features = [\"acre_lot\",\"bed\",\"bath\",\"house_size\",\"prev_sold_year\",\"price\"]\n",
    "\n",
    "match switches[\"which_df\"]:\n",
    "    case \"allzipcodes\":\n",
    "        norm_features.append(\"zip_code\")\n",
    "    case \"allcounties\":\n",
    "        norm_features.append(\"county\")\n",
    "    case _:\n",
    "        norm_features.append(\"latitude\")\n",
    "        norm_features.append(\"longitude\")\n",
    "                             \n",
    "correlation = normalize_df[norm_features].corr()\n",
    "correlation[\"price\"]"
   ]
  },
  {
   "cell_type": "code",
   "execution_count": 15,
   "id": "7c7ccbc8",
   "metadata": {},
   "outputs": [
    {
     "data": {
      "text/plain": [
       "Text(0.5, 1.0, 'Correlation Between Variables')"
      ]
     },
     "execution_count": 15,
     "metadata": {},
     "output_type": "execute_result"
    },
    {
     "data": {
      "image/png": "[encoded data removed]",
      "text/plain": [
       "<Figure size 640x480 with 2 Axes>"
      ]
     },
     "metadata": {},
     "output_type": "display_data"
    }
   ],
   "source": [
    "sns.heatmap(correlation, vmin=-1, vmax=1, cmap = 'coolwarm', annot=True, fmt='.2f', linewidths=0.1)\n",
    "plt.title(\"Correlation Between Variables\", pad=20)"
   ]
  },
  {
   "cell_type": "code",
   "execution_count": 16,
   "id": "3fcd3f97",
   "metadata": {},
   "outputs": [
    {
     "name": "stdout",
     "output_type": "stream",
     "text": [
      "['latitude', 'longitude', 'bed', 'bath', 'house_size']\n"
     ]
    }
   ],
   "source": [
    "corrfeatures = [\"county\",\"latitude\",\"longitude\",\"zip_code\"]\n",
    "\n",
    "match switches[\"which_df\"]:\n",
    "    case \"onezipcode\":\n",
    "        corrfeatures = []\n",
    "    case \"onecounty\":\n",
    "        corrfeatures = []\n",
    "    case \"allzipcodes\":\n",
    "        corrfeatures = [\"zip_code\"]\n",
    "    case \"allcounties\":\n",
    "        corrfeatures = [\"county\"]\n",
    "    case _:\n",
    "        corrfeatures = [\"latitude\",\"longitude\"]\n",
    "\n",
    "\n",
    "for feature, value in correlation[\"price\"].items():\n",
    "    if abs(value) < 0.81 and abs(value) >= 0.20:\n",
    "        corrfeatures.append(feature)\n",
    "        \n",
    "savefeatures = list(dict.fromkeys(corrfeatures))\n",
    "print(savefeatures)"
   ]
  },
  {
   "cell_type": "code",
   "execution_count": 17,
   "id": "009d5cc1",
   "metadata": {},
   "outputs": [],
   "source": [
    "pariplot_features = []\n",
    "for feature, value in correlation[\"price\"].items():\n",
    "        pariplot_features.append(feature)"
   ]
  },
  {
   "cell_type": "code",
   "execution_count": 18,
   "id": "3f410fd9",
   "metadata": {},
   "outputs": [],
   "source": [
    "features = savefeatures\n",
    "num_features_to_select = len(features)-1\n",
    "random_state_value = 42"
   ]
  },
  {
   "cell_type": "code",
   "execution_count": 19,
   "id": "a34be2ad",
   "metadata": {},
   "outputs": [],
   "source": [
    "X = normalize_df[features]\n",
    "y = normalize_df[\"price\"]\n",
    "X_train, X_test, y_train, y_test = train_test_split(X, y, test_size=0.3, random_state=random_state_value)"
   ]
  },
  {
   "cell_type": "code",
   "execution_count": 20,
   "id": "a1e8fc86-6808-4b59-a0fc-9f271c0fb793",
   "metadata": {},
   "outputs": [],
   "source": [
    "model_gscv = None\n",
    "model_predictions = None"
   ]
  },
  {
   "cell_type": "code",
   "execution_count": 21,
   "id": "57837a5f",
   "metadata": {},
   "outputs": [],
   "source": [
    "if switches[\"model\"] == \"KNearest Neighbor\":\n",
    "    knn_params = {'n_neighbors': range(20, 25, 1)}\n",
    "    knn_gscv = GridSearchCV(KNeighborsRegressor(), param_grid=knn_params, cv=5).fit(X, y)\n",
    "    knn_gscv.best_params_\n",
    "    knn = KNeighborsRegressor(**knn_gscv.best_params_)\n",
    "    \n",
    "    model_gscv = GridSearchCV(knn, param_grid={}, cv=5)\n",
    "    \n",
    "    knn_model = model_gscv.fit(X_train,y_train)\n",
    "    \n",
    "    model_predictions = knn_model.predict(X_test)"
   ]
  },
  {
   "cell_type": "code",
   "execution_count": null,
   "id": "5dbd9999",
   "metadata": {},
   "outputs": [],
   "source": []
  },
  {
   "cell_type": "code",
   "execution_count": 22,
   "id": "36d41ecc",
   "metadata": {},
   "outputs": [],
   "source": [
    "if switches[\"model\"] == \"Decision Tree\":\n",
    "\n",
    "    dtree_params = {'max_depth': range(1,6,1),\n",
    "         'random_state':[42]}\n",
    "    dtree_gscv = GridSearchCV(DecisionTreeRegressor(), param_grid=dtree_params).fit(X, y)\n",
    "    dtree_gscv.best_params_\n",
    "\n",
    "    dtree = DecisionTreeRegressor(**dtree_gscv.best_params_)\n",
    "    \n",
    "    model_gscv = GridSearchCV(dtree, param_grid={})\n",
    "    \n",
    "    dtree_model = model_gscv.fit(X_train,y_train)\n",
    "    \n",
    "    model_predictions = dtree_model.predict(X_test)"
   ]
  },
  {
   "cell_type": "code",
   "execution_count": null,
   "id": "ad80a7a2-1bac-4677-adb4-2cb83d18a805",
   "metadata": {},
   "outputs": [],
   "source": []
  },
  {
   "cell_type": "code",
   "execution_count": 23,
   "id": "17aebcc3-dc2b-442e-a13f-a5aa2873e532",
   "metadata": {},
   "outputs": [],
   "source": [
    "if switches[\"model\"] == \"Linear Regression\":\n",
    "    lgr = LinearRegression(fit_intercept=False)\n",
    "    \n",
    "    model_gscv = GridSearchCV(lgr, param_grid={})\n",
    "    \n",
    "    lgr_model = model_gscv.fit(X_train,y_train)\n",
    "    \n",
    "    model_predictions = lgr_model.predict(X_test)"
   ]
  },
  {
   "cell_type": "code",
   "execution_count": null,
   "id": "772c5c7c-b800-4935-a83d-cf7f9d4c1fd9",
   "metadata": {},
   "outputs": [],
   "source": []
  },
  {
   "cell_type": "code",
   "execution_count": 24,
   "id": "860e3374-4433-4cb7-a110-b72e7ba918f8",
   "metadata": {},
   "outputs": [],
   "source": [
    "if switches[\"model\"] == \"Polynomial\":\n",
    "    poly_pipeline = Pipeline([\n",
    "        ('poly_features', PolynomialFeatures()), \n",
    "        ('poly_model', LinearRegression())\n",
    "    ])\n",
    "    \n",
    "    poly_degrees = range(1,5,1)\n",
    "    \n",
    "    poly_pipeline_params={\"poly_features__degree\":poly_degrees,\"poly_features__include_bias\":[False],\"poly_model__fit_intercept\":[True]}\n",
    "    poly_grid_searchcv = GridSearchCV(poly_pipeline, param_grid=poly_pipeline_params, cv=5, verbose=1)\n",
    "    poly_grid_searchcv.fit(X, y)\n",
    "    \n",
    "    poly_grid_searchcv.best_params_\n",
    "\n",
    "    poly_best_params = {}\n",
    "    for what in poly_grid_searchcv.best_params_:\n",
    "        if poly_best_params.get(what) == None:\n",
    "            poly_best_params[what] = []\n",
    "        poly_best_params[what].append(poly_grid_searchcv.best_params_[what])\n",
    "\n",
    "    poly_pipeline = Pipeline([\n",
    "        ('poly_features', PolynomialFeatures()), \n",
    "        ('poly_model', LinearRegression())\n",
    "    ])\n",
    "    \n",
    "    model_gscv = GridSearchCV(poly_pipeline, param_grid=poly_best_params, cv=5, verbose=1)\n",
    "    \n",
    "    poly_model = model_gscv.fit(X_train, y_train)\n",
    "    \n",
    "    model_predictions = poly_model.predict(X_test)"
   ]
  },
  {
   "cell_type": "code",
   "execution_count": null,
   "id": "ad230b6c-97d7-4679-8f38-52b289566fb9",
   "metadata": {},
   "outputs": [],
   "source": []
  },
  {
   "cell_type": "code",
   "execution_count": 25,
   "id": "c7f9cdb9-47de-4f50-991f-3d1f2fbe1daa",
   "metadata": {},
   "outputs": [],
   "source": [
    "if switches[\"model\"] == \"Lasso\":\n",
    "    myrange = []\n",
    "    for i in range(7,12):\n",
    "        myrange.append(10**-i)\n",
    "    param_dict = {'alpha': myrange}\n",
    "    lasso_gscv = GridSearchCV(Lasso(), param_grid=param_dict, scoring='neg_mean_squared_error')\n",
    "    lasso_gscv_model = lasso_gscv.fit(X, y)\n",
    "\n",
    "    lasso_reg = Lasso(**lasso_gscv.best_params_)\n",
    "\n",
    "    model_gscv = GridSearchCV(lasso_reg, param_grid={})\n",
    "    \n",
    "    lasso_model = model_gscv.fit(X_train,y_train)\n",
    "    \n",
    "    model_predictions = lasso_model.predict(X_test)\n",
    "\n",
    "    print(lasso_gscv.best_params_)"
   ]
  },
  {
   "cell_type": "code",
   "execution_count": null,
   "id": "9aa1a7ad-f95e-4c29-b6ab-78e512a5a504",
   "metadata": {},
   "outputs": [],
   "source": []
  },
  {
   "cell_type": "code",
   "execution_count": 26,
   "id": "29850f01-99ea-47d6-b3f5-3f861118d75a",
   "metadata": {},
   "outputs": [],
   "source": [
    "if switches[\"model\"] == \"Ridge\":\n",
    "    myrange = []\n",
    "    for i in range(10,17):\n",
    "        myrange.append(10**-i)\n",
    "    param_dict = {'alpha': myrange}\n",
    "    ridge_gscv = GridSearchCV(Ridge(), param_grid=param_dict, scoring='neg_mean_squared_error')\n",
    "    ridge_gscv_model = ridge_gscv.fit(X, y)\n",
    "    \n",
    "    ridge_reg = Ridge(**ridge_gscv.best_params_)\n",
    "\n",
    "    model_gscv = GridSearchCV(ridge_reg, param_grid={})\n",
    "    \n",
    "    ridge_model = model_gscv.fit(X_train,y_train)\n",
    "    \n",
    "    model_predictions = ridge_model.predict(X_test)\n",
    "\n",
    "    print(ridge_gscv.best_params_)"
   ]
  },
  {
   "cell_type": "code",
   "execution_count": null,
   "id": "5a4e7b09-de39-49dc-b115-f42f6e31ad6a",
   "metadata": {},
   "outputs": [],
   "source": []
  },
  {
   "cell_type": "code",
   "execution_count": 32,
   "id": "9252eb7e-c375-47af-bcf9-e5d1e2d41c0d",
   "metadata": {},
   "outputs": [
    {
     "name": "stdout",
     "output_type": "stream",
     "text": [
      "Fitting 5 folds for each of 1 candidates, totalling 5 fits\n",
      "[CV] END ...........C=1, epsilon=0.2, gamma=1, kernel=linear; total time=  15.0s\n",
      "[CV] END ...........C=1, epsilon=0.2, gamma=1, kernel=linear; total time=  13.6s\n",
      "[CV] END ...........C=1, epsilon=0.2, gamma=1, kernel=linear; total time=  13.7s\n",
      "[CV] END ...........C=1, epsilon=0.2, gamma=1, kernel=linear; total time=  16.2s\n",
      "[CV] END ...........C=1, epsilon=0.2, gamma=1, kernel=linear; total time=  15.7s\n",
      "Best parameters found: {'C': 1, 'epsilon': 0.2, 'gamma': 1, 'kernel': 'linear'}\n"
     ]
    }
   ],
   "source": [
    "if switches[\"model\"] == \"SVR\":\n",
    "#    cv_scores = []\n",
    "    kernels = ['linear']\n",
    "#    for k in kernels:\n",
    "#        svr = SVR(kernel=k)\n",
    "#        scores = cross_val_score(svr, X, y, cv=5, scoring='accuracy')\n",
    "#        cv_scores.append(scores.mean())\n",
    "\n",
    "#    optimal_kernel = kernels[cv_scores.index(max(cv_scores))]\n",
    "#    print(f\"Optimal kernel is {optimal_kernel} with cross-validation score of {max(cv_scores)}\")\n",
    "    \n",
    "    params = {\n",
    "        'C': [1],\n",
    "        'gamma': [1],\n",
    "        'epsilon': [0.2],\n",
    "        'kernel': kernels\n",
    "    }\n",
    "    \n",
    "    svr_gscv = GridSearchCV(SVR(), params, refit=True, verbose=2, cv=5).fit(X, y)\n",
    "    print(f\"Best parameters found: {svr_gscv.best_params_}\")\n",
    "    \n",
    "    svr = SVR(**svr_gscv.best_params_)\n",
    "    model_gscv = GridSearchCV(svr, param_grid={})\n",
    "    svr_model = model_gscv.fit(X_train,y_train)\n",
    "    model_predictions = svr_model.predict(X_test)"
   ]
  },
  {
   "cell_type": "code",
   "execution_count": null,
   "id": "8c1fbe76-3f49-4426-a651-b2dc9e88a781",
   "metadata": {},
   "outputs": [],
   "source": []
  },
  {
   "cell_type": "code",
   "execution_count": null,
   "id": "5eb6cbe9-6c68-4d74-88f7-a943440d6d26",
   "metadata": {},
   "outputs": [],
   "source": []
  },
  {
   "cell_type": "code",
   "execution_count": null,
   "id": "6e723099-f17f-46ba-bed8-99ef01d0e67e",
   "metadata": {},
   "outputs": [],
   "source": [
    "if switches[\"model\"] == \"Adaboost\":\n",
    "    adaboost = AdaBoostRegressor()\n",
    "    model_gscv = GridSearchCV(adaboost, param_grid={})\n",
    "    adaboost_model = model_gscv.fit(X_train,y_train)\n",
    "    model_predictions = adaboost_model.predict(X_test)"
   ]
  },
  {
   "cell_type": "code",
   "execution_count": null,
   "id": "a838ea77-4a90-4a59-be6c-c68c6659664e",
   "metadata": {},
   "outputs": [],
   "source": []
  },
  {
   "cell_type": "code",
   "execution_count": null,
   "id": "23e0148b-6525-469c-b7ab-0cc737488e1d",
   "metadata": {},
   "outputs": [],
   "source": [
    "if switches[\"model\"] == \"Gradient Boosting\":\n",
    "    grboost = GradientBoostingRegressor()\n",
    "    model_gscv = GridSearchCV(grboost, param_grid={})\n",
    "    grboost_model = model_gscv.fit(X_train,y_train)\n",
    "    model_predictions = grboost_model.predict(X_test)"
   ]
  },
  {
   "cell_type": "code",
   "execution_count": null,
   "id": "5e94bb1a-6db7-426a-8f30-dc5bb8de7af4",
   "metadata": {},
   "outputs": [],
   "source": []
  },
  {
   "cell_type": "code",
   "execution_count": null,
   "id": "56ea680f-3a34-41a6-ade1-e825fef673b9",
   "metadata": {},
   "outputs": [],
   "source": [
    "if switches[\"model\"] == \"Hist Gradient Boosting\":\n",
    "    histgrboost = HistGradientBoostingRegressor()\n",
    "    model_gscv = GridSearchCV(histgrboost, param_grid={})\n",
    "    histgrboost_model = model_gscv.fit(X_train,y_train)\n",
    "    model_predictions = histgrboost_model.predict(X_test)"
   ]
  },
  {
   "cell_type": "code",
   "execution_count": null,
   "id": "5b324417-4618-4070-a68a-c8526df589b4",
   "metadata": {},
   "outputs": [],
   "source": []
  },
  {
   "cell_type": "code",
   "execution_count": null,
   "id": "6d048905-21df-4c66-b1d8-c7f810863827",
   "metadata": {},
   "outputs": [],
   "source": [
    "if switches[\"model\"] == \"Random Forest\":\n",
    "    rf = RandomForestRegressor()\n",
    "    model_gscv = GridSearchCV(rf, param_grid={})\n",
    "    rf_model = model_gscv.fit(X_train,y_train)\n",
    "    model_predictions = rf_model.predict(X_test)"
   ]
  },
  {
   "cell_type": "code",
   "execution_count": null,
   "id": "010db975-89fe-4a91-bf6a-06eac9c43fc3",
   "metadata": {},
   "outputs": [],
   "source": []
  },
  {
   "cell_type": "code",
   "execution_count": null,
   "id": "e3a32e6a-4da5-4a69-9a6c-3baf87ccf02d",
   "metadata": {},
   "outputs": [],
   "source": []
  },
  {
   "cell_type": "code",
   "execution_count": 33,
   "id": "51348086",
   "metadata": {},
   "outputs": [],
   "source": [
    "pms_config = {\n",
    "    \"title\":switches[\"model\"], \n",
    "    \"y_param\":y_test, \n",
    "    \"predictions\":model_predictions, \n",
    "    \"gscv\":model_gscv\n",
    "}"
   ]
  },
  {
   "cell_type": "code",
   "execution_count": 34,
   "id": "54b6849f",
   "metadata": {},
   "outputs": [
    {
     "name": "stdout",
     "output_type": "stream",
     "text": [
      "SVR EVS = 0.142713897\n",
      "SVR MSE = 164,405,845,138.268402\n",
      "SVR MAE = 235,673.162469\n",
      "SVR R2 = 0.086742\n",
      "SVR Fit Time = 4.754327821731567\n"
     ]
    }
   ],
   "source": [
    "results = print_more_stuff(pms_config)\n",
    "results[\"dataframe\"] = switches[\"which_df\"]\n",
    "results[\"normalized\"] = switches[\"normalize\"]"
   ]
  },
  {
   "cell_type": "code",
   "execution_count": 35,
   "id": "d362be15",
   "metadata": {},
   "outputs": [],
   "source": [
    "results_dict = write_results(results,state)"
   ]
  },
  {
   "cell_type": "code",
   "execution_count": 36,
   "id": "8b14ccc0",
   "metadata": {},
   "outputs": [],
   "source": [
    "predict_df = pd.DataFrame(model_predictions).reset_index()\n",
    "predict_df.rename(columns={0: \"prediction\"},inplace=True)\n",
    "\n",
    "y_test_df = pd.DataFrame(y_test).reset_index()"
   ]
  },
  {
   "cell_type": "code",
   "execution_count": 37,
   "id": "bdd7a05f",
   "metadata": {},
   "outputs": [
    {
     "data": {
      "image/png": "[encoded data removed]",
      "text/plain": [
       "<Figure size 1000x600 with 1 Axes>"
      ]
     },
     "metadata": {},
     "output_type": "display_data"
    }
   ],
   "source": [
    "fig, ax = plt.subplots(figsize=(10, 6))\n",
    "\n",
    "ax.ticklabel_format(style='plain')\n",
    "ax.yaxis.set_major_formatter('${x:1,.0f}')\n",
    "ax.xaxis.set_major_formatter(' ')\n",
    "\n",
    "plt.scatter(y_test_df.index,y_test_df[\"price\"], color=\"red\")\n",
    "plt.scatter(predict_df.index,predict_df[\"prediction\"], color=\"green\")\n",
    "plt.show()"
   ]
  },
  {
   "cell_type": "code",
   "execution_count": 38,
   "id": "5b9560f4",
   "metadata": {},
   "outputs": [
    {
     "data": {
      "text/plain": [
       "{'dataframe': 'outliers',\n",
       " 'normalized': False,\n",
       " 'timestamp': '2024/03/26 08:54:28',\n",
       " 'model': 'SVR',\n",
       " 'explained variance score': '0.142713897',\n",
       " 'mae score': '235,673.162469',\n",
       " 'mse score': '164,405,845,138.268402',\n",
       " 'r2 score': '0.086742',\n",
       " 'mean fit time': 4.754327821731567}"
      ]
     },
     "execution_count": 38,
     "metadata": {},
     "output_type": "execute_result"
    }
   ],
   "source": [
    "results_dict"
   ]
  },
  {
   "cell_type": "code",
   "execution_count": 39,
   "id": "e73d424d",
   "metadata": {},
   "outputs": [
    {
     "data": {
      "text/html": [
       "<div>\n",
       "<style scoped>\n",
       "    .dataframe tbody tr th:only-of-type {\n",
       "        vertical-align: middle;\n",
       "    }\n",
       "\n",
       "    .dataframe tbody tr th {\n",
       "        vertical-align: top;\n",
       "    }\n",
       "\n",
       "    .dataframe thead th {\n",
       "        text-align: right;\n",
       "    }\n",
       "</style>\n",
       "<table border=\"1\" class=\"dataframe\">\n",
       "  <thead>\n",
       "    <tr style=\"text-align: right;\">\n",
       "      <th></th>\n",
       "      <th>dataframe</th>\n",
       "      <th>normalized</th>\n",
       "      <th>timestamp</th>\n",
       "      <th>explained variance score</th>\n",
       "      <th>mae score</th>\n",
       "      <th>mse score</th>\n",
       "      <th>r2 score</th>\n",
       "      <th>mean fit time</th>\n",
       "    </tr>\n",
       "    <tr>\n",
       "      <th>model</th>\n",
       "      <th></th>\n",
       "      <th></th>\n",
       "      <th></th>\n",
       "      <th></th>\n",
       "      <th></th>\n",
       "      <th></th>\n",
       "      <th></th>\n",
       "      <th></th>\n",
       "    </tr>\n",
       "  </thead>\n",
       "  <tbody>\n",
       "    <tr>\n",
       "      <th>SVR</th>\n",
       "      <td>outliers</td>\n",
       "      <td>False</td>\n",
       "      <td>2024-03-26 08:54:28</td>\n",
       "      <td>0.142714</td>\n",
       "      <td>235,673.162469</td>\n",
       "      <td>164,405,845,138.268402</td>\n",
       "      <td>0.086742</td>\n",
       "      <td>4.754328</td>\n",
       "    </tr>\n",
       "    <tr>\n",
       "      <th>Linear Regression</th>\n",
       "      <td>outliers</td>\n",
       "      <td>False</td>\n",
       "      <td>2024-03-25 17:56:27</td>\n",
       "      <td>0.398629</td>\n",
       "      <td>206,996.841822</td>\n",
       "      <td>108,288,728,535.588120</td>\n",
       "      <td>0.398467</td>\n",
       "      <td>0.008957</td>\n",
       "    </tr>\n",
       "    <tr>\n",
       "      <th>KNearest Neighbor</th>\n",
       "      <td>allcounties</td>\n",
       "      <td>False</td>\n",
       "      <td>2024-03-25 18:53:50</td>\n",
       "      <td>0.420863</td>\n",
       "      <td>194,999.488044</td>\n",
       "      <td>104,257,119,453.111008</td>\n",
       "      <td>0.420862</td>\n",
       "      <td>0.006948</td>\n",
       "    </tr>\n",
       "    <tr>\n",
       "      <th>Polynomial</th>\n",
       "      <td>outliers</td>\n",
       "      <td>False</td>\n",
       "      <td>2024-03-25 18:07:27</td>\n",
       "      <td>0.439942</td>\n",
       "      <td>200,275.324785</td>\n",
       "      <td>100,870,089,629.248779</td>\n",
       "      <td>0.439677</td>\n",
       "      <td>0.003124</td>\n",
       "    </tr>\n",
       "    <tr>\n",
       "      <th>Ridge</th>\n",
       "      <td>outliers</td>\n",
       "      <td>False</td>\n",
       "      <td>2024-03-25 18:37:19</td>\n",
       "      <td>0.439942</td>\n",
       "      <td>200,275.324785</td>\n",
       "      <td>100,870,089,629.252762</td>\n",
       "      <td>0.439677</td>\n",
       "      <td>0.003128</td>\n",
       "    </tr>\n",
       "    <tr>\n",
       "      <th>Lasso</th>\n",
       "      <td>outliers</td>\n",
       "      <td>False</td>\n",
       "      <td>2024-03-25 18:40:54</td>\n",
       "      <td>0.439942</td>\n",
       "      <td>200,275.324785</td>\n",
       "      <td>100,870,089,629.252625</td>\n",
       "      <td>0.439677</td>\n",
       "      <td>0.343729</td>\n",
       "    </tr>\n",
       "    <tr>\n",
       "      <th>KNearest Neighbor</th>\n",
       "      <td>outliers</td>\n",
       "      <td>False</td>\n",
       "      <td>2024-03-25 17:26:13</td>\n",
       "      <td>0.446805</td>\n",
       "      <td>186,090.545869</td>\n",
       "      <td>99,656,838,348.666946</td>\n",
       "      <td>0.446416</td>\n",
       "      <td>0.002388</td>\n",
       "    </tr>\n",
       "    <tr>\n",
       "      <th>KNearest Neighbor</th>\n",
       "      <td>outliers</td>\n",
       "      <td>False</td>\n",
       "      <td>2024-03-25 17:55:56</td>\n",
       "      <td>0.446805</td>\n",
       "      <td>186,090.545869</td>\n",
       "      <td>99,656,838,348.666946</td>\n",
       "      <td>0.446416</td>\n",
       "      <td>0.000000</td>\n",
       "    </tr>\n",
       "    <tr>\n",
       "      <th>Decision Tree</th>\n",
       "      <td>outliers</td>\n",
       "      <td>False</td>\n",
       "      <td>2024-03-25 18:02:14</td>\n",
       "      <td>0.457935</td>\n",
       "      <td>199,782.703570</td>\n",
       "      <td>97,583,672,763.171021</td>\n",
       "      <td>0.457933</td>\n",
       "      <td>0.008657</td>\n",
       "    </tr>\n",
       "    <tr>\n",
       "      <th>KNearest Neighbor</th>\n",
       "      <td>allzipcodes</td>\n",
       "      <td>False</td>\n",
       "      <td>2024-03-25 17:25:42</td>\n",
       "      <td>0.462994</td>\n",
       "      <td>179,151.433822</td>\n",
       "      <td>96,781,639,184.457886</td>\n",
       "      <td>0.462388</td>\n",
       "      <td>0.001840</td>\n",
       "    </tr>\n",
       "    <tr>\n",
       "      <th>GradientBoosting</th>\n",
       "      <td>outliers</td>\n",
       "      <td>False</td>\n",
       "      <td>2024-03-25 18:14:07</td>\n",
       "      <td>0.641163</td>\n",
       "      <td>149,834.791677</td>\n",
       "      <td>64,613,290,599.740234</td>\n",
       "      <td>0.641080</td>\n",
       "      <td>0.547951</td>\n",
       "    </tr>\n",
       "    <tr>\n",
       "      <th>Random Forest</th>\n",
       "      <td>outliers</td>\n",
       "      <td>False</td>\n",
       "      <td>2024-03-25 18:16:15</td>\n",
       "      <td>0.677750</td>\n",
       "      <td>135,351.878907</td>\n",
       "      <td>58,012,037,203.011253</td>\n",
       "      <td>0.677749</td>\n",
       "      <td>3.196517</td>\n",
       "    </tr>\n",
       "    <tr>\n",
       "      <th>HistGradientBoosting</th>\n",
       "      <td>outliers</td>\n",
       "      <td>False</td>\n",
       "      <td>2024-03-25 18:13:06</td>\n",
       "      <td>0.700541</td>\n",
       "      <td>130,288.881456</td>\n",
       "      <td>53,918,282,885.376801</td>\n",
       "      <td>0.700489</td>\n",
       "      <td>0.570731</td>\n",
       "    </tr>\n",
       "  </tbody>\n",
       "</table>\n",
       "</div>"
      ],
      "text/plain": [
       "                        dataframe  normalized           timestamp  \\\n",
       "model                                                               \n",
       "SVR                      outliers       False 2024-03-26 08:54:28   \n",
       "Linear Regression        outliers       False 2024-03-25 17:56:27   \n",
       "KNearest Neighbor     allcounties       False 2024-03-25 18:53:50   \n",
       "Polynomial               outliers       False 2024-03-25 18:07:27   \n",
       "Ridge                    outliers       False 2024-03-25 18:37:19   \n",
       "Lasso                    outliers       False 2024-03-25 18:40:54   \n",
       "KNearest Neighbor        outliers       False 2024-03-25 17:26:13   \n",
       "KNearest Neighbor        outliers       False 2024-03-25 17:55:56   \n",
       "Decision Tree            outliers       False 2024-03-25 18:02:14   \n",
       "KNearest Neighbor     allzipcodes       False 2024-03-25 17:25:42   \n",
       "GradientBoosting         outliers       False 2024-03-25 18:14:07   \n",
       "Random Forest            outliers       False 2024-03-25 18:16:15   \n",
       "HistGradientBoosting     outliers       False 2024-03-25 18:13:06   \n",
       "\n",
       "                      explained variance score       mae score  \\\n",
       "model                                                            \n",
       "SVR                                   0.142714  235,673.162469   \n",
       "Linear Regression                     0.398629  206,996.841822   \n",
       "KNearest Neighbor                     0.420863  194,999.488044   \n",
       "Polynomial                            0.439942  200,275.324785   \n",
       "Ridge                                 0.439942  200,275.324785   \n",
       "Lasso                                 0.439942  200,275.324785   \n",
       "KNearest Neighbor                     0.446805  186,090.545869   \n",
       "KNearest Neighbor                     0.446805  186,090.545869   \n",
       "Decision Tree                         0.457935  199,782.703570   \n",
       "KNearest Neighbor                     0.462994  179,151.433822   \n",
       "GradientBoosting                      0.641163  149,834.791677   \n",
       "Random Forest                         0.677750  135,351.878907   \n",
       "HistGradientBoosting                  0.700541  130,288.881456   \n",
       "\n",
       "                                   mse score  r2 score  mean fit time  \n",
       "model                                                                  \n",
       "SVR                   164,405,845,138.268402  0.086742       4.754328  \n",
       "Linear Regression     108,288,728,535.588120  0.398467       0.008957  \n",
       "KNearest Neighbor     104,257,119,453.111008  0.420862       0.006948  \n",
       "Polynomial            100,870,089,629.248779  0.439677       0.003124  \n",
       "Ridge                 100,870,089,629.252762  0.439677       0.003128  \n",
       "Lasso                 100,870,089,629.252625  0.439677       0.343729  \n",
       "KNearest Neighbor      99,656,838,348.666946  0.446416       0.002388  \n",
       "KNearest Neighbor      99,656,838,348.666946  0.446416       0.000000  \n",
       "Decision Tree          97,583,672,763.171021  0.457933       0.008657  \n",
       "KNearest Neighbor      96,781,639,184.457886  0.462388       0.001840  \n",
       "GradientBoosting       64,613,290,599.740234  0.641080       0.547951  \n",
       "Random Forest          58,012,037,203.011253  0.677749       3.196517  \n",
       "HistGradientBoosting   53,918,282,885.376801  0.700489       0.570731  "
      ]
     },
     "execution_count": 39,
     "metadata": {},
     "output_type": "execute_result"
    }
   ],
   "source": [
    "results_df = pd.read_json(state+ \"/results.json\")\n",
    "\n",
    "model_comparisons = results_df.set_index('model').sort_values(\"r2 score\", ascending=True)\n",
    "model_comparisons"
   ]
  },
  {
   "cell_type": "code",
   "execution_count": null,
   "id": "204fb8ff",
   "metadata": {},
   "outputs": [],
   "source": []
  }
 ],
 "metadata": {
  "kernelspec": {
   "display_name": "Python 3 (ipykernel)",
   "language": "python",
   "name": "python3"
  },
  "language_info": {
   "codemirror_mode": {
    "name": "ipython",
    "version": 3
   },
   "file_extension": ".py",
   "mimetype": "text/x-python",
   "name": "python",
   "nbconvert_exporter": "python",
   "pygments_lexer": "ipython3",
   "version": "3.11.8"
  }
 },
 "nbformat": 4,
 "nbformat_minor": 5
}
