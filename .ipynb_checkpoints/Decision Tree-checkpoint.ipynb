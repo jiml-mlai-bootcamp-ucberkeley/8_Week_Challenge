{
 "cells": [
  {
   "cell_type": "code",
   "execution_count": 1,
   "id": "2af4ff12",
   "metadata": {},
   "outputs": [],
   "source": [
    "from warnings import filterwarnings\n",
    "filterwarnings(\"ignore\")\n",
    "\n",
    "import sys\n",
    "sys.path.append('common')\n",
    "\n",
    "from print_more_stuff import print_more_stuff\n",
    "from regression_models import dosomething\n",
    "from pprint import pprint\n",
    "from preprocessing import mean_and_std\n",
    "\n",
    "import pandas as pd\n",
    "import matplotlib.pyplot as plt\n",
    "import numpy as np\n",
    "import seaborn as sns\n",
    "\n",
    "from sklearn.tree import DecisionTreeRegressor\n",
    "from sklearn.model_selection import train_test_split, GridSearchCV"
   ]
  },
  {
   "cell_type": "code",
   "execution_count": 2,
   "id": "304f70b8",
   "metadata": {},
   "outputs": [],
   "source": [
    "outliers_df = pd.read_csv('outliers.csv')\n",
    "outliers_df.drop(columns=[\"Unnamed: 0\"],inplace=True)"
   ]
  },
  {
   "cell_type": "code",
   "execution_count": 3,
   "id": "0c8dfc1c",
   "metadata": {},
   "outputs": [
    {
     "name": "stdout",
     "output_type": "stream",
     "text": [
      "<class 'pandas.core.frame.DataFrame'>\n",
      "RangeIndex: 20480 entries, 0 to 20479\n",
      "Data columns (total 10 columns):\n",
      " #   Column          Non-Null Count  Dtype  \n",
      "---  ------          --------------  -----  \n",
      " 0   bed             20480 non-null  float64\n",
      " 1   bath            20480 non-null  float64\n",
      " 2   acre_lot        20480 non-null  float64\n",
      " 3   zip_code        20480 non-null  float64\n",
      " 4   house_size      20480 non-null  float64\n",
      " 5   price           20480 non-null  float64\n",
      " 6   prev_sold_year  20480 non-null  float64\n",
      " 7   latitude        20480 non-null  float64\n",
      " 8   longitude       20480 non-null  float64\n",
      " 9   county          20480 non-null  int64  \n",
      "dtypes: float64(9), int64(1)\n",
      "memory usage: 1.6 MB\n"
     ]
    }
   ],
   "source": [
    "outliers_df.info()"
   ]
  },
  {
   "cell_type": "code",
   "execution_count": 4,
   "id": "39c3c6a3",
   "metadata": {},
   "outputs": [],
   "source": [
    "switches = {\n",
    "    \"which_df\":\"onezipcode\",\n",
    "    \"normalize\":False\n",
    "}\n",
    "# False True onezipcode onecounty outliers"
   ]
  },
  {
   "cell_type": "code",
   "execution_count": null,
   "id": "6a1317aa",
   "metadata": {},
   "outputs": [],
   "source": []
  },
  {
   "cell_type": "code",
   "execution_count": 5,
   "id": "3ec86737",
   "metadata": {},
   "outputs": [
    {
     "data": {
      "text/plain": [
       "8527.0"
      ]
     },
     "execution_count": 5,
     "metadata": {},
     "output_type": "execute_result"
    }
   ],
   "source": [
    "groupby_zipcode = outliers_df.groupby([\"zip_code\"])[\"zip_code\"].count().sort_values(ascending=False)\n",
    "groupby_zipcode_df = pd.DataFrame(groupby_zipcode).rename(columns={\"zip_code\":\"count\"}).reset_index()\n",
    "first_zipcode = groupby_zipcode_df.iloc[0][\"zip_code\"]\n",
    "first_zipcode"
   ]
  },
  {
   "cell_type": "code",
   "execution_count": 6,
   "id": "f355b320",
   "metadata": {},
   "outputs": [],
   "source": [
    "one_zipcode_df = outliers_df[outliers_df[\"zip_code\"].isin([first_zipcode])]"
   ]
  },
  {
   "cell_type": "code",
   "execution_count": 7,
   "id": "77729e9a",
   "metadata": {},
   "outputs": [
    {
     "name": "stdout",
     "output_type": "stream",
     "text": [
      "<class 'pandas.core.frame.DataFrame'>\n",
      "Int64Index: 269 entries, 10338 to 10606\n",
      "Data columns (total 10 columns):\n",
      " #   Column          Non-Null Count  Dtype  \n",
      "---  ------          --------------  -----  \n",
      " 0   bed             269 non-null    float64\n",
      " 1   bath            269 non-null    float64\n",
      " 2   acre_lot        269 non-null    float64\n",
      " 3   zip_code        269 non-null    float64\n",
      " 4   house_size      269 non-null    float64\n",
      " 5   price           269 non-null    float64\n",
      " 6   prev_sold_year  269 non-null    float64\n",
      " 7   latitude        269 non-null    float64\n",
      " 8   longitude       269 non-null    float64\n",
      " 9   county          269 non-null    int64  \n",
      "dtypes: float64(9), int64(1)\n",
      "memory usage: 23.1 KB\n"
     ]
    }
   ],
   "source": [
    "one_zipcode_df.info()"
   ]
  },
  {
   "cell_type": "code",
   "execution_count": null,
   "id": "791ca063",
   "metadata": {},
   "outputs": [],
   "source": []
  },
  {
   "cell_type": "code",
   "execution_count": 8,
   "id": "e08a9af0",
   "metadata": {},
   "outputs": [
    {
     "data": {
      "text/plain": [
       "16"
      ]
     },
     "execution_count": 8,
     "metadata": {},
     "output_type": "execute_result"
    }
   ],
   "source": [
    "groupby_county = outliers_df.groupby([\"county\"])[\"county\"].count().sort_values(ascending=False)\n",
    "groupby_county_df = pd.DataFrame(groupby_county).rename(columns={\"county\":\"count\"}).reset_index()\n",
    "first_county = groupby_county_df.iloc[0][\"county\"]\n",
    "first_county"
   ]
  },
  {
   "cell_type": "code",
   "execution_count": 9,
   "id": "da37a7ce",
   "metadata": {},
   "outputs": [],
   "source": [
    "one_county_df = outliers_df[outliers_df[\"county\"].isin([first_county])]"
   ]
  },
  {
   "cell_type": "code",
   "execution_count": 10,
   "id": "4fec5c39",
   "metadata": {},
   "outputs": [
    {
     "name": "stdout",
     "output_type": "stream",
     "text": [
      "<class 'pandas.core.frame.DataFrame'>\n",
      "Int64Index: 1721 entries, 13052 to 19278\n",
      "Data columns (total 10 columns):\n",
      " #   Column          Non-Null Count  Dtype  \n",
      "---  ------          --------------  -----  \n",
      " 0   bed             1721 non-null   float64\n",
      " 1   bath            1721 non-null   float64\n",
      " 2   acre_lot        1721 non-null   float64\n",
      " 3   zip_code        1721 non-null   float64\n",
      " 4   house_size      1721 non-null   float64\n",
      " 5   price           1721 non-null   float64\n",
      " 6   prev_sold_year  1721 non-null   float64\n",
      " 7   latitude        1721 non-null   float64\n",
      " 8   longitude       1721 non-null   float64\n",
      " 9   county          1721 non-null   int64  \n",
      "dtypes: float64(9), int64(1)\n",
      "memory usage: 147.9 KB\n"
     ]
    }
   ],
   "source": [
    "one_county_df.info()"
   ]
  },
  {
   "cell_type": "code",
   "execution_count": 11,
   "id": "8ec85669",
   "metadata": {},
   "outputs": [],
   "source": [
    "which_dataframe = outliers_df\n",
    "match switches[\"which_df\"]:\n",
    "    case \"onezipcode\":\n",
    "        which_dataframe = one_zipcode_df\n",
    "    case \"onecounty\":\n",
    "        which_dataframe = one_county_df\n",
    "    case _:\n",
    "        which_dataframe = outliers_df"
   ]
  },
  {
   "cell_type": "code",
   "execution_count": 12,
   "id": "e66a91f5",
   "metadata": {},
   "outputs": [
    {
     "data": {
      "text/html": [
       "<div>\n",
       "<style scoped>\n",
       "    .dataframe tbody tr th:only-of-type {\n",
       "        vertical-align: middle;\n",
       "    }\n",
       "\n",
       "    .dataframe tbody tr th {\n",
       "        vertical-align: top;\n",
       "    }\n",
       "\n",
       "    .dataframe thead th {\n",
       "        text-align: right;\n",
       "    }\n",
       "</style>\n",
       "<table border=\"1\" class=\"dataframe\">\n",
       "  <thead>\n",
       "    <tr style=\"text-align: right;\">\n",
       "      <th></th>\n",
       "      <th>bed</th>\n",
       "      <th>bath</th>\n",
       "      <th>acre_lot</th>\n",
       "      <th>zip_code</th>\n",
       "      <th>house_size</th>\n",
       "      <th>price</th>\n",
       "      <th>prev_sold_year</th>\n",
       "      <th>latitude</th>\n",
       "      <th>longitude</th>\n",
       "      <th>county</th>\n",
       "    </tr>\n",
       "  </thead>\n",
       "  <tbody>\n",
       "    <tr>\n",
       "      <th>10602</th>\n",
       "      <td>5.0</td>\n",
       "      <td>3.0</td>\n",
       "      <td>1.00</td>\n",
       "      <td>8527.0</td>\n",
       "      <td>1500.0</td>\n",
       "      <td>584900.0</td>\n",
       "      <td>2005.0</td>\n",
       "      <td>40.10868</td>\n",
       "      <td>-74.358558</td>\n",
       "      <td>2</td>\n",
       "    </tr>\n",
       "    <tr>\n",
       "      <th>10603</th>\n",
       "      <td>3.0</td>\n",
       "      <td>2.0</td>\n",
       "      <td>13.77</td>\n",
       "      <td>8527.0</td>\n",
       "      <td>1500.0</td>\n",
       "      <td>1300000.0</td>\n",
       "      <td>2005.0</td>\n",
       "      <td>40.10868</td>\n",
       "      <td>-74.358558</td>\n",
       "      <td>2</td>\n",
       "    </tr>\n",
       "    <tr>\n",
       "      <th>10604</th>\n",
       "      <td>3.0</td>\n",
       "      <td>2.0</td>\n",
       "      <td>9.12</td>\n",
       "      <td>8527.0</td>\n",
       "      <td>1484.0</td>\n",
       "      <td>1100000.0</td>\n",
       "      <td>1988.0</td>\n",
       "      <td>40.10868</td>\n",
       "      <td>-74.358558</td>\n",
       "      <td>2</td>\n",
       "    </tr>\n",
       "    <tr>\n",
       "      <th>10605</th>\n",
       "      <td>5.0</td>\n",
       "      <td>4.0</td>\n",
       "      <td>0.95</td>\n",
       "      <td>8527.0</td>\n",
       "      <td>2600.0</td>\n",
       "      <td>699000.0</td>\n",
       "      <td>1999.0</td>\n",
       "      <td>40.10868</td>\n",
       "      <td>-74.358558</td>\n",
       "      <td>2</td>\n",
       "    </tr>\n",
       "    <tr>\n",
       "      <th>10606</th>\n",
       "      <td>3.0</td>\n",
       "      <td>2.0</td>\n",
       "      <td>11.79</td>\n",
       "      <td>8527.0</td>\n",
       "      <td>1500.0</td>\n",
       "      <td>1199000.0</td>\n",
       "      <td>1983.0</td>\n",
       "      <td>40.10868</td>\n",
       "      <td>-74.358558</td>\n",
       "      <td>2</td>\n",
       "    </tr>\n",
       "  </tbody>\n",
       "</table>\n",
       "</div>"
      ],
      "text/plain": [
       "       bed  bath  acre_lot  zip_code  house_size      price  prev_sold_year  \\\n",
       "10602  5.0   3.0      1.00    8527.0      1500.0   584900.0          2005.0   \n",
       "10603  3.0   2.0     13.77    8527.0      1500.0  1300000.0          2005.0   \n",
       "10604  3.0   2.0      9.12    8527.0      1484.0  1100000.0          1988.0   \n",
       "10605  5.0   4.0      0.95    8527.0      2600.0   699000.0          1999.0   \n",
       "10606  3.0   2.0     11.79    8527.0      1500.0  1199000.0          1983.0   \n",
       "\n",
       "       latitude  longitude  county  \n",
       "10602  40.10868 -74.358558       2  \n",
       "10603  40.10868 -74.358558       2  \n",
       "10604  40.10868 -74.358558       2  \n",
       "10605  40.10868 -74.358558       2  \n",
       "10606  40.10868 -74.358558       2  "
      ]
     },
     "execution_count": 12,
     "metadata": {},
     "output_type": "execute_result"
    }
   ],
   "source": [
    "normalize_df = which_dataframe\n",
    "\n",
    "params = {\n",
    "    \"data\":which_dataframe,\n",
    "    \"features_a\":[\"prev_sold_year\",\"zip_code\",\"latitude\",\"longitude\",\"county\"],\n",
    "    \"features_n\":[\"bed\",\"bath\",\"acre_lot\",\"house_size\",\"price\"]\n",
    "}\n",
    "\n",
    "match switches[\"normalize\"]:\n",
    "    case True:\n",
    "        normalize_df = mean_and_std(params)\n",
    "\n",
    "normalize_df.tail()"
   ]
  },
  {
   "cell_type": "code",
   "execution_count": 13,
   "id": "8b851276",
   "metadata": {},
   "outputs": [
    {
     "data": {
      "text/plain": [
       "zip_code               NaN\n",
       "latitude               NaN\n",
       "longitude              NaN\n",
       "county                 NaN\n",
       "acre_lot          0.514622\n",
       "bed               0.438656\n",
       "bath              0.403946\n",
       "house_size        0.302178\n",
       "prev_sold_year   -0.027897\n",
       "price             1.000000\n",
       "Name: price, dtype: float64"
      ]
     },
     "execution_count": 13,
     "metadata": {},
     "output_type": "execute_result"
    }
   ],
   "source": [
    "correlation = normalize_df[[\"zip_code\",\"latitude\",\"longitude\",\"county\",\"acre_lot\",\"bed\",\"bath\",\"house_size\",\"prev_sold_year\",\"price\"]].corr()\n",
    "correlation[\"price\"]"
   ]
  },
  {
   "cell_type": "code",
   "execution_count": 14,
   "id": "7c7ccbc8",
   "metadata": {},
   "outputs": [
    {
     "data": {
      "text/plain": [
       "Text(0.5, 1.0, 'Correlation Between Variables')"
      ]
     },
     "execution_count": 14,
     "metadata": {},
     "output_type": "execute_result"
    },
    {
     "data": {
      "image/png": "[encoded data removed]",
      "text/plain": [
       "<Figure size 640x480 with 2 Axes>"
      ]
     },
     "metadata": {},
     "output_type": "display_data"
    }
   ],
   "source": [
    "sns.heatmap(correlation, vmin=-1, vmax=1, cmap = 'coolwarm', annot=True, fmt='.2f', linewidths=0.1)\n",
    "plt.title(\"Correlation Between Variables\", pad=20)"
   ]
  },
  {
   "cell_type": "code",
   "execution_count": 15,
   "id": "3fcd3f97",
   "metadata": {},
   "outputs": [
    {
     "name": "stdout",
     "output_type": "stream",
     "text": [
      "['zip_code', 'acre_lot', 'bed', 'bath', 'house_size']\n"
     ]
    }
   ],
   "source": [
    "corrfeatures = [\"latitude\",\"longitude\"]\n",
    "\n",
    "match switches[\"which_df\"]:\n",
    "    case \"onezipcode\":\n",
    "        corrfeatures = [\"zip_code\"]\n",
    "    case \"onecounty\":\n",
    "        corrfeatures = [\"county\"]\n",
    "    case _:\n",
    "        corrfeatures = [\"latitude\",\"longitude\"]\n",
    "\n",
    "for feature, value in correlation[\"price\"].items():\n",
    "    if abs(value) < 0.81 and abs(value) >= 0.17:\n",
    "        corrfeatures.append(feature)\n",
    "        \n",
    "savefeatures = list(dict.fromkeys(corrfeatures))\n",
    "print(savefeatures)"
   ]
  },
  {
   "cell_type": "code",
   "execution_count": 16,
   "id": "009d5cc1",
   "metadata": {},
   "outputs": [],
   "source": [
    "pariplot_features = []\n",
    "for feature, value in correlation[\"price\"].items():\n",
    "        pariplot_features.append(feature)"
   ]
  },
  {
   "cell_type": "code",
   "execution_count": 17,
   "id": "3f410fd9",
   "metadata": {},
   "outputs": [],
   "source": [
    "features = savefeatures\n",
    "num_features_to_select = len(features)-1\n",
    "random_state_value = 42"
   ]
  },
  {
   "cell_type": "code",
   "execution_count": 18,
   "id": "a34be2ad",
   "metadata": {},
   "outputs": [],
   "source": [
    "X = normalize_df[features]\n",
    "y = normalize_df[\"price\"]\n",
    "X_train, X_test, y_train, y_test = train_test_split(X, y, test_size=0.3, random_state=random_state_value)"
   ]
  },
  {
   "cell_type": "code",
   "execution_count": null,
   "id": "57837a5f",
   "metadata": {},
   "outputs": [],
   "source": []
  },
  {
   "cell_type": "code",
   "execution_count": 19,
   "id": "f7a3df3e",
   "metadata": {},
   "outputs": [],
   "source": [
    "results_dict = {\"model\":[], \"explained variance score\":[],\"mae score\":[],\"mse score\":[],\"r2 score\":[], \"mean fit time\":[]}"
   ]
  },
  {
   "cell_type": "code",
   "execution_count": 20,
   "id": "94baba0e",
   "metadata": {},
   "outputs": [],
   "source": [
    "def results_dict_append(rtnval):\n",
    "    results_dict[\"model\"].append(rtnval[\"model\"])\n",
    "    results_dict[\"explained variance score\"].append(rtnval[\"explained variance score\"])\n",
    "    results_dict[\"mae score\"].append(rtnval[\"mae score\"])\n",
    "    results_dict[\"mse score\"].append(rtnval[\"mse score\"])\n",
    "    results_dict[\"r2 score\"].append(rtnval[\"r2 score\"])\n",
    "    results_dict[\"mean fit time\"].append(rtnval[\"mean fit time\"])"
   ]
  },
  {
   "cell_type": "code",
   "execution_count": 21,
   "id": "5dbd9999",
   "metadata": {},
   "outputs": [],
   "source": [
    "dtree_params = {'max_depth': range(1,6,1),\n",
    "         'random_state':[42]}\n",
    "\n",
    "dtree_gscv = GridSearchCV(DecisionTreeRegressor(), param_grid=dtree_params).fit(X, y)\n",
    "\n",
    "dtree_gscv.best_params_"
   ]
  },
  {
   "cell_type": "code",
   "execution_count": 22,
   "id": "36d41ecc",
   "metadata": {},
   "outputs": [],
   "source": [
    "dtree = DecisionTreeRegressor(**dtree_gscv.best_params_)\n",
    "dtree_gscv = GridSearchCV(dtree, param_grid={})\n",
    "dtree_model = dtree_gscv.fit(X_train,y_train)\n",
    "dtree_predictions = dtree_model.predict(X_test)"
   ]
  },
  {
   "cell_type": "code",
   "execution_count": 23,
   "id": "51348086",
   "metadata": {},
   "outputs": [],
   "source": [
    "pms_config = {\n",
    "    \"title\":\"Decision Tree\", \n",
    "    \"y_param\":y_test, \n",
    "    \"predictions\":dtree_predictions, \n",
    "    \"gscv\":dtree_gscv\n",
    "}"
   ]
  },
  {
   "cell_type": "code",
   "execution_count": 24,
   "id": "54b6849f",
   "metadata": {},
   "outputs": [
    {
     "name": "stdout",
     "output_type": "stream",
     "text": [
      "Decision Tree EVS = 0.392349675\n",
      "Decision Tree MSE = 97,625,726,605.629868\n",
      "Decision Tree MAE = 165,847.847195\n",
      "Decision Tree R2 = 0.376805\n",
      "Decision Tree Fit Time = 0.0011732101440429688\n"
     ]
    }
   ],
   "source": [
    "results = print_more_stuff(pms_config)"
   ]
  },
  {
   "cell_type": "code",
   "execution_count": 25,
   "id": "d362be15",
   "metadata": {},
   "outputs": [],
   "source": [
    "results_dict_append(results)"
   ]
  },
  {
   "cell_type": "code",
   "execution_count": 26,
   "id": "8b14ccc0",
   "metadata": {},
   "outputs": [],
   "source": [
    "predict_df = pd.DataFrame(dtree_predictions).reset_index()\n",
    "predict_df.rename(columns={0: \"prediction\"},inplace=True)\n",
    "\n",
    "y_test_df = pd.DataFrame(y_test).reset_index()"
   ]
  },
  {
   "cell_type": "code",
   "execution_count": 27,
   "id": "bdd7a05f",
   "metadata": {},
   "outputs": [
    {
     "data": {
      "image/png": "[encoded data removed]",
      "text/plain": [
       "<Figure size 1000x600 with 1 Axes>"
      ]
     },
     "metadata": {},
     "output_type": "display_data"
    }
   ],
   "source": [
    "fig, ax = plt.subplots(figsize=(10, 6))\n",
    "\n",
    "ax.ticklabel_format(style='plain')\n",
    "ax.yaxis.set_major_formatter('${x:1,.0f}')\n",
    "ax.xaxis.set_major_formatter(' ')\n",
    "\n",
    "plt.scatter(y_test_df.index,y_test_df[\"price\"], color=\"red\")\n",
    "plt.scatter(predict_df.index,predict_df[\"prediction\"], color=\"black\")\n",
    "plt.show()"
   ]
  },
  {
   "cell_type": "code",
   "execution_count": 28,
   "id": "5b9560f4",
   "metadata": {},
   "outputs": [
    {
     "data": {
      "text/plain": [
       "{'model': ['Decision Tree'],\n",
       " 'explained variance score': ['0.392349675'],\n",
       " 'mae score': ['165,847.847195'],\n",
       " 'mse score': ['97,625,726,605.629868'],\n",
       " 'r2 score': ['0.376805'],\n",
       " 'mean fit time': [0.0011732101440429688]}"
      ]
     },
     "execution_count": 28,
     "metadata": {},
     "output_type": "execute_result"
    }
   ],
   "source": [
    "results_dict"
   ]
  },
  {
   "cell_type": "code",
   "execution_count": 29,
   "id": "e73d424d",
   "metadata": {},
   "outputs": [
    {
     "data": {
      "text/html": [
       "<div>\n",
       "<style scoped>\n",
       "    .dataframe tbody tr th:only-of-type {\n",
       "        vertical-align: middle;\n",
       "    }\n",
       "\n",
       "    .dataframe tbody tr th {\n",
       "        vertical-align: top;\n",
       "    }\n",
       "\n",
       "    .dataframe thead th {\n",
       "        text-align: right;\n",
       "    }\n",
       "</style>\n",
       "<table border=\"1\" class=\"dataframe\">\n",
       "  <thead>\n",
       "    <tr style=\"text-align: right;\">\n",
       "      <th></th>\n",
       "      <th>explained variance score</th>\n",
       "      <th>mae score</th>\n",
       "      <th>mse score</th>\n",
       "      <th>r2 score</th>\n",
       "      <th>mean fit time</th>\n",
       "    </tr>\n",
       "    <tr>\n",
       "      <th>model</th>\n",
       "      <th></th>\n",
       "      <th></th>\n",
       "      <th></th>\n",
       "      <th></th>\n",
       "      <th></th>\n",
       "    </tr>\n",
       "  </thead>\n",
       "  <tbody>\n",
       "    <tr>\n",
       "      <th>Decision Tree</th>\n",
       "      <td>0.392349675</td>\n",
       "      <td>165,847.847195</td>\n",
       "      <td>97,625,726,605.629868</td>\n",
       "      <td>0.376805</td>\n",
       "      <td>0.001173</td>\n",
       "    </tr>\n",
       "  </tbody>\n",
       "</table>\n",
       "</div>"
      ],
      "text/plain": [
       "              explained variance score       mae score              mse score  \\\n",
       "model                                                                           \n",
       "Decision Tree              0.392349675  165,847.847195  97,625,726,605.629868   \n",
       "\n",
       "               r2 score  mean fit time  \n",
       "model                                   \n",
       "Decision Tree  0.376805       0.001173  "
      ]
     },
     "execution_count": 29,
     "metadata": {},
     "output_type": "execute_result"
    }
   ],
   "source": [
    "model_comparisons = pd.DataFrame(results_dict).set_index('model')\n",
    "model_comparisons"
   ]
  },
  {
   "cell_type": "code",
   "execution_count": 30,
   "id": "204fb8ff",
   "metadata": {},
   "outputs": [],
   "source": [
    "not_normlized_features_outliers = {'model': ['Decision Tree'],\n",
    " 'explained variance score': ['0.457935454'],\n",
    " 'mae score': ['199,782.703570'],\n",
    " 'mse score': ['97,583,672,763.171021'],\n",
    " 'r2 score': ['0.457933'],\n",
    " 'mean fit time': [0.008170318603515626]}\n",
    "\n",
    "normlized_features_outliers = {'model': ['Decision Tree'],\n",
    " 'explained variance score': ['0.457935454'],\n",
    " 'mae score': ['0.478831'],\n",
    " 'mse score': ['0.560565'],\n",
    " 'r2 score': ['0.457933'],\n",
    " 'mean fit time': [0.0060616016387939455]}\n",
    "\n",
    "not_normlized_features_onecounty = {'model': ['Decision Tree'],\n",
    " 'explained variance score': ['0.343011947'],\n",
    " 'mae score': ['93,395.700664'],\n",
    " 'mse score': ['29,895,015,098.276901'],\n",
    " 'r2 score': ['0.342006'],\n",
    " 'mean fit time': [0.0025685787200927734]}\n",
    "\n",
    "normlized_features_onecounty = {'model': ['Decision Tree'],\n",
    " 'explained variance score': ['0.285289867'],\n",
    " 'mae score': ['0.454284'],\n",
    " 'mse score': ['0.746221'],\n",
    " 'r2 score': ['0.284627'],\n",
    " 'mean fit time': [0.0026712417602539062]}\n",
    "\n",
    "not_normlized_features_onezipcode = {'model': ['Decision Tree'],\n",
    " 'explained variance score': ['0.392349675'],\n",
    " 'mae score': ['165,847.847195'],\n",
    " 'mse score': ['97,625,726,605.629868'],\n",
    " 'r2 score': ['0.376805'],\n",
    " 'mean fit time': [0.0011732101440429688]}\n",
    "\n",
    "normlized_features_onezipcode = {'model': ['Decision Tree'],\n",
    " 'explained variance score': ['0.404024683'],\n",
    " 'mae score': ['0.520540'],\n",
    " 'mse score': ['0.981315'],\n",
    " 'r2 score': ['0.388480'],\n",
    " 'mean fit time': [0.0]}"
   ]
  }
 ],
 "metadata": {
  "kernelspec": {
   "display_name": "Python 3 (ipykernel)",
   "language": "python",
   "name": "python3"
  },
  "language_info": {
   "codemirror_mode": {
    "name": "ipython",
    "version": 3
   },
   "file_extension": ".py",
   "mimetype": "text/x-python",
   "name": "python",
   "nbconvert_exporter": "python",
   "pygments_lexer": "ipython3",
   "version": "3.11.4"
  }
 },
 "nbformat": 4,
 "nbformat_minor": 5
}
