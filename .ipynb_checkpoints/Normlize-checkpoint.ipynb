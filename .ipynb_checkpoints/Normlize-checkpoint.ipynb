{
 "cells": [
  {
   "cell_type": "code",
   "execution_count": 1,
   "id": "5ac608f5-5fc7-45bd-ad90-b7c195288047",
   "metadata": {},
   "outputs": [],
   "source": [
    "from warnings import filterwarnings\n",
    "filterwarnings(\"ignore\")\n",
    "\n",
    "import sys\n",
    "sys.path.append('common')\n",
    "import json\n",
    "\n",
    "from preprocessing import mean_and_std, normalizer, scaleminmax\n",
    "from print_more_stuff import print_more_stuff\n",
    "from writeresults import write_results\n",
    "\n",
    "from sklearn.model_selection import train_test_split, GridSearchCV, cross_val_score\n",
    "\n",
    "from sklearn.ensemble import AdaBoostRegressor, GradientBoostingRegressor, HistGradientBoostingRegressor, RandomForestRegressor\n",
    "\n",
    "import pandas as pd\n",
    "\n",
    "import matplotlib.pyplot as plt\n",
    "\n",
    "pd.set_option('display.max_columns', None)\n",
    "pd.set_option('display.max_rows', None)"
   ]
  },
  {
   "cell_type": "code",
   "execution_count": 2,
   "id": "362a5bbb-035b-4332-9754-7941a04aaf3d",
   "metadata": {},
   "outputs": [],
   "source": [
    "outliers_df = pd.read_csv('outliers.csv')\n",
    "outliers_df.drop(columns=[\"Unnamed: 0\"],inplace=True)"
   ]
  },
  {
   "cell_type": "code",
   "execution_count": 3,
   "id": "a0f7203f-c397-4677-a55c-40f9c7bb9c88",
   "metadata": {},
   "outputs": [
    {
     "data": {
      "text/html": [
       "<div>\n",
       "<style scoped>\n",
       "    .dataframe tbody tr th:only-of-type {\n",
       "        vertical-align: middle;\n",
       "    }\n",
       "\n",
       "    .dataframe tbody tr th {\n",
       "        vertical-align: top;\n",
       "    }\n",
       "\n",
       "    .dataframe thead th {\n",
       "        text-align: right;\n",
       "    }\n",
       "</style>\n",
       "<table border=\"1\" class=\"dataframe\">\n",
       "  <thead>\n",
       "    <tr style=\"text-align: right;\">\n",
       "      <th></th>\n",
       "      <th>bed</th>\n",
       "      <th>bath</th>\n",
       "      <th>acre_lot</th>\n",
       "      <th>zip_code</th>\n",
       "      <th>house_size</th>\n",
       "      <th>price</th>\n",
       "      <th>prev_sold_year</th>\n",
       "      <th>latitude</th>\n",
       "      <th>longitude</th>\n",
       "      <th>county</th>\n",
       "    </tr>\n",
       "  </thead>\n",
       "  <tbody>\n",
       "    <tr>\n",
       "      <th>0</th>\n",
       "      <td>4.0</td>\n",
       "      <td>2.0</td>\n",
       "      <td>0.26</td>\n",
       "      <td>8016.0</td>\n",
       "      <td>1764.0</td>\n",
       "      <td>279000.0</td>\n",
       "      <td>2018.0</td>\n",
       "      <td>40.069522</td>\n",
       "      <td>-74.824196</td>\n",
       "      <td>18.0</td>\n",
       "    </tr>\n",
       "    <tr>\n",
       "      <th>1</th>\n",
       "      <td>3.0</td>\n",
       "      <td>2.0</td>\n",
       "      <td>0.22</td>\n",
       "      <td>8016.0</td>\n",
       "      <td>1988.0</td>\n",
       "      <td>299000.0</td>\n",
       "      <td>2016.0</td>\n",
       "      <td>40.069522</td>\n",
       "      <td>-74.824196</td>\n",
       "      <td>18.0</td>\n",
       "    </tr>\n",
       "    <tr>\n",
       "      <th>2</th>\n",
       "      <td>3.0</td>\n",
       "      <td>2.0</td>\n",
       "      <td>0.20</td>\n",
       "      <td>8016.0</td>\n",
       "      <td>1764.0</td>\n",
       "      <td>275000.0</td>\n",
       "      <td>2020.0</td>\n",
       "      <td>40.069522</td>\n",
       "      <td>-74.824196</td>\n",
       "      <td>18.0</td>\n",
       "    </tr>\n",
       "    <tr>\n",
       "      <th>3</th>\n",
       "      <td>5.0</td>\n",
       "      <td>2.0</td>\n",
       "      <td>0.05</td>\n",
       "      <td>8016.0</td>\n",
       "      <td>2104.0</td>\n",
       "      <td>219900.0</td>\n",
       "      <td>2007.0</td>\n",
       "      <td>40.069522</td>\n",
       "      <td>-74.824196</td>\n",
       "      <td>18.0</td>\n",
       "    </tr>\n",
       "    <tr>\n",
       "      <th>4</th>\n",
       "      <td>3.0</td>\n",
       "      <td>1.0</td>\n",
       "      <td>0.28</td>\n",
       "      <td>8016.0</td>\n",
       "      <td>1085.0</td>\n",
       "      <td>259000.0</td>\n",
       "      <td>2016.0</td>\n",
       "      <td>40.069522</td>\n",
       "      <td>-74.824196</td>\n",
       "      <td>18.0</td>\n",
       "    </tr>\n",
       "  </tbody>\n",
       "</table>\n",
       "</div>"
      ],
      "text/plain": [
       "   bed  bath  acre_lot  zip_code  house_size     price  prev_sold_year  \\\n",
       "0  4.0   2.0      0.26    8016.0      1764.0  279000.0          2018.0   \n",
       "1  3.0   2.0      0.22    8016.0      1988.0  299000.0          2016.0   \n",
       "2  3.0   2.0      0.20    8016.0      1764.0  275000.0          2020.0   \n",
       "3  5.0   2.0      0.05    8016.0      2104.0  219900.0          2007.0   \n",
       "4  3.0   1.0      0.28    8016.0      1085.0  259000.0          2016.0   \n",
       "\n",
       "    latitude  longitude  county  \n",
       "0  40.069522 -74.824196    18.0  \n",
       "1  40.069522 -74.824196    18.0  \n",
       "2  40.069522 -74.824196    18.0  \n",
       "3  40.069522 -74.824196    18.0  \n",
       "4  40.069522 -74.824196    18.0  "
      ]
     },
     "execution_count": 3,
     "metadata": {},
     "output_type": "execute_result"
    }
   ],
   "source": [
    "outliers_df.head()"
   ]
  },
  {
   "cell_type": "code",
   "execution_count": 4,
   "id": "33cd993b-e0d5-4507-9a92-f15a0e257259",
   "metadata": {},
   "outputs": [],
   "source": [
    "switches = {\n",
    "    \"features\":\"lat&long\",\n",
    "    \"which_normalize\":\"\",\n",
    "    \"model\":\"Hist Gradient Boosting\"\n",
    "}\n",
    "# \"lat&long\"  onezipcode onecounty outliers allzipcodes allcounties\n",
    "# \"scaleminmax_df\" \"normalizer_df\" \"mean_and_std_df\"\n",
    "# \"Random Forest\" \"Hist Gradient Boosting\" \"Gradient Boosting\" \"Adaboost\""
   ]
  },
  {
   "cell_type": "code",
   "execution_count": null,
   "id": "efb55a48-7ae8-478b-97e9-792b0b0ac754",
   "metadata": {},
   "outputs": [],
   "source": []
  },
  {
   "cell_type": "code",
   "execution_count": 5,
   "id": "69979799-4485-40c0-91b3-0f3615c868cb",
   "metadata": {},
   "outputs": [
    {
     "data": {
      "text/plain": [
       "8527.0"
      ]
     },
     "execution_count": 5,
     "metadata": {},
     "output_type": "execute_result"
    }
   ],
   "source": [
    "groupby_zipcode = outliers_df.groupby([\"zip_code\"])[\"zip_code\"].count().sort_values(ascending=False)\n",
    "groupby_zipcode_df = pd.DataFrame(groupby_zipcode).rename(columns={\"zip_code\":\"count\"}).reset_index()\n",
    "first_zipcode = groupby_zipcode_df.iloc[0][\"zip_code\"]\n",
    "first_zipcode"
   ]
  },
  {
   "cell_type": "code",
   "execution_count": 6,
   "id": "ace4575f-82dd-4a12-818b-0f35cfcdb4ec",
   "metadata": {},
   "outputs": [],
   "source": [
    "one_zipcode_df = outliers_df[outliers_df[\"zip_code\"].isin([first_zipcode])]"
   ]
  },
  {
   "cell_type": "code",
   "execution_count": 7,
   "id": "f52660b1-52ec-4faf-9844-79ce6e9484fe",
   "metadata": {},
   "outputs": [
    {
     "name": "stdout",
     "output_type": "stream",
     "text": [
      "<class 'pandas.core.frame.DataFrame'>\n",
      "Index: 269 entries, 10338 to 10606\n",
      "Data columns (total 10 columns):\n",
      " #   Column          Non-Null Count  Dtype  \n",
      "---  ------          --------------  -----  \n",
      " 0   bed             269 non-null    float64\n",
      " 1   bath            269 non-null    float64\n",
      " 2   acre_lot        269 non-null    float64\n",
      " 3   zip_code        269 non-null    float64\n",
      " 4   house_size      269 non-null    float64\n",
      " 5   price           269 non-null    float64\n",
      " 6   prev_sold_year  269 non-null    float64\n",
      " 7   latitude        269 non-null    float64\n",
      " 8   longitude       269 non-null    float64\n",
      " 9   county          269 non-null    float64\n",
      "dtypes: float64(10)\n",
      "memory usage: 23.1 KB\n"
     ]
    }
   ],
   "source": [
    "one_zipcode_df.info()"
   ]
  },
  {
   "cell_type": "code",
   "execution_count": null,
   "id": "1b9ac510-57a9-47bd-a935-8d40f2c7237c",
   "metadata": {},
   "outputs": [],
   "source": []
  },
  {
   "cell_type": "code",
   "execution_count": 8,
   "id": "7b009a8d-06df-4221-be69-38c325021296",
   "metadata": {},
   "outputs": [
    {
     "data": {
      "text/plain": [
       "3.0"
      ]
     },
     "execution_count": 8,
     "metadata": {},
     "output_type": "execute_result"
    }
   ],
   "source": [
    "groupby_county = outliers_df.groupby([\"county\"])[\"county\"].count().sort_values(ascending=False)\n",
    "groupby_county_df = pd.DataFrame(groupby_county).rename(columns={\"county\":\"count\"}).reset_index()\n",
    "first_county = groupby_county_df.iloc[0][\"county\"]\n",
    "first_county"
   ]
  },
  {
   "cell_type": "code",
   "execution_count": 9,
   "id": "da943ee1-cb46-4f63-bce2-a907c9ef5b46",
   "metadata": {},
   "outputs": [],
   "source": [
    "one_county_df = outliers_df[outliers_df[\"county\"].isin([first_county])]"
   ]
  },
  {
   "cell_type": "code",
   "execution_count": 10,
   "id": "5d5428cd-102d-4e26-a4d1-e5ea3418d177",
   "metadata": {},
   "outputs": [
    {
     "name": "stdout",
     "output_type": "stream",
     "text": [
      "<class 'pandas.core.frame.DataFrame'>\n",
      "Index: 2076 entries, 13052 to 19278\n",
      "Data columns (total 10 columns):\n",
      " #   Column          Non-Null Count  Dtype  \n",
      "---  ------          --------------  -----  \n",
      " 0   bed             2076 non-null   float64\n",
      " 1   bath            2076 non-null   float64\n",
      " 2   acre_lot        2076 non-null   float64\n",
      " 3   zip_code        2076 non-null   float64\n",
      " 4   house_size      2076 non-null   float64\n",
      " 5   price           2076 non-null   float64\n",
      " 6   prev_sold_year  2076 non-null   float64\n",
      " 7   latitude        2076 non-null   float64\n",
      " 8   longitude       2076 non-null   float64\n",
      " 9   county          2076 non-null   float64\n",
      "dtypes: float64(10)\n",
      "memory usage: 178.4 KB\n"
     ]
    }
   ],
   "source": [
    "one_county_df.info()"
   ]
  },
  {
   "cell_type": "code",
   "execution_count": null,
   "id": "fd24472e-ad33-44dd-a29e-e4dbceeb5efb",
   "metadata": {},
   "outputs": [],
   "source": []
  },
  {
   "cell_type": "code",
   "execution_count": 11,
   "id": "f739d392-96a9-4caf-8825-399e7054c4e3",
   "metadata": {},
   "outputs": [],
   "source": [
    "params = {\n",
    "    \"data\":outliers_df,\n",
    "    \"features_a\":[\"prev_sold_year\",\"zip_code\",\"latitude\",\"longitude\",\"county\"],\n",
    "    \"features_n\":[\"bed\",\"bath\",\"acre_lot\",\"house_size\",\"price\"]\n",
    "}\n",
    "\n",
    "match switches[\"features\"]:\n",
    "    case \"onezipcode\":\n",
    "        params[\"data\"] = one_zipcode_df\n",
    "    case \"onecounty\":\n",
    "        params[\"data\"] = one_county_df\n",
    "    case \"allzipcodes\":\n",
    "        params[\"data\"] = outliers_df\n",
    "    case \"allcounties\":\n",
    "        params[\"data\"] = outliers_df\n",
    "    case _:\n",
    "        params[\"data\"] = outliers_df"
   ]
  },
  {
   "cell_type": "code",
   "execution_count": null,
   "id": "5f7a5142-52d8-4ccb-b669-cd87ef558c78",
   "metadata": {},
   "outputs": [],
   "source": []
  },
  {
   "cell_type": "code",
   "execution_count": null,
   "id": "47a41eff-6b7b-4938-ad62-d69b4a3c8978",
   "metadata": {},
   "outputs": [],
   "source": []
  },
  {
   "cell_type": "code",
   "execution_count": 12,
   "id": "79cf47eb-532b-4457-ac3d-97b5a821bbb7",
   "metadata": {},
   "outputs": [
    {
     "data": {
      "text/html": [
       "<div>\n",
       "<style scoped>\n",
       "    .dataframe tbody tr th:only-of-type {\n",
       "        vertical-align: middle;\n",
       "    }\n",
       "\n",
       "    .dataframe tbody tr th {\n",
       "        vertical-align: top;\n",
       "    }\n",
       "\n",
       "    .dataframe thead th {\n",
       "        text-align: right;\n",
       "    }\n",
       "</style>\n",
       "<table border=\"1\" class=\"dataframe\">\n",
       "  <thead>\n",
       "    <tr style=\"text-align: right;\">\n",
       "      <th></th>\n",
       "      <th>bed</th>\n",
       "      <th>bath</th>\n",
       "      <th>acre_lot</th>\n",
       "      <th>zip_code</th>\n",
       "      <th>house_size</th>\n",
       "      <th>price</th>\n",
       "      <th>prev_sold_year</th>\n",
       "      <th>latitude</th>\n",
       "      <th>longitude</th>\n",
       "      <th>county</th>\n",
       "    </tr>\n",
       "  </thead>\n",
       "  <tbody>\n",
       "    <tr>\n",
       "      <th>0</th>\n",
       "      <td>4.0</td>\n",
       "      <td>2.0</td>\n",
       "      <td>0.26</td>\n",
       "      <td>8016.0</td>\n",
       "      <td>1764.0</td>\n",
       "      <td>279000.0</td>\n",
       "      <td>2018.0</td>\n",
       "      <td>40.069522</td>\n",
       "      <td>-74.824196</td>\n",
       "      <td>18.0</td>\n",
       "    </tr>\n",
       "    <tr>\n",
       "      <th>1</th>\n",
       "      <td>3.0</td>\n",
       "      <td>2.0</td>\n",
       "      <td>0.22</td>\n",
       "      <td>8016.0</td>\n",
       "      <td>1988.0</td>\n",
       "      <td>299000.0</td>\n",
       "      <td>2016.0</td>\n",
       "      <td>40.069522</td>\n",
       "      <td>-74.824196</td>\n",
       "      <td>18.0</td>\n",
       "    </tr>\n",
       "    <tr>\n",
       "      <th>2</th>\n",
       "      <td>3.0</td>\n",
       "      <td>2.0</td>\n",
       "      <td>0.20</td>\n",
       "      <td>8016.0</td>\n",
       "      <td>1764.0</td>\n",
       "      <td>275000.0</td>\n",
       "      <td>2020.0</td>\n",
       "      <td>40.069522</td>\n",
       "      <td>-74.824196</td>\n",
       "      <td>18.0</td>\n",
       "    </tr>\n",
       "    <tr>\n",
       "      <th>3</th>\n",
       "      <td>5.0</td>\n",
       "      <td>2.0</td>\n",
       "      <td>0.05</td>\n",
       "      <td>8016.0</td>\n",
       "      <td>2104.0</td>\n",
       "      <td>219900.0</td>\n",
       "      <td>2007.0</td>\n",
       "      <td>40.069522</td>\n",
       "      <td>-74.824196</td>\n",
       "      <td>18.0</td>\n",
       "    </tr>\n",
       "    <tr>\n",
       "      <th>4</th>\n",
       "      <td>3.0</td>\n",
       "      <td>1.0</td>\n",
       "      <td>0.28</td>\n",
       "      <td>8016.0</td>\n",
       "      <td>1085.0</td>\n",
       "      <td>259000.0</td>\n",
       "      <td>2016.0</td>\n",
       "      <td>40.069522</td>\n",
       "      <td>-74.824196</td>\n",
       "      <td>18.0</td>\n",
       "    </tr>\n",
       "  </tbody>\n",
       "</table>\n",
       "</div>"
      ],
      "text/plain": [
       "   bed  bath  acre_lot  zip_code  house_size     price  prev_sold_year  \\\n",
       "0  4.0   2.0      0.26    8016.0      1764.0  279000.0          2018.0   \n",
       "1  3.0   2.0      0.22    8016.0      1988.0  299000.0          2016.0   \n",
       "2  3.0   2.0      0.20    8016.0      1764.0  275000.0          2020.0   \n",
       "3  5.0   2.0      0.05    8016.0      2104.0  219900.0          2007.0   \n",
       "4  3.0   1.0      0.28    8016.0      1085.0  259000.0          2016.0   \n",
       "\n",
       "    latitude  longitude  county  \n",
       "0  40.069522 -74.824196    18.0  \n",
       "1  40.069522 -74.824196    18.0  \n",
       "2  40.069522 -74.824196    18.0  \n",
       "3  40.069522 -74.824196    18.0  \n",
       "4  40.069522 -74.824196    18.0  "
      ]
     },
     "execution_count": 12,
     "metadata": {},
     "output_type": "execute_result"
    }
   ],
   "source": [
    "which_dataframe = outliers_df\n",
    "match switches[\"which_normalize\"]:\n",
    "    case \"mean_and_std_df\":\n",
    "        which_dataframe = mean_and_std(params)\n",
    "    case \"scaleminmax_df\":\n",
    "        which_dataframe = scaleminmax(params)\n",
    "    case \"normalizer_df\":\n",
    "        which_dataframe = normalizer(params)\n",
    "\n",
    "which_dataframe.head()"
   ]
  },
  {
   "cell_type": "code",
   "execution_count": 13,
   "id": "c4c7db4d-aa08-4937-9202-edf80f8a91e7",
   "metadata": {},
   "outputs": [
    {
     "data": {
      "text/plain": [
       "acre_lot          0.013009\n",
       "bed               0.453542\n",
       "bath              0.618459\n",
       "house_size        0.361332\n",
       "prev_sold_year    0.031241\n",
       "price             1.000000\n",
       "latitude          0.118985\n",
       "longitude         0.270237\n",
       "Name: price, dtype: float64"
      ]
     },
     "execution_count": 13,
     "metadata": {},
     "output_type": "execute_result"
    }
   ],
   "source": [
    "# \"zip_code\",\"latitude\",\"longitude\",\"county\",\n",
    "norm_features = [\"acre_lot\",\"bed\",\"bath\",\"house_size\",\"prev_sold_year\",\"price\"]\n",
    "\n",
    "match switches[\"features\"]:\n",
    "    case \"allzipcodes\":\n",
    "        norm_features.append(\"zip_code\")\n",
    "    case \"allcounties\":\n",
    "        norm_features.append(\"county\")\n",
    "    case \"lat&long\":\n",
    "        norm_features.append(\"latitude\")\n",
    "        norm_features.append(\"longitude\")\n",
    "        \n",
    "correlation = which_dataframe[norm_features].corr()\n",
    "correlation[\"price\"]"
   ]
  },
  {
   "cell_type": "code",
   "execution_count": 14,
   "id": "22d9ba94-e3e6-415c-ac19-1570fcb83a76",
   "metadata": {},
   "outputs": [],
   "source": [
    "X = which_dataframe[norm_features]\n",
    "X.drop(columns=[\"price\"],inplace=True)\n",
    "y = which_dataframe[\"price\"]\n",
    "X_train, X_test, y_train, y_test = train_test_split(X, y, test_size=0.3, random_state=42)"
   ]
  },
  {
   "cell_type": "code",
   "execution_count": null,
   "id": "ff5fc542-a75a-4d82-8a38-802ac071da9b",
   "metadata": {},
   "outputs": [],
   "source": []
  },
  {
   "cell_type": "code",
   "execution_count": 15,
   "id": "8380d29d-d21d-46cf-a69d-23de325c41a2",
   "metadata": {},
   "outputs": [],
   "source": [
    "if switches[\"model\"] == \"Hist Gradient Boosting\":\n",
    "    histgrboost = HistGradientBoostingRegressor()\n",
    "    model_gscv = GridSearchCV(histgrboost, param_grid={})\n",
    "    histgrboost_model = model_gscv.fit(X_train,y_train)\n",
    "    model_predictions = histgrboost_model.predict(X_test)"
   ]
  },
  {
   "cell_type": "code",
   "execution_count": 16,
   "id": "6a9ceae3-12ce-408d-9b58-c50ebb45654a",
   "metadata": {},
   "outputs": [],
   "source": [
    "if switches[\"model\"] == \"Gradient Boosting\":\n",
    "    grboost = GradientBoostingRegressor()\n",
    "    model_gscv = GridSearchCV(grboost, param_grid={})\n",
    "    grboost_model = model_gscv.fit(X_train,y_train)\n",
    "    model_predictions = grboost_model.predict(X_test)"
   ]
  },
  {
   "cell_type": "code",
   "execution_count": 17,
   "id": "ab151e94-bd21-4578-9c0b-07e63acf1625",
   "metadata": {},
   "outputs": [],
   "source": [
    "if switches[\"model\"] == \"Adaboost\":\n",
    "    adaboost = AdaBoostRegressor()\n",
    "    model_gscv = GridSearchCV(adaboost, param_grid={})\n",
    "    adaboost_model = model_gscv.fit(X_train,y_train)\n",
    "    model_predictions = adaboost_model.predict(X_test)"
   ]
  },
  {
   "cell_type": "code",
   "execution_count": 18,
   "id": "f65b9581-9297-4399-9cad-3b5e3bf14031",
   "metadata": {},
   "outputs": [],
   "source": [
    "if switches[\"model\"] == \"Random Forest\":\n",
    "    rf = RandomForestRegressor()\n",
    "    model_gscv = GridSearchCV(rf, param_grid={})\n",
    "    rf_model = model_gscv.fit(X_train,y_train)\n",
    "    model_predictions = rf_model.predict(X_test)"
   ]
  },
  {
   "cell_type": "code",
   "execution_count": null,
   "id": "0dd779dc-1429-4fa2-86e9-c7c930e21d64",
   "metadata": {},
   "outputs": [],
   "source": []
  },
  {
   "cell_type": "code",
   "execution_count": 19,
   "id": "c106fd4b-6658-4175-b09f-becb1c51f10f",
   "metadata": {},
   "outputs": [],
   "source": [
    "pms_config = {\n",
    "    \"title\":switches[\"model\"],\n",
    "    \"y_param\":y_test, \n",
    "    \"predictions\":model_predictions, \n",
    "    \"gscv\":model_gscv\n",
    "}"
   ]
  },
  {
   "cell_type": "code",
   "execution_count": 20,
   "id": "edb393be-c7d1-4a21-8600-f5e3820e85ff",
   "metadata": {},
   "outputs": [
    {
     "name": "stdout",
     "output_type": "stream",
     "text": [
      "Hist Gradient Boosting EVS = 0.718048047\n",
      "Hist Gradient Boosting MSE = 50,759,356,575.610619\n",
      "Hist Gradient Boosting MAE = 128,934.917338\n",
      "Hist Gradient Boosting R2 = 0.718037\n",
      "Hist Gradient Boosting Fit Time = 0.5146624565124511\n"
     ]
    }
   ],
   "source": [
    "results = print_more_stuff(pms_config)\n",
    "results[\"features\"] = switches[\"features\"]\n",
    "results[\"normalized\"] = switches[\"which_normalize\"]"
   ]
  },
  {
   "cell_type": "code",
   "execution_count": null,
   "id": "10d55b31-c075-49b6-86c0-d320c9950ad8",
   "metadata": {},
   "outputs": [],
   "source": []
  },
  {
   "cell_type": "code",
   "execution_count": 21,
   "id": "96cadc2d-8cc9-44f6-ad75-89c08c737dcf",
   "metadata": {},
   "outputs": [],
   "source": [
    "predict_df = pd.DataFrame(model_predictions).reset_index()\n",
    "predict_df.rename(columns={0: \"prediction\"},inplace=True)\n",
    "\n",
    "y_test_df = pd.DataFrame(y_test).reset_index()"
   ]
  },
  {
   "cell_type": "code",
   "execution_count": 22,
   "id": "a08f6a4c-6a26-4249-ab97-d55fcd394fac",
   "metadata": {},
   "outputs": [
    {
     "data": {
      "image/png": "[encoded data removed]",
      "text/plain": [
       "<Figure size 1000x600 with 1 Axes>"
      ]
     },
     "metadata": {},
     "output_type": "display_data"
    }
   ],
   "source": [
    "fig, ax = plt.subplots(figsize=(10, 6))\n",
    "\n",
    "ax.ticklabel_format(style='plain')\n",
    "ax.yaxis.set_major_formatter('${x:1,.0f}')\n",
    "ax.xaxis.set_major_formatter(' ')\n",
    "\n",
    "plt.scatter(y_test_df.index,y_test_df[\"price\"], color=\"red\")\n",
    "plt.scatter(predict_df.index,predict_df[\"prediction\"], color=\"green\")\n",
    "plt.show()"
   ]
  },
  {
   "cell_type": "code",
   "execution_count": 23,
   "id": "3c20ee5f-5277-40ac-a78e-848f92f1c45a",
   "metadata": {},
   "outputs": [
    {
     "data": {
      "text/plain": [
       "{'model': 'Hist Gradient Boosting',\n",
       " 'explained variance score': '0.718048047',\n",
       " 'mae score': '128,934.917338',\n",
       " 'mse score': '50,759,356,575.610619',\n",
       " 'r2 score': '0.718037',\n",
       " 'mean fit time': 0.5146624565124511,\n",
       " 'features': 'lat&long',\n",
       " 'normalized': ''}"
      ]
     },
     "execution_count": 23,
     "metadata": {},
     "output_type": "execute_result"
    }
   ],
   "source": [
    "results"
   ]
  },
  {
   "cell_type": "code",
   "execution_count": 24,
   "id": "3bd877c8-5fca-4bfc-9037-131324aea166",
   "metadata": {},
   "outputs": [],
   "source": [
    "with open(\"nj/normalize.json\", 'r+') as file:\n",
    "        file_data = json.load(file)\n",
    "        file_data.append(results)\n",
    "        file.seek(0)\n",
    "        json.dump(file_data, file, indent=4)"
   ]
  },
  {
   "cell_type": "code",
   "execution_count": 25,
   "id": "7242b7b4-4c97-4eb5-ac0e-263c8b31d6c4",
   "metadata": {},
   "outputs": [
    {
     "data": {
      "text/html": [
       "<div>\n",
       "<style scoped>\n",
       "    .dataframe tbody tr th:only-of-type {\n",
       "        vertical-align: middle;\n",
       "    }\n",
       "\n",
       "    .dataframe tbody tr th {\n",
       "        vertical-align: top;\n",
       "    }\n",
       "\n",
       "    .dataframe thead th {\n",
       "        text-align: right;\n",
       "    }\n",
       "</style>\n",
       "<table border=\"1\" class=\"dataframe\">\n",
       "  <thead>\n",
       "    <tr style=\"text-align: right;\">\n",
       "      <th></th>\n",
       "      <th>explained variance score</th>\n",
       "      <th>mae score</th>\n",
       "      <th>mse score</th>\n",
       "      <th>r2 score</th>\n",
       "      <th>mean fit time</th>\n",
       "      <th>features</th>\n",
       "      <th>normalized</th>\n",
       "    </tr>\n",
       "    <tr>\n",
       "      <th>model</th>\n",
       "      <th></th>\n",
       "      <th></th>\n",
       "      <th></th>\n",
       "      <th></th>\n",
       "      <th></th>\n",
       "      <th></th>\n",
       "      <th></th>\n",
       "    </tr>\n",
       "  </thead>\n",
       "  <tbody>\n",
       "    <tr>\n",
       "      <th>Hist Gradient Boosting</th>\n",
       "      <td>0.481035</td>\n",
       "      <td>0.001929</td>\n",
       "      <td>0.000010</td>\n",
       "      <td>0.480975</td>\n",
       "      <td>0.188943</td>\n",
       "      <td></td>\n",
       "      <td>normalizer_df</td>\n",
       "    </tr>\n",
       "    <tr>\n",
       "      <th>Hist Gradient Boosting</th>\n",
       "      <td>0.483043</td>\n",
       "      <td>0.449206</td>\n",
       "      <td>0.534636</td>\n",
       "      <td>0.483006</td>\n",
       "      <td>0.262972</td>\n",
       "      <td></td>\n",
       "      <td>mean_and_std_df</td>\n",
       "    </tr>\n",
       "    <tr>\n",
       "      <th>Hist Gradient Boosting</th>\n",
       "      <td>0.489291</td>\n",
       "      <td>0.061268</td>\n",
       "      <td>0.009884</td>\n",
       "      <td>0.489262</td>\n",
       "      <td>0.273695</td>\n",
       "      <td></td>\n",
       "      <td>scaleminmax_df</td>\n",
       "    </tr>\n",
       "    <tr>\n",
       "      <th>Hist Gradient Boosting</th>\n",
       "      <td>0.612969</td>\n",
       "      <td>0.050112</td>\n",
       "      <td>0.007492</td>\n",
       "      <td>0.612846</td>\n",
       "      <td>0.522150</td>\n",
       "      <td>allcounties</td>\n",
       "      <td>scaleminmax_df</td>\n",
       "    </tr>\n",
       "    <tr>\n",
       "      <th>Hist Gradient Boosting</th>\n",
       "      <td>0.652318</td>\n",
       "      <td>0.047352</td>\n",
       "      <td>0.006729</td>\n",
       "      <td>0.652299</td>\n",
       "      <td>0.546029</td>\n",
       "      <td>allzipcodes</td>\n",
       "      <td>scaleminmax_df</td>\n",
       "    </tr>\n",
       "    <tr>\n",
       "      <th>Gradient Boosting</th>\n",
       "      <td>0.661592</td>\n",
       "      <td>0.348391</td>\n",
       "      <td>0.350000</td>\n",
       "      <td>0.661549</td>\n",
       "      <td>0.727419</td>\n",
       "      <td>lat&amp;long</td>\n",
       "      <td>mean_and_std_df</td>\n",
       "    </tr>\n",
       "    <tr>\n",
       "      <th>Hist Gradient Boosting</th>\n",
       "      <td>0.697179</td>\n",
       "      <td>0.001384</td>\n",
       "      <td>0.000006</td>\n",
       "      <td>0.697147</td>\n",
       "      <td>0.306650</td>\n",
       "      <td>lat&amp;long</td>\n",
       "      <td>normalizer_df</td>\n",
       "    </tr>\n",
       "    <tr>\n",
       "      <th>Hist Gradient Boosting</th>\n",
       "      <td>0.717307</td>\n",
       "      <td>0.310369</td>\n",
       "      <td>0.292392</td>\n",
       "      <td>0.717257</td>\n",
       "      <td>0.625366</td>\n",
       "      <td>lat&amp;long</td>\n",
       "      <td>mean_and_std_df</td>\n",
       "    </tr>\n",
       "    <tr>\n",
       "      <th>Hist Gradient Boosting</th>\n",
       "      <td>0.717493</td>\n",
       "      <td>0.042356</td>\n",
       "      <td>0.005467</td>\n",
       "      <td>0.717474</td>\n",
       "      <td>0.558953</td>\n",
       "      <td>lat&amp;long</td>\n",
       "      <td>scaleminmax_df</td>\n",
       "    </tr>\n",
       "    <tr>\n",
       "      <th>Hist Gradient Boosting</th>\n",
       "      <td>0.718048</td>\n",
       "      <td>128,934.917338</td>\n",
       "      <td>50,759,356,575.610619</td>\n",
       "      <td>0.718037</td>\n",
       "      <td>0.514662</td>\n",
       "      <td>lat&amp;long</td>\n",
       "      <td></td>\n",
       "    </tr>\n",
       "  </tbody>\n",
       "</table>\n",
       "</div>"
      ],
      "text/plain": [
       "                        explained variance score       mae score  \\\n",
       "model                                                              \n",
       "Hist Gradient Boosting                  0.481035        0.001929   \n",
       "Hist Gradient Boosting                  0.483043        0.449206   \n",
       "Hist Gradient Boosting                  0.489291        0.061268   \n",
       "Hist Gradient Boosting                  0.612969        0.050112   \n",
       "Hist Gradient Boosting                  0.652318        0.047352   \n",
       "Gradient Boosting                       0.661592        0.348391   \n",
       "Hist Gradient Boosting                  0.697179        0.001384   \n",
       "Hist Gradient Boosting                  0.717307        0.310369   \n",
       "Hist Gradient Boosting                  0.717493        0.042356   \n",
       "Hist Gradient Boosting                  0.718048  128,934.917338   \n",
       "\n",
       "                                    mse score  r2 score  mean fit time  \\\n",
       "model                                                                    \n",
       "Hist Gradient Boosting               0.000010  0.480975       0.188943   \n",
       "Hist Gradient Boosting               0.534636  0.483006       0.262972   \n",
       "Hist Gradient Boosting               0.009884  0.489262       0.273695   \n",
       "Hist Gradient Boosting               0.007492  0.612846       0.522150   \n",
       "Hist Gradient Boosting               0.006729  0.652299       0.546029   \n",
       "Gradient Boosting                    0.350000  0.661549       0.727419   \n",
       "Hist Gradient Boosting               0.000006  0.697147       0.306650   \n",
       "Hist Gradient Boosting               0.292392  0.717257       0.625366   \n",
       "Hist Gradient Boosting               0.005467  0.717474       0.558953   \n",
       "Hist Gradient Boosting  50,759,356,575.610619  0.718037       0.514662   \n",
       "\n",
       "                           features       normalized  \n",
       "model                                                 \n",
       "Hist Gradient Boosting                 normalizer_df  \n",
       "Hist Gradient Boosting               mean_and_std_df  \n",
       "Hist Gradient Boosting                scaleminmax_df  \n",
       "Hist Gradient Boosting  allcounties   scaleminmax_df  \n",
       "Hist Gradient Boosting  allzipcodes   scaleminmax_df  \n",
       "Gradient Boosting          lat&long  mean_and_std_df  \n",
       "Hist Gradient Boosting     lat&long    normalizer_df  \n",
       "Hist Gradient Boosting     lat&long  mean_and_std_df  \n",
       "Hist Gradient Boosting     lat&long   scaleminmax_df  \n",
       "Hist Gradient Boosting     lat&long                   "
      ]
     },
     "execution_count": 25,
     "metadata": {},
     "output_type": "execute_result"
    }
   ],
   "source": [
    "results_df = pd.read_json(\"nj/normalize.json\")\n",
    "\n",
    "model_comparisons = results_df.set_index('model').sort_values(\"r2 score\", ascending=True)\n",
    "model_comparisons"
   ]
  },
  {
   "cell_type": "code",
   "execution_count": null,
   "id": "1c925bf3-6942-41a4-a88c-1e498a41a17c",
   "metadata": {},
   "outputs": [],
   "source": []
  }
 ],
 "metadata": {
  "kernelspec": {
   "display_name": "Python 3 (ipykernel)",
   "language": "python",
   "name": "python3"
  },
  "language_info": {
   "codemirror_mode": {
    "name": "ipython",
    "version": 3
   },
   "file_extension": ".py",
   "mimetype": "text/x-python",
   "name": "python",
   "nbconvert_exporter": "python",
   "pygments_lexer": "ipython3",
   "version": "3.11.8"
  }
 },
 "nbformat": 4,
 "nbformat_minor": 5
}
